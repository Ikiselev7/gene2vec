{
 "cells": [
  {
   "cell_type": "markdown",
   "metadata": {},
   "source": [
    "It is first part of word2vec pipeline\n",
    "\n",
    "<b>ngram extractor from gene sequence</b>"
   ]
  },
  {
   "cell_type": "code",
   "execution_count": 1,
   "metadata": {},
   "outputs": [],
   "source": [
    "import numpy as np\n",
    "import os\n",
    "import csv\n",
    "from timeit import default_timer as timer\n",
    "\n",
    "from Bio import SeqIO\n",
    "from nltk.util import ngrams\n",
    "from collections import OrderedDict"
   ]
  },
  {
   "cell_type": "markdown",
   "metadata": {},
   "source": [
    "### Read seq"
   ]
  },
  {
   "cell_type": "code",
   "execution_count": 2,
   "metadata": {},
   "outputs": [],
   "source": [
    "path_gene_nuc = '../../sf_data/prodigal_output/gene_nuc/'"
   ]
  },
  {
   "cell_type": "code",
   "execution_count": 3,
   "metadata": {},
   "outputs": [
    {
     "data": {
      "text/plain": [
       "['Bacillus_amyloliquefaciens',\n",
       " 'Bacillus_atrophaeus',\n",
       " 'Bacillus_halotolerans',\n",
       " 'Bacillus_licheniformis',\n",
       " 'Bacillus_mojavensis',\n",
       " 'Bacillus_paralicheniformis',\n",
       " 'Bacillus_siamensis',\n",
       " 'Bacillus_sonorensis',\n",
       " 'Bacillus_subtilis',\n",
       " 'Bacillus_tequilensis',\n",
       " 'Bacillus_vallismortis',\n",
       " 'Bacillus_velezensis']"
      ]
     },
     "execution_count": 3,
     "metadata": {},
     "output_type": "execute_result"
    }
   ],
   "source": [
    "organisms_names = [f[:f.index('_', f.index('_') + 1)] for f in os.listdir(path_gene_nuc)]\n",
    "organisms_names"
   ]
  },
  {
   "cell_type": "code",
   "execution_count": 4,
   "metadata": {},
   "outputs": [],
   "source": [
    "full_path_gene_nuc = [path_gene_nuc + f for f in os.listdir(path_gene_nuc)]"
   ]
  },
  {
   "cell_type": "code",
   "execution_count": 5,
   "metadata": {},
   "outputs": [],
   "source": [
    "organisms = [SeqIO.parse(gene_nuc_file, 'fasta') for gene_nuc_file in full_path_gene_nuc]\n",
    "org_gene_lst = []\n",
    "\n",
    "for (id_org, organism), org_name in zip(enumerate(organisms), organisms_names):\n",
    "    for gene_record in organism:\n",
    "        org_gene_lst.append(('_'.join((str(id_org), org_name)), gene_record.id,\n",
    "                             str(gene_record.seq).replace('N', '')))"
   ]
  },
  {
   "cell_type": "code",
   "execution_count": 6,
   "metadata": {},
   "outputs": [
    {
     "data": {
      "text/plain": [
       "('0_Bacillus_amyloliquefaciens',\n",
       " 'NC_014551.1_8',\n",
       " 'ATGACGTCAAATCATCATGCCCCTTATGACCTGGGCTACACACGTGCTACAATGGGCAGAACAAAGGGCAGCGAAACCGCGAGGTTAAGCCAATCCCACAAATCTGTTCTCAGTTCGGATCGCAGTCTGCAACTCGACTGCGTGAAGCTGGAATCGCTAGTAATCGCGGATCAGCATGCCGCGGTGAATACGTTCCCGGGCCTTGTACACACCGCCCGTCACACCACGAGAGTTTGTAACACCCGAAGTCGGTGA')"
      ]
     },
     "execution_count": 6,
     "metadata": {},
     "output_type": "execute_result"
    }
   ],
   "source": [
    "org_gene_lst[7]"
   ]
  },
  {
   "cell_type": "code",
   "execution_count": 7,
   "metadata": {},
   "outputs": [
    {
     "data": {
      "text/plain": [
       "('11_Bacillus_velezensis',\n",
       " 'NZ_CP011937.1_3760',\n",
       " 'TTGTGGATAAGTTGTGAAAAAGACAGGAAACACAGCCTATCCACATGTGGACAGACTGTGTATGGCTATGAAAAAGTTATTCACACTTTCCCCGATTCATCCGAGGACACT')"
      ]
     },
     "execution_count": 7,
     "metadata": {},
     "output_type": "execute_result"
    }
   ],
   "source": [
    "org_gene_lst[-1]"
   ]
  },
  {
   "cell_type": "code",
   "execution_count": 52,
   "metadata": {},
   "outputs": [
    {
     "data": {
      "text/plain": [
       "49807"
      ]
     },
     "execution_count": 52,
     "metadata": {},
     "output_type": "execute_result"
    }
   ],
   "source": [
    "len(org_gene_lst)"
   ]
  },
  {
   "cell_type": "markdown",
   "metadata": {},
   "source": [
    "### func: n-gram extractor (save order (3,8))\n",
    "Based on my Simple algorithm"
   ]
  },
  {
   "cell_type": "markdown",
   "metadata": {},
   "source": [
    "Input: [(org_id + org_name, gene_id, gene_seq)]\n",
    "\n",
    "Output: [(org_id + org_name, gene_id, gene_seq, [ngram_seq])]"
   ]
  },
  {
   "cell_type": "code",
   "execution_count": 60,
   "metadata": {},
   "outputs": [],
   "source": [
    "def ngram_extractor_csv(file_name, org_g_lst, n_min=3, n_max=3):\n",
    "    ngram_range = list(range(n_min, n_max+1))\n",
    "    \n",
    "    with open(file_name, mode='w') as ngrams_file:\n",
    "        ngrams_writer = csv.writer(ngrams_file, delimiter=',',\n",
    "                                   quotechar='\"', quoting=csv.QUOTE_MINIMAL)\n",
    "        \n",
    "        start = timer()\n",
    "        \n",
    "        for (g_num, (org, g_id, g_seq)) in enumerate(org_g_lst):\n",
    "            if(g_num) % 100 == 0:\n",
    "                print(f'time: {timer()-start:.2} sec\\tid_gene={g_num}')\n",
    "            \n",
    "            ngrams_with_order = []\n",
    "            \n",
    "            [ngrams_with_order.append(g_seq[indx:indx+n])\\\n",
    "             for indx in range(len(g_seq) - (n_min-1))\n",
    "             for n in ngram_range\n",
    "             if (indx+n) <= len(g_seq)]\n",
    "\n",
    "            ngrams_writer.writerow((org, g_id, g_seq, ngrams_with_order))"
   ]
  },
  {
   "cell_type": "code",
   "execution_count": null,
   "metadata": {},
   "outputs": [],
   "source": [
    "# rather quick\n",
    "# 310 sec for all genes!\n",
    "\n",
    "start = timer()\n",
    "\n",
    "for n in range(5):\n",
    "    gene_number = 10000\n",
    "    min_bound = n*gene_number\n",
    "    max_bound = min((n+1)*gene_number-1, len(org_gene_lst)-1)\n",
    "    \n",
    "    csv_name = 'data/gene_ngrams_' + str(min_bound) + '_' + str(max_bound) + '.csv'\n",
    "    \n",
    "    print(f'{min_bound}-{max_bound} genes:\\n')\n",
    "    ngram_extractor_csv(csv_name, org_gene_lst[min_bound:max_bound+1], n_min=3, n_max=8)\n",
    "    \n",
    "    print(f'\\n=====\\ntotal time: {timer()-start:.2} sec\\t({min_bound}-{max_bound} genes)\\n\\n')"
   ]
  },
  {
   "cell_type": "code",
   "execution_count": null,
   "metadata": {},
   "outputs": [],
   "source": []
  }
 ],
 "metadata": {
  "kernelspec": {
   "display_name": "Python 3",
   "language": "python",
   "name": "python3"
  },
  "language_info": {
   "codemirror_mode": {
    "name": "ipython",
    "version": 3
   },
   "file_extension": ".py",
   "mimetype": "text/x-python",
   "name": "python",
   "nbconvert_exporter": "python",
   "pygments_lexer": "ipython3",
   "version": "3.7.3"
  }
 },
 "nbformat": 4,
 "nbformat_minor": 2
}
