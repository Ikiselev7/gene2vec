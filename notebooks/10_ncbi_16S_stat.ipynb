{
 "cells": [
  {
   "cell_type": "code",
   "execution_count": 1,
   "metadata": {},
   "outputs": [],
   "source": [
    "import os\n",
    "from Bio import SeqIO\n",
    "import statistics\n",
    "import pandas as pd\n",
    "import matplotlib.pyplot as plt\n",
    "%matplotlib inline\n",
    "\n",
    "import matplotlib.style as style\n",
    "style.use('seaborn-notebook')"
   ]
  },
  {
   "cell_type": "code",
   "execution_count": 2,
   "metadata": {},
   "outputs": [],
   "source": [
    "folder = '../data/ncbi_16S_genes/'"
   ]
  },
  {
   "cell_type": "code",
   "execution_count": 3,
   "metadata": {},
   "outputs": [],
   "source": [
    "taxon_folders = [f for f in os.listdir(folder) if '.ipynb' not in f]"
   ]
  },
  {
   "cell_type": "code",
   "execution_count": 4,
   "metadata": {},
   "outputs": [],
   "source": [
    "fasta_files = []\n",
    "\n",
    "for taxon in taxon_folders:\n",
    "    files = [f for f in os.listdir(folder+taxon) if '.ipynb' not in f]\n",
    "    \n",
    "    sub_taxon_folders = [(folder+taxon+'/'+f+'/') for f in files if '.fasta' not in f]\n",
    "    fasta_files.extend([(folder+taxon+'/'+f) for f in files if '.fasta' in f])\n",
    "    \n",
    "    for sub_taxon in sub_taxon_folders:\n",
    "        fasta_files.extend([(sub_taxon+f) for f in os.listdir(sub_taxon) if '.ipynb' not in f])"
   ]
  },
  {
   "cell_type": "code",
   "execution_count": 5,
   "metadata": {},
   "outputs": [],
   "source": [
    "genes_16S = [SeqIO.parse(file_16S, 'fasta') for file_16S in fasta_files]"
   ]
  },
  {
   "cell_type": "code",
   "execution_count": 6,
   "metadata": {},
   "outputs": [],
   "source": [
    "g16S = []\n",
    "\n",
    "for gene_16S in genes_16S:\n",
    "    for gene_record in gene_16S:\n",
    "        g16S.append(gene_record.seq)"
   ]
  },
  {
   "cell_type": "markdown",
   "metadata": {},
   "source": [
    "## Statistics"
   ]
  },
  {
   "cell_type": "code",
   "execution_count": 7,
   "metadata": {},
   "outputs": [
    {
     "data": {
      "text/plain": [
       "21677"
      ]
     },
     "execution_count": 7,
     "metadata": {},
     "output_type": "execute_result"
    }
   ],
   "source": [
    "lengths_16S = [len(g) for g in g16S]\n",
    "len(lengths_16S)"
   ]
  },
  {
   "cell_type": "code",
   "execution_count": 8,
   "metadata": {},
   "outputs": [
    {
     "name": "stdout",
     "output_type": "stream",
     "text": [
      "[1401, 1412, 1410, 1447, 1398, 1432, 1398, 1398, 1398, 1398]\n",
      "[1421, 1421, 1421, 1421, 1421, 1421, 1421, 1421, 1338, 1327]\n"
     ]
    }
   ],
   "source": [
    "print(lengths_16S[:10])\n",
    "print(lengths_16S[-10:])"
   ]
  },
  {
   "cell_type": "code",
   "execution_count": 9,
   "metadata": {},
   "outputs": [
    {
     "data": {
      "text/plain": [
       "(60, 5670)"
      ]
     },
     "execution_count": 9,
     "metadata": {},
     "output_type": "execute_result"
    }
   ],
   "source": [
    "min(lengths_16S), max(lengths_16S)"
   ]
  },
  {
   "cell_type": "code",
   "execution_count": 10,
   "metadata": {},
   "outputs": [
    {
     "name": "stdout",
     "output_type": "stream",
     "text": [
      "mean:  1007.86\n",
      "median:  1139\n",
      "mode:  497\n"
     ]
    }
   ],
   "source": [
    "print('mean: ', round(statistics.mean(lengths_16S), 2))\n",
    "print('median: ', statistics.median(lengths_16S))\n",
    "print('mode: ', statistics.mode(lengths_16S))"
   ]
  },
  {
   "cell_type": "code",
   "execution_count": 11,
   "metadata": {},
   "outputs": [
    {
     "data": {
      "image/png": "[encoded data removed]",
      "text/plain": [
       "<Figure size 432x288 with 1 Axes>"
      ]
     },
     "metadata": {
      "needs_background": "light"
     },
     "output_type": "display_data"
    }
   ],
   "source": [
    "plt.boxplot(lengths_16S, vert=False)\n",
    "plt.xlabel('gene length')\n",
    "plt.title('16S lengths box-plot');"
   ]
  },
  {
   "cell_type": "code",
   "execution_count": 12,
   "metadata": {},
   "outputs": [
    {
     "data": {
      "image/png": "[encoded data removed]",
      "text/plain": [
       "<Figure size 432x288 with 1 Axes>"
      ]
     },
     "metadata": {
      "needs_background": "light"
     },
     "output_type": "display_data"
    }
   ],
   "source": [
    "plt.hist(lengths_16S, bins=50)\n",
    "plt.xlabel('gene length')\n",
    "plt.title('16S lengths Histogram');"
   ]
  },
  {
   "cell_type": "code",
   "execution_count": 13,
   "metadata": {},
   "outputs": [
    {
     "data": {
      "image/png": "[encoded data removed]",
      "text/plain": [
       "<Figure size 432x288 with 1 Axes>"
      ]
     },
     "metadata": {
      "needs_background": "light"
     },
     "output_type": "display_data"
    }
   ],
   "source": [
    "pd.DataFrame(lengths_16S).plot.kde()\n",
    "plt.xlabel('gene length')\n",
    "plt.title('16S lengths Kernel Density Estimation');"
   ]
  },
  {
   "cell_type": "markdown",
   "metadata": {},
   "source": [
    "### Values in the interval"
   ]
  },
  {
   "cell_type": "code",
   "execution_count": 16,
   "metadata": {},
   "outputs": [],
   "source": [
    "sorted_lengths_16S = sorted(lengths_16S)\n",
    "\n",
    "# количество генов 16S, длина которых попала в интервал (включительно)\n",
    "def count_16S_lens(inter_min, inter_max):\n",
    "    idx_min = 0\n",
    "    idx_max = len(sorted_lengths_16S)-1\n",
    "    \n",
    "    for idx, el in enumerate(sorted_lengths_16S):\n",
    "        if el >= inter_min:\n",
    "            idx_min = idx\n",
    "            break\n",
    "            \n",
    "    for idx, el in enumerate(sorted_lengths_16S):\n",
    "        if el > inter_max:\n",
    "            idx_max = idx-1\n",
    "            break\n",
    "    \n",
    "    return idx_max - idx_min + 1"
   ]
  },
  {
   "cell_type": "code",
   "execution_count": 19,
   "metadata": {},
   "outputs": [
    {
     "data": {
      "text/plain": [
       "4320"
      ]
     },
     "execution_count": 19,
     "metadata": {},
     "output_type": "execute_result"
    }
   ],
   "source": [
    "count_16S_lens(100, 500)"
   ]
  },
  {
   "cell_type": "code",
   "execution_count": null,
   "metadata": {},
   "outputs": [],
   "source": []
  },
  {
   "cell_type": "code",
   "execution_count": null,
   "metadata": {},
   "outputs": [],
   "source": []
  }
 ],
 "metadata": {
  "kernelspec": {
   "display_name": "Python 3",
   "language": "python",
   "name": "python3"
  },
  "language_info": {
   "codemirror_mode": {
    "name": "ipython",
    "version": 3
   },
   "file_extension": ".py",
   "mimetype": "text/x-python",
   "name": "python",
   "nbconvert_exporter": "python",
   "pygments_lexer": "ipython3",
   "version": "3.6.8"
  }
 },
 "nbformat": 4,
 "nbformat_minor": 2
}
