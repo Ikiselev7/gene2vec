{
 "cells": [
  {
   "cell_type": "markdown",
   "metadata": {},
   "source": [
    "<b>In this notebook calculations for 5-grams and 8-grams should be done separately not to overload the memory and kill the kernel!</b>"
   ]
  },
  {
   "cell_type": "code",
   "execution_count": 1,
   "metadata": {},
   "outputs": [],
   "source": [
    "import os\n",
    "from timeit import default_timer as timer\n",
    "\n",
    "import warnings\n",
    "warnings.filterwarnings('ignore')\n",
    "\n",
    "import pandas as pd\n",
    "import numpy as np\n",
    "from Bio import SeqIO\n",
    "from gensim.models import Word2Vec\n",
    "\n",
    "import multiprocessing"
   ]
  },
  {
   "cell_type": "markdown",
   "metadata": {},
   "source": [
    "### Read .fasta files (49000 genes)"
   ]
  },
  {
   "cell_type": "code",
   "execution_count": 2,
   "metadata": {},
   "outputs": [],
   "source": [
    "path_gene_nuc = '../../sf_data/prodigal_output/gene_nuc/'\n",
    "organisms_names = [f[:f.index('_', f.index('_') + 1)] for f in os.listdir(path_gene_nuc)]\n",
    "full_path_gene_nuc = [path_gene_nuc + f for f in os.listdir(path_gene_nuc)]"
   ]
  },
  {
   "cell_type": "code",
   "execution_count": 3,
   "metadata": {},
   "outputs": [],
   "source": [
    "organisms = [SeqIO.parse(gene_nuc_file, 'fasta') for gene_nuc_file in full_path_gene_nuc]\n",
    "org_gene_lst = []\n",
    "\n",
    "for (id_org, organism), org_name in zip(enumerate(organisms), organisms_names):\n",
    "    for gene_record in organism:\n",
    "        org_gene_lst.append(('_'.join((str(id_org), org_name)), gene_record.id,\n",
    "                             str(gene_record.seq).replace('N', '')))"
   ]
  },
  {
   "cell_type": "code",
   "execution_count": 4,
   "metadata": {},
   "outputs": [],
   "source": [
    "del path_gene_nuc\n",
    "del organisms\n",
    "del organisms_names\n",
    "del full_path_gene_nuc"
   ]
  },
  {
   "cell_type": "code",
   "execution_count": 5,
   "metadata": {},
   "outputs": [
    {
     "data": {
      "text/plain": [
       "49807"
      ]
     },
     "execution_count": 5,
     "metadata": {},
     "output_type": "execute_result"
    }
   ],
   "source": [
    "len(org_gene_lst)"
   ]
  },
  {
   "cell_type": "code",
   "execution_count": 6,
   "metadata": {},
   "outputs": [
    {
     "data": {
      "text/plain": [
       "('0_Bacillus_amyloliquefaciens',\n",
       " 'NC_014551.1_8',\n",
       " 'ATGACGTCAAATCATCATGCCCCTTATGACCTGGGCTACACACGTGCTACAATGGGCAGAACAAAGGGCAGCGAAACCGCGAGGTTAAGCCAATCCCACAAATCTGTTCTCAGTTCGGATCGCAGTCTGCAACTCGACTGCGTGAAGCTGGAATCGCTAGTAATCGCGGATCAGCATGCCGCGGTGAATACGTTCCCGGGCCTTGTACACACCGCCCGTCACACCACGAGAGTTTGTAACACCCGAAGTCGGTGA')"
      ]
     },
     "execution_count": 6,
     "metadata": {},
     "output_type": "execute_result"
    }
   ],
   "source": [
    "org_gene_lst[7]"
   ]
  },
  {
   "cell_type": "markdown",
   "metadata": {},
   "source": [
    "### Extract ngrams (5grams and 8grams)"
   ]
  },
  {
   "cell_type": "code",
   "execution_count": 7,
   "metadata": {},
   "outputs": [],
   "source": [
    "def ngram_extractor2(org_g_lst, n_min=3, n_max=3):\n",
    "    ngram_range = list(range(min(n_min,n_max), max(n_min+1, n_max+1)))\n",
    "    \n",
    "    ngrams_result = []\n",
    "    \n",
    "    start = timer()\n",
    "    for (g_num, (org, g_id, g_seq)) in enumerate(org_g_lst):\n",
    "        if(g_num) % 100 == 0:\n",
    "            print(f'time: {timer()-start:.2} sec\\tid_gene={g_num}')\n",
    "        \n",
    "        ngrams_with_order = []\n",
    "        \n",
    "        [ngrams_with_order.append(g_seq[indx:indx+n])\n",
    "         for indx in range(len(g_seq) - (n_min-1))\n",
    "         for n in ngram_range\n",
    "         if (indx+n) <= len(g_seq)]\n",
    "        \n",
    "        ngrams_result.append(ngrams_with_order)\n",
    "        \n",
    "    return ngrams_result"
   ]
  },
  {
   "cell_type": "code",
   "execution_count": 40,
   "metadata": {
    "scrolled": true
   },
   "outputs": [],
   "source": [
    "all_genes_5grams = ngram_extractor2(org_gene_lst, n_min=5, n_max=5)"
   ]
  },
  {
   "cell_type": "code",
   "execution_count": 9,
   "metadata": {},
   "outputs": [
    {
     "data": {
      "text/plain": [
       "49807"
      ]
     },
     "execution_count": 9,
     "metadata": {},
     "output_type": "execute_result"
    }
   ],
   "source": [
    "len(all_genes_5grams)"
   ]
  },
  {
   "cell_type": "code",
   "execution_count": null,
   "metadata": {},
   "outputs": [],
   "source": [
    "# del all_genes_5grams"
   ]
  },
  {
   "cell_type": "code",
   "execution_count": null,
   "metadata": {},
   "outputs": [],
   "source": [
    "all_genes_8grams = ngram_extractor2(org_gene_lst, n_min=8, n_max=8)"
   ]
  },
  {
   "cell_type": "code",
   "execution_count": null,
   "metadata": {},
   "outputs": [],
   "source": [
    "len(all_genes_8grams)"
   ]
  },
  {
   "cell_type": "code",
   "execution_count": null,
   "metadata": {},
   "outputs": [],
   "source": [
    "# del all_genes_8grams"
   ]
  },
  {
   "cell_type": "markdown",
   "metadata": {},
   "source": [
    "### Train word2vec model (on 49000 genes, 5grams or 8grams)"
   ]
  },
  {
   "cell_type": "markdown",
   "metadata": {},
   "source": [
    "#### 5-grams"
   ]
  },
  {
   "cell_type": "code",
   "execution_count": 10,
   "metadata": {},
   "outputs": [],
   "source": [
    "path_w2v_model_5 = 'dna2vec_data/word2vec_49000genes_5grams_size300.model'"
   ]
  },
  {
   "cell_type": "code",
   "execution_count": 11,
   "metadata": {},
   "outputs": [],
   "source": [
    "num_features = 300\n",
    "context_size = 5\n",
    "min_count = 1\n",
    "num_workers = multiprocessing.cpu_count()\n",
    "seed = 42"
   ]
  },
  {
   "cell_type": "code",
   "execution_count": 12,
   "metadata": {},
   "outputs": [],
   "source": [
    "model_5 = Word2Vec(size=num_features,\n",
    "                 window=context_size,\n",
    "                 min_count=min_count,\n",
    "                 workers=num_workers,\n",
    "                 seed=seed)\n",
    "\n",
    "model_5.save(path_w2v_model_5)"
   ]
  },
  {
   "cell_type": "code",
   "execution_count": 13,
   "metadata": {},
   "outputs": [],
   "source": [
    "model_5.build_vocab(all_genes_5grams)\n",
    "model_5.save(path_w2v_model_5)"
   ]
  },
  {
   "cell_type": "code",
   "execution_count": 14,
   "metadata": {},
   "outputs": [
    {
     "data": {
      "text/plain": [
       "(49807, 5)"
      ]
     },
     "execution_count": 14,
     "metadata": {},
     "output_type": "execute_result"
    }
   ],
   "source": [
    "model_5.corpus_count, model_5.epochs"
   ]
  },
  {
   "cell_type": "code",
   "execution_count": 15,
   "metadata": {},
   "outputs": [
    {
     "name": "stdout",
     "output_type": "stream",
     "text": [
      "total time: 9.7e+02 sec\n"
     ]
    }
   ],
   "source": [
    "#about 16 min\n",
    "start = timer()\n",
    "model_5.train(all_genes_5grams, total_examples=model_5.corpus_count, epochs=model_5.epochs)\n",
    "model_5.save(path_w2v_model_5)\n",
    "print(f'total time: {timer()-start:.2} sec')"
   ]
  },
  {
   "cell_type": "code",
   "execution_count": null,
   "metadata": {},
   "outputs": [],
   "source": [
    "# if loading pretrained model:\n",
    "# model_5 = Word2Vec.load(path_w2v_model_5)"
   ]
  },
  {
   "cell_type": "code",
   "execution_count": null,
   "metadata": {},
   "outputs": [],
   "source": [
    "# del model_5"
   ]
  },
  {
   "cell_type": "markdown",
   "metadata": {},
   "source": [
    "#### 8-grams"
   ]
  },
  {
   "cell_type": "code",
   "execution_count": null,
   "metadata": {},
   "outputs": [],
   "source": [
    "path_w2v_model_8 = 'dna2vec_data/word2vec_49000genes_8grams_size300.model'"
   ]
  },
  {
   "cell_type": "code",
   "execution_count": 12,
   "metadata": {},
   "outputs": [],
   "source": [
    "model_8 = Word2Vec(size=num_features,\n",
    "                 window=context_size,\n",
    "                 min_count=min_count,\n",
    "                 workers=num_workers,\n",
    "                 seed=seed)\n",
    "\n",
    "model_8.save(path_w2v_model_8)"
   ]
  },
  {
   "cell_type": "code",
   "execution_count": 13,
   "metadata": {},
   "outputs": [],
   "source": [
    "model_8.build_vocab(all_genes_8grams)\n",
    "model_8.save(path_w2v_model_8)"
   ]
  },
  {
   "cell_type": "code",
   "execution_count": 14,
   "metadata": {},
   "outputs": [
    {
     "data": {
      "text/plain": [
       "(49807, 5)"
      ]
     },
     "execution_count": 14,
     "metadata": {},
     "output_type": "execute_result"
    }
   ],
   "source": [
    "model_8.corpus_count, model_8.epochs"
   ]
  },
  {
   "cell_type": "code",
   "execution_count": null,
   "metadata": {},
   "outputs": [],
   "source": [
    "#about 26 min\n",
    "start = timer()\n",
    "model_8.train(all_genes_8grams, total_examples=model_8.corpus_count, epochs=model_8.epochs)\n",
    "model_8.save(path_w2v_model_8)\n",
    "print(f'total time: {timer()-start:.2} sec')"
   ]
  },
  {
   "cell_type": "code",
   "execution_count": null,
   "metadata": {},
   "outputs": [],
   "source": [
    "# if loading pretrained model:\n",
    "# model_8 = Word2Vec.load(path_w2v_model_8)"
   ]
  },
  {
   "cell_type": "markdown",
   "metadata": {},
   "source": [
    "### Read .csv file (1000 genes)"
   ]
  },
  {
   "cell_type": "code",
   "execution_count": 16,
   "metadata": {},
   "outputs": [
    {
     "data": {
      "text/plain": [
       "(1066, 4)"
      ]
     },
     "execution_count": 16,
     "metadata": {},
     "output_type": "execute_result"
    }
   ],
   "source": [
    "df_genes = pd.read_csv('~/sf_data/all_genes.csv', header=None)\n",
    "df_genes.shape"
   ]
  },
  {
   "cell_type": "code",
   "execution_count": 18,
   "metadata": {},
   "outputs": [
    {
     "data": {
      "text/html": [
       "<div>\n",
       "<style scoped>\n",
       "    .dataframe tbody tr th:only-of-type {\n",
       "        vertical-align: middle;\n",
       "    }\n",
       "\n",
       "    .dataframe tbody tr th {\n",
       "        vertical-align: top;\n",
       "    }\n",
       "\n",
       "    .dataframe thead th {\n",
       "        text-align: right;\n",
       "    }\n",
       "</style>\n",
       "<table border=\"1\" class=\"dataframe\">\n",
       "  <thead>\n",
       "    <tr style=\"text-align: right;\">\n",
       "      <th></th>\n",
       "      <th>0</th>\n",
       "      <th>1</th>\n",
       "      <th>2</th>\n",
       "    </tr>\n",
       "  </thead>\n",
       "  <tbody>\n",
       "    <tr>\n",
       "      <th>0</th>\n",
       "      <td>Bacillus_amyloliquefaciens_GCF_000196735.1_ASM...</td>\n",
       "      <td>pgk</td>\n",
       "      <td>ATGAATAAGAAAACAGTAAAAGACATCGACGTAAAAGGCAAAGTCG...</td>\n",
       "    </tr>\n",
       "    <tr>\n",
       "      <th>1</th>\n",
       "      <td>Bacillus_amyloliquefaciens_GCF_000196735.1_ASM...</td>\n",
       "      <td>rplW</td>\n",
       "      <td>ATGAAAGATCCTCGTGATGTTCTTAAGCGCCCCGTCATTACTGAAC...</td>\n",
       "    </tr>\n",
       "    <tr>\n",
       "      <th>2</th>\n",
       "      <td>Bacillus_amyloliquefaciens_GCF_000196735.1_ASM...</td>\n",
       "      <td>rplE</td>\n",
       "      <td>ATGAACCGCCTTAAAGAAAAGTACAATAAAGAAATTTCACCTGCTT...</td>\n",
       "    </tr>\n",
       "    <tr>\n",
       "      <th>3</th>\n",
       "      <td>Bacillus_amyloliquefaciens_GCF_000196735.1_ASM...</td>\n",
       "      <td>rplC</td>\n",
       "      <td>ATGACCAAAGGAATCTTAGGAAGAAAAATTGGTATGACGCAAGTAT...</td>\n",
       "    </tr>\n",
       "    <tr>\n",
       "      <th>4</th>\n",
       "      <td>Bacillus_amyloliquefaciens_GCF_000196735.1_ASM...</td>\n",
       "      <td>rplF</td>\n",
       "      <td>ATGTCTCGTGTAGGTAAGAAACTGCTTGAGATCCCTTCTGAAGTTA...</td>\n",
       "    </tr>\n",
       "  </tbody>\n",
       "</table>\n",
       "</div>"
      ],
      "text/plain": [
       "                                                   0     1  \\\n",
       "0  Bacillus_amyloliquefaciens_GCF_000196735.1_ASM...   pgk   \n",
       "1  Bacillus_amyloliquefaciens_GCF_000196735.1_ASM...  rplW   \n",
       "2  Bacillus_amyloliquefaciens_GCF_000196735.1_ASM...  rplE   \n",
       "3  Bacillus_amyloliquefaciens_GCF_000196735.1_ASM...  rplC   \n",
       "4  Bacillus_amyloliquefaciens_GCF_000196735.1_ASM...  rplF   \n",
       "\n",
       "                                                   2  \n",
       "0  ATGAATAAGAAAACAGTAAAAGACATCGACGTAAAAGGCAAAGTCG...  \n",
       "1  ATGAAAGATCCTCGTGATGTTCTTAAGCGCCCCGTCATTACTGAAC...  \n",
       "2  ATGAACCGCCTTAAAGAAAAGTACAATAAAGAAATTTCACCTGCTT...  \n",
       "3  ATGACCAAAGGAATCTTAGGAAGAAAAATTGGTATGACGCAAGTAT...  \n",
       "4  ATGTCTCGTGTAGGTAAGAAACTGCTTGAGATCCCTTCTGAAGTTA...  "
      ]
     },
     "execution_count": 18,
     "metadata": {},
     "output_type": "execute_result"
    }
   ],
   "source": [
    "df_genes = df_genes.iloc[:, :3]\n",
    "df_genes.head()"
   ]
  },
  {
   "cell_type": "code",
   "execution_count": 19,
   "metadata": {},
   "outputs": [
    {
     "data": {
      "text/plain": [
       "array(['Bacillus_amyloliquefaciens_GCF_000196735.1_ASM19673v1_genomic',\n",
       "       'Bacillus_atrophaeus_GCF_000742675.1_ASM74267v1_genomic',\n",
       "       'Bacillus_halotolerans_GCF_001517105.1_ASM151710v1_genomic',\n",
       "       'Bacillus_licheniformis_GCF_000011645.1_ASM1164v1_genomic',\n",
       "       'Bacillus_mojavensis_GCF_000245335.1_ASM24533v1_genomic',\n",
       "       'Bacillus_paralicheniformis_GCF_000408885.1_ASM40888v1_genomic',\n",
       "       'Bacillus_siamensis_GCF_000262045.1_KCTC_13613_01_genomic',\n",
       "       'Bacillus_sonorensis_GCF_002202015.1_ASM220201v1_genomic',\n",
       "       'Bacillus_subtilis_GCF_000009045.1_ASM904v1_genomic',\n",
       "       'Bacillus_tequilensis_GCF_000507145.1_KCTC_13622_01_genomic',\n",
       "       'Bacillus_vallismortis_GCF_000245315.1_ASM24531v1_genomic',\n",
       "       'Bacillus_velezensis_GCF_002117165.1_ASM211716v1_genomic'],\n",
       "      dtype=object)"
      ]
     },
     "execution_count": 19,
     "metadata": {},
     "output_type": "execute_result"
    }
   ],
   "source": [
    "df_genes[0].unique()"
   ]
  },
  {
   "cell_type": "code",
   "execution_count": 20,
   "metadata": {},
   "outputs": [
    {
     "data": {
      "text/plain": [
       "1066"
      ]
     },
     "execution_count": 20,
     "metadata": {},
     "output_type": "execute_result"
    }
   ],
   "source": [
    "orgs = ['_'.join(org_name.split('_',2)[0:2]) for org_name in df_genes[0]]\n",
    "len(orgs)"
   ]
  },
  {
   "cell_type": "code",
   "execution_count": 21,
   "metadata": {},
   "outputs": [
    {
     "data": {
      "text/plain": [
       "['Bacillus_amyloliquefaciens',\n",
       " 'Bacillus_atrophaeus',\n",
       " 'Bacillus_halotolerans',\n",
       " 'Bacillus_licheniformis',\n",
       " 'Bacillus_mojavensis',\n",
       " 'Bacillus_paralicheniformis',\n",
       " 'Bacillus_siamensis',\n",
       " 'Bacillus_sonorensis',\n",
       " 'Bacillus_subtilis',\n",
       " 'Bacillus_tequilensis',\n",
       " 'Bacillus_vallismortis',\n",
       " 'Bacillus_velezensis']"
      ]
     },
     "execution_count": 21,
     "metadata": {},
     "output_type": "execute_result"
    }
   ],
   "source": [
    "path_gene_nuc = '../../sf_data/prodigal_output/gene_nuc/'\n",
    "org_names = [f[:f.index('_', f.index('_') + 1)] for f in os.listdir(path_gene_nuc)]\n",
    "org_names"
   ]
  },
  {
   "cell_type": "code",
   "execution_count": 22,
   "metadata": {},
   "outputs": [
    {
     "name": "stdout",
     "output_type": "stream",
     "text": [
      "set()\n",
      "set()\n"
     ]
    }
   ],
   "source": [
    "# check sets of organisms names in two files\n",
    "print(set(orgs) ^ set(org_names))\n",
    "print(set(org_names) ^ set(orgs))"
   ]
  },
  {
   "cell_type": "code",
   "execution_count": 23,
   "metadata": {},
   "outputs": [],
   "source": [
    "tmp_org = []\n",
    "\n",
    "for name in df_genes[0]:\n",
    "    for (org_id, org_name) in enumerate(org_names):\n",
    "        if name.startswith(org_name):\n",
    "            tmp_org.append('_'.join((str(org_id), org_name)))"
   ]
  },
  {
   "cell_type": "code",
   "execution_count": 24,
   "metadata": {},
   "outputs": [
    {
     "data": {
      "text/html": [
       "<div>\n",
       "<style scoped>\n",
       "    .dataframe tbody tr th:only-of-type {\n",
       "        vertical-align: middle;\n",
       "    }\n",
       "\n",
       "    .dataframe tbody tr th {\n",
       "        vertical-align: top;\n",
       "    }\n",
       "\n",
       "    .dataframe thead th {\n",
       "        text-align: right;\n",
       "    }\n",
       "</style>\n",
       "<table border=\"1\" class=\"dataframe\">\n",
       "  <thead>\n",
       "    <tr style=\"text-align: right;\">\n",
       "      <th></th>\n",
       "      <th>0</th>\n",
       "      <th>1</th>\n",
       "      <th>2</th>\n",
       "      <th>org_id_name</th>\n",
       "    </tr>\n",
       "  </thead>\n",
       "  <tbody>\n",
       "    <tr>\n",
       "      <th>0</th>\n",
       "      <td>Bacillus_amyloliquefaciens_GCF_000196735.1_ASM...</td>\n",
       "      <td>pgk</td>\n",
       "      <td>ATGAATAAGAAAACAGTAAAAGACATCGACGTAAAAGGCAAAGTCG...</td>\n",
       "      <td>0_Bacillus_amyloliquefaciens</td>\n",
       "    </tr>\n",
       "    <tr>\n",
       "      <th>1</th>\n",
       "      <td>Bacillus_amyloliquefaciens_GCF_000196735.1_ASM...</td>\n",
       "      <td>rplW</td>\n",
       "      <td>ATGAAAGATCCTCGTGATGTTCTTAAGCGCCCCGTCATTACTGAAC...</td>\n",
       "      <td>0_Bacillus_amyloliquefaciens</td>\n",
       "    </tr>\n",
       "    <tr>\n",
       "      <th>2</th>\n",
       "      <td>Bacillus_amyloliquefaciens_GCF_000196735.1_ASM...</td>\n",
       "      <td>rplE</td>\n",
       "      <td>ATGAACCGCCTTAAAGAAAAGTACAATAAAGAAATTTCACCTGCTT...</td>\n",
       "      <td>0_Bacillus_amyloliquefaciens</td>\n",
       "    </tr>\n",
       "    <tr>\n",
       "      <th>3</th>\n",
       "      <td>Bacillus_amyloliquefaciens_GCF_000196735.1_ASM...</td>\n",
       "      <td>rplC</td>\n",
       "      <td>ATGACCAAAGGAATCTTAGGAAGAAAAATTGGTATGACGCAAGTAT...</td>\n",
       "      <td>0_Bacillus_amyloliquefaciens</td>\n",
       "    </tr>\n",
       "    <tr>\n",
       "      <th>4</th>\n",
       "      <td>Bacillus_amyloliquefaciens_GCF_000196735.1_ASM...</td>\n",
       "      <td>rplF</td>\n",
       "      <td>ATGTCTCGTGTAGGTAAGAAACTGCTTGAGATCCCTTCTGAAGTTA...</td>\n",
       "      <td>0_Bacillus_amyloliquefaciens</td>\n",
       "    </tr>\n",
       "  </tbody>\n",
       "</table>\n",
       "</div>"
      ],
      "text/plain": [
       "                                                   0     1  \\\n",
       "0  Bacillus_amyloliquefaciens_GCF_000196735.1_ASM...   pgk   \n",
       "1  Bacillus_amyloliquefaciens_GCF_000196735.1_ASM...  rplW   \n",
       "2  Bacillus_amyloliquefaciens_GCF_000196735.1_ASM...  rplE   \n",
       "3  Bacillus_amyloliquefaciens_GCF_000196735.1_ASM...  rplC   \n",
       "4  Bacillus_amyloliquefaciens_GCF_000196735.1_ASM...  rplF   \n",
       "\n",
       "                                                   2  \\\n",
       "0  ATGAATAAGAAAACAGTAAAAGACATCGACGTAAAAGGCAAAGTCG...   \n",
       "1  ATGAAAGATCCTCGTGATGTTCTTAAGCGCCCCGTCATTACTGAAC...   \n",
       "2  ATGAACCGCCTTAAAGAAAAGTACAATAAAGAAATTTCACCTGCTT...   \n",
       "3  ATGACCAAAGGAATCTTAGGAAGAAAAATTGGTATGACGCAAGTAT...   \n",
       "4  ATGTCTCGTGTAGGTAAGAAACTGCTTGAGATCCCTTCTGAAGTTA...   \n",
       "\n",
       "                    org_id_name  \n",
       "0  0_Bacillus_amyloliquefaciens  \n",
       "1  0_Bacillus_amyloliquefaciens  \n",
       "2  0_Bacillus_amyloliquefaciens  \n",
       "3  0_Bacillus_amyloliquefaciens  \n",
       "4  0_Bacillus_amyloliquefaciens  "
      ]
     },
     "execution_count": 24,
     "metadata": {},
     "output_type": "execute_result"
    }
   ],
   "source": [
    "df_genes['org_id_name'] = tmp_org\n",
    "df_genes.head()"
   ]
  },
  {
   "cell_type": "code",
   "execution_count": 26,
   "metadata": {},
   "outputs": [],
   "source": [
    "del tmp_org"
   ]
  },
  {
   "cell_type": "code",
   "execution_count": 27,
   "metadata": {},
   "outputs": [
    {
     "data": {
      "text/html": [
       "<div>\n",
       "<style scoped>\n",
       "    .dataframe tbody tr th:only-of-type {\n",
       "        vertical-align: middle;\n",
       "    }\n",
       "\n",
       "    .dataframe tbody tr th {\n",
       "        vertical-align: top;\n",
       "    }\n",
       "\n",
       "    .dataframe thead th {\n",
       "        text-align: right;\n",
       "    }\n",
       "</style>\n",
       "<table border=\"1\" class=\"dataframe\">\n",
       "  <thead>\n",
       "    <tr style=\"text-align: right;\">\n",
       "      <th></th>\n",
       "      <th>1</th>\n",
       "      <th>2</th>\n",
       "      <th>org_id_name</th>\n",
       "    </tr>\n",
       "  </thead>\n",
       "  <tbody>\n",
       "    <tr>\n",
       "      <th>0</th>\n",
       "      <td>pgk</td>\n",
       "      <td>ATGAATAAGAAAACAGTAAAAGACATCGACGTAAAAGGCAAAGTCG...</td>\n",
       "      <td>0_Bacillus_amyloliquefaciens</td>\n",
       "    </tr>\n",
       "    <tr>\n",
       "      <th>1</th>\n",
       "      <td>rplW</td>\n",
       "      <td>ATGAAAGATCCTCGTGATGTTCTTAAGCGCCCCGTCATTACTGAAC...</td>\n",
       "      <td>0_Bacillus_amyloliquefaciens</td>\n",
       "    </tr>\n",
       "    <tr>\n",
       "      <th>2</th>\n",
       "      <td>rplE</td>\n",
       "      <td>ATGAACCGCCTTAAAGAAAAGTACAATAAAGAAATTTCACCTGCTT...</td>\n",
       "      <td>0_Bacillus_amyloliquefaciens</td>\n",
       "    </tr>\n",
       "    <tr>\n",
       "      <th>3</th>\n",
       "      <td>rplC</td>\n",
       "      <td>ATGACCAAAGGAATCTTAGGAAGAAAAATTGGTATGACGCAAGTAT...</td>\n",
       "      <td>0_Bacillus_amyloliquefaciens</td>\n",
       "    </tr>\n",
       "    <tr>\n",
       "      <th>4</th>\n",
       "      <td>rplF</td>\n",
       "      <td>ATGTCTCGTGTAGGTAAGAAACTGCTTGAGATCCCTTCTGAAGTTA...</td>\n",
       "      <td>0_Bacillus_amyloliquefaciens</td>\n",
       "    </tr>\n",
       "  </tbody>\n",
       "</table>\n",
       "</div>"
      ],
      "text/plain": [
       "      1                                                  2  \\\n",
       "0   pgk  ATGAATAAGAAAACAGTAAAAGACATCGACGTAAAAGGCAAAGTCG...   \n",
       "1  rplW  ATGAAAGATCCTCGTGATGTTCTTAAGCGCCCCGTCATTACTGAAC...   \n",
       "2  rplE  ATGAACCGCCTTAAAGAAAAGTACAATAAAGAAATTTCACCTGCTT...   \n",
       "3  rplC  ATGACCAAAGGAATCTTAGGAAGAAAAATTGGTATGACGCAAGTAT...   \n",
       "4  rplF  ATGTCTCGTGTAGGTAAGAAACTGCTTGAGATCCCTTCTGAAGTTA...   \n",
       "\n",
       "                    org_id_name  \n",
       "0  0_Bacillus_amyloliquefaciens  \n",
       "1  0_Bacillus_amyloliquefaciens  \n",
       "2  0_Bacillus_amyloliquefaciens  \n",
       "3  0_Bacillus_amyloliquefaciens  \n",
       "4  0_Bacillus_amyloliquefaciens  "
      ]
     },
     "execution_count": 27,
     "metadata": {},
     "output_type": "execute_result"
    }
   ],
   "source": [
    "df_genes = df_genes.iloc[:, 1:]\n",
    "df_genes.head()"
   ]
  },
  {
   "cell_type": "code",
   "execution_count": 28,
   "metadata": {},
   "outputs": [
    {
     "data": {
      "text/html": [
       "<div>\n",
       "<style scoped>\n",
       "    .dataframe tbody tr th:only-of-type {\n",
       "        vertical-align: middle;\n",
       "    }\n",
       "\n",
       "    .dataframe tbody tr th {\n",
       "        vertical-align: top;\n",
       "    }\n",
       "\n",
       "    .dataframe thead th {\n",
       "        text-align: right;\n",
       "    }\n",
       "</style>\n",
       "<table border=\"1\" class=\"dataframe\">\n",
       "  <thead>\n",
       "    <tr style=\"text-align: right;\">\n",
       "      <th></th>\n",
       "      <th>gene_name</th>\n",
       "      <th>gene_seq</th>\n",
       "      <th>org_id_name</th>\n",
       "    </tr>\n",
       "  </thead>\n",
       "  <tbody>\n",
       "    <tr>\n",
       "      <th>0</th>\n",
       "      <td>pgk</td>\n",
       "      <td>ATGAATAAGAAAACAGTAAAAGACATCGACGTAAAAGGCAAAGTCG...</td>\n",
       "      <td>0_Bacillus_amyloliquefaciens</td>\n",
       "    </tr>\n",
       "    <tr>\n",
       "      <th>1</th>\n",
       "      <td>rplW</td>\n",
       "      <td>ATGAAAGATCCTCGTGATGTTCTTAAGCGCCCCGTCATTACTGAAC...</td>\n",
       "      <td>0_Bacillus_amyloliquefaciens</td>\n",
       "    </tr>\n",
       "    <tr>\n",
       "      <th>2</th>\n",
       "      <td>rplE</td>\n",
       "      <td>ATGAACCGCCTTAAAGAAAAGTACAATAAAGAAATTTCACCTGCTT...</td>\n",
       "      <td>0_Bacillus_amyloliquefaciens</td>\n",
       "    </tr>\n",
       "    <tr>\n",
       "      <th>3</th>\n",
       "      <td>rplC</td>\n",
       "      <td>ATGACCAAAGGAATCTTAGGAAGAAAAATTGGTATGACGCAAGTAT...</td>\n",
       "      <td>0_Bacillus_amyloliquefaciens</td>\n",
       "    </tr>\n",
       "    <tr>\n",
       "      <th>4</th>\n",
       "      <td>rplF</td>\n",
       "      <td>ATGTCTCGTGTAGGTAAGAAACTGCTTGAGATCCCTTCTGAAGTTA...</td>\n",
       "      <td>0_Bacillus_amyloliquefaciens</td>\n",
       "    </tr>\n",
       "  </tbody>\n",
       "</table>\n",
       "</div>"
      ],
      "text/plain": [
       "  gene_name                                           gene_seq  \\\n",
       "0       pgk  ATGAATAAGAAAACAGTAAAAGACATCGACGTAAAAGGCAAAGTCG...   \n",
       "1      rplW  ATGAAAGATCCTCGTGATGTTCTTAAGCGCCCCGTCATTACTGAAC...   \n",
       "2      rplE  ATGAACCGCCTTAAAGAAAAGTACAATAAAGAAATTTCACCTGCTT...   \n",
       "3      rplC  ATGACCAAAGGAATCTTAGGAAGAAAAATTGGTATGACGCAAGTAT...   \n",
       "4      rplF  ATGTCTCGTGTAGGTAAGAAACTGCTTGAGATCCCTTCTGAAGTTA...   \n",
       "\n",
       "                    org_id_name  \n",
       "0  0_Bacillus_amyloliquefaciens  \n",
       "1  0_Bacillus_amyloliquefaciens  \n",
       "2  0_Bacillus_amyloliquefaciens  \n",
       "3  0_Bacillus_amyloliquefaciens  \n",
       "4  0_Bacillus_amyloliquefaciens  "
      ]
     },
     "execution_count": 28,
     "metadata": {},
     "output_type": "execute_result"
    }
   ],
   "source": [
    "df_genes.rename(columns={1:'gene_name',2:'gene_seq',3:'org_id_name'}, inplace=True)\n",
    "df_genes.head()"
   ]
  },
  {
   "cell_type": "code",
   "execution_count": 29,
   "metadata": {},
   "outputs": [
    {
     "data": {
      "text/html": [
       "<div>\n",
       "<style scoped>\n",
       "    .dataframe tbody tr th:only-of-type {\n",
       "        vertical-align: middle;\n",
       "    }\n",
       "\n",
       "    .dataframe tbody tr th {\n",
       "        vertical-align: top;\n",
       "    }\n",
       "\n",
       "    .dataframe thead th {\n",
       "        text-align: right;\n",
       "    }\n",
       "</style>\n",
       "<table border=\"1\" class=\"dataframe\">\n",
       "  <thead>\n",
       "    <tr style=\"text-align: right;\">\n",
       "      <th></th>\n",
       "      <th>org_id_name</th>\n",
       "      <th>gene_name</th>\n",
       "    </tr>\n",
       "  </thead>\n",
       "  <tbody>\n",
       "    <tr>\n",
       "      <th>0</th>\n",
       "      <td>0_Bacillus_amyloliquefaciens</td>\n",
       "      <td>pgk</td>\n",
       "    </tr>\n",
       "    <tr>\n",
       "      <th>1</th>\n",
       "      <td>0_Bacillus_amyloliquefaciens</td>\n",
       "      <td>rplW</td>\n",
       "    </tr>\n",
       "    <tr>\n",
       "      <th>2</th>\n",
       "      <td>0_Bacillus_amyloliquefaciens</td>\n",
       "      <td>rplE</td>\n",
       "    </tr>\n",
       "    <tr>\n",
       "      <th>3</th>\n",
       "      <td>0_Bacillus_amyloliquefaciens</td>\n",
       "      <td>rplC</td>\n",
       "    </tr>\n",
       "    <tr>\n",
       "      <th>4</th>\n",
       "      <td>0_Bacillus_amyloliquefaciens</td>\n",
       "      <td>rplF</td>\n",
       "    </tr>\n",
       "  </tbody>\n",
       "</table>\n",
       "</div>"
      ],
      "text/plain": [
       "                    org_id_name gene_name\n",
       "0  0_Bacillus_amyloliquefaciens       pgk\n",
       "1  0_Bacillus_amyloliquefaciens      rplW\n",
       "2  0_Bacillus_amyloliquefaciens      rplE\n",
       "3  0_Bacillus_amyloliquefaciens      rplC\n",
       "4  0_Bacillus_amyloliquefaciens      rplF"
      ]
     },
     "execution_count": 29,
     "metadata": {},
     "output_type": "execute_result"
    }
   ],
   "source": [
    "df_meta_info = df_genes.loc[:, ['org_id_name', 'gene_name']]\n",
    "df_meta_info.head()"
   ]
  },
  {
   "cell_type": "code",
   "execution_count": 30,
   "metadata": {},
   "outputs": [],
   "source": [
    "df_meta_info.to_csv('dna2vec_data/meta_info_1066_genes.tsv', sep='\\t', index=False)"
   ]
  },
  {
   "cell_type": "code",
   "execution_count": 31,
   "metadata": {},
   "outputs": [
    {
     "data": {
      "text/html": [
       "<div>\n",
       "<style scoped>\n",
       "    .dataframe tbody tr th:only-of-type {\n",
       "        vertical-align: middle;\n",
       "    }\n",
       "\n",
       "    .dataframe tbody tr th {\n",
       "        vertical-align: top;\n",
       "    }\n",
       "\n",
       "    .dataframe thead th {\n",
       "        text-align: right;\n",
       "    }\n",
       "</style>\n",
       "<table border=\"1\" class=\"dataframe\">\n",
       "  <thead>\n",
       "    <tr style=\"text-align: right;\">\n",
       "      <th></th>\n",
       "      <th>gene_name</th>\n",
       "      <th>gene_seq</th>\n",
       "      <th>org_id_name</th>\n",
       "    </tr>\n",
       "  </thead>\n",
       "  <tbody>\n",
       "    <tr>\n",
       "      <th>0</th>\n",
       "      <td>pgk</td>\n",
       "      <td>ATGAATAAGAAAACAGTAAAAGACATCGACGTAAAAGGCAAAGTCG...</td>\n",
       "      <td>0_Bacillus_amyloliquefaciens</td>\n",
       "    </tr>\n",
       "    <tr>\n",
       "      <th>1</th>\n",
       "      <td>rplW</td>\n",
       "      <td>ATGAAAGATCCTCGTGATGTTCTTAAGCGCCCCGTCATTACTGAAC...</td>\n",
       "      <td>0_Bacillus_amyloliquefaciens</td>\n",
       "    </tr>\n",
       "    <tr>\n",
       "      <th>2</th>\n",
       "      <td>rplE</td>\n",
       "      <td>ATGAACCGCCTTAAAGAAAAGTACAATAAAGAAATTTCACCTGCTT...</td>\n",
       "      <td>0_Bacillus_amyloliquefaciens</td>\n",
       "    </tr>\n",
       "    <tr>\n",
       "      <th>3</th>\n",
       "      <td>rplC</td>\n",
       "      <td>ATGACCAAAGGAATCTTAGGAAGAAAAATTGGTATGACGCAAGTAT...</td>\n",
       "      <td>0_Bacillus_amyloliquefaciens</td>\n",
       "    </tr>\n",
       "    <tr>\n",
       "      <th>4</th>\n",
       "      <td>rplF</td>\n",
       "      <td>ATGTCTCGTGTAGGTAAGAAACTGCTTGAGATCCCTTCTGAAGTTA...</td>\n",
       "      <td>0_Bacillus_amyloliquefaciens</td>\n",
       "    </tr>\n",
       "  </tbody>\n",
       "</table>\n",
       "</div>"
      ],
      "text/plain": [
       "  gene_name                                           gene_seq  \\\n",
       "0       pgk  ATGAATAAGAAAACAGTAAAAGACATCGACGTAAAAGGCAAAGTCG...   \n",
       "1      rplW  ATGAAAGATCCTCGTGATGTTCTTAAGCGCCCCGTCATTACTGAAC...   \n",
       "2      rplE  ATGAACCGCCTTAAAGAAAAGTACAATAAAGAAATTTCACCTGCTT...   \n",
       "3      rplC  ATGACCAAAGGAATCTTAGGAAGAAAAATTGGTATGACGCAAGTAT...   \n",
       "4      rplF  ATGTCTCGTGTAGGTAAGAAACTGCTTGAGATCCCTTCTGAAGTTA...   \n",
       "\n",
       "                    org_id_name  \n",
       "0  0_Bacillus_amyloliquefaciens  \n",
       "1  0_Bacillus_amyloliquefaciens  \n",
       "2  0_Bacillus_amyloliquefaciens  \n",
       "3  0_Bacillus_amyloliquefaciens  \n",
       "4  0_Bacillus_amyloliquefaciens  "
      ]
     },
     "execution_count": 31,
     "metadata": {},
     "output_type": "execute_result"
    }
   ],
   "source": [
    "df_genes.head()"
   ]
  },
  {
   "cell_type": "markdown",
   "metadata": {},
   "source": [
    "### extract 5grams (or 8grams) from 1000 genes"
   ]
  },
  {
   "cell_type": "code",
   "execution_count": 32,
   "metadata": {},
   "outputs": [],
   "source": [
    "def ngram_extractor(g_seq_lst, n_min=3, n_max=3):\n",
    "    ngram_range = list(range(min(n_min,n_max), max(n_min+1, n_max+1)))\n",
    "    \n",
    "    ngrams_result = []\n",
    "    \n",
    "    start = timer()\n",
    "    for (g_num, g_seq) in enumerate(g_seq_lst):\n",
    "        if(g_num) % 100 == 0:\n",
    "            print(f'time: {timer()-start:.2} sec\\tid_gene={g_num}')\n",
    "        \n",
    "        ngrams_with_order = []\n",
    "        \n",
    "        [ngrams_with_order.append(g_seq[indx:indx+n])\n",
    "         for indx in range(len(g_seq) - (n_min-1))\n",
    "         for n in ngram_range\n",
    "         if (indx+n) <= len(g_seq)]\n",
    "        \n",
    "        ngrams_result.append(ngrams_with_order)\n",
    "        \n",
    "    return ngrams_result"
   ]
  },
  {
   "cell_type": "code",
   "execution_count": 33,
   "metadata": {},
   "outputs": [
    {
     "data": {
      "text/plain": [
       "'ATGGTTATGACAGATCCAATTGCAGATATGCTGACTCGTATTCGTAATGCAAACATGGTACGTCATGAGAAGCTTGAAATTCCTGCTTCTAAATTGAAAAGAGAAATTGCTGACATTTTAAAGCGTGAAGGTTTCATTCGTGACGTTGAGTTCGTAGAAGACAGCAAACAAGGTATCATCCGCGTTTTCTTGAAATACGGACAAAACAACGAGCGCGTTATCACTGGTCTTAAAAGAATCAGCAAACCAGGTTTGCGTGTATACGCTAAATCAAATGAAGTACCTCGCGTACTTAACGGTCTTGGAATCGCGATTATTTCTACATCACAAGGTGTTTTAACGGACAAAGAAGCCCGTGCAAAACAAGCTGGTGGAGAAGTTCTAGCATACGTTTGGTAA'"
      ]
     },
     "execution_count": 33,
     "metadata": {},
     "output_type": "execute_result"
    }
   ],
   "source": [
    "genes_seq = [gene_seq for gene_seq in df_genes['gene_seq']]\n",
    "genes_seq[7]"
   ]
  },
  {
   "cell_type": "code",
   "execution_count": 34,
   "metadata": {},
   "outputs": [
    {
     "name": "stdout",
     "output_type": "stream",
     "text": [
      "time: 2.1e-06 sec\tid_gene=0\n",
      "time: 0.16 sec\tid_gene=100\n",
      "time: 0.26 sec\tid_gene=200\n",
      "time: 0.35 sec\tid_gene=300\n",
      "time: 0.45 sec\tid_gene=400\n",
      "time: 0.56 sec\tid_gene=500\n",
      "time: 0.65 sec\tid_gene=600\n",
      "time: 0.74 sec\tid_gene=700\n",
      "time: 0.87 sec\tid_gene=800\n",
      "time: 0.97 sec\tid_gene=900\n",
      "time: 1.1 sec\tid_gene=1000\n"
     ]
    }
   ],
   "source": [
    "genes_5grams = ngram_extractor(genes_seq, n_min=5, n_max=5)"
   ]
  },
  {
   "cell_type": "code",
   "execution_count": null,
   "metadata": {},
   "outputs": [],
   "source": [
    "genes_8grams = ngram_extractor(genes_seq, n_min=8, n_max=8)"
   ]
  },
  {
   "cell_type": "markdown",
   "metadata": {},
   "source": [
    "### gene2vec (for 1000 genes)"
   ]
  },
  {
   "cell_type": "markdown",
   "metadata": {},
   "source": [
    "#### 5-grams"
   ]
  },
  {
   "cell_type": "code",
   "execution_count": 35,
   "metadata": {},
   "outputs": [],
   "source": [
    "genes_5grams_vec = []\n",
    "for gene in genes_5grams:\n",
    "    genes_5grams_vec.append(np.vstack([model_5.wv[ngram] for ngram in gene]).mean(axis=0))"
   ]
  },
  {
   "cell_type": "code",
   "execution_count": 36,
   "metadata": {},
   "outputs": [
    {
     "data": {
      "text/plain": [
       "1066"
      ]
     },
     "execution_count": 36,
     "metadata": {},
     "output_type": "execute_result"
    }
   ],
   "source": [
    "len(genes_5grams_vec)"
   ]
  },
  {
   "cell_type": "code",
   "execution_count": 37,
   "metadata": {},
   "outputs": [
    {
     "data": {
      "text/plain": [
       "300"
      ]
     },
     "execution_count": 37,
     "metadata": {},
     "output_type": "execute_result"
    }
   ],
   "source": [
    "len(genes_5grams_vec[0])"
   ]
  },
  {
   "cell_type": "code",
   "execution_count": 39,
   "metadata": {},
   "outputs": [],
   "source": [
    "pd.DataFrame(genes_5grams_vec).to_csv('dna2vec_data/genes_vec_5grams_1066_genes.tsv', sep='\\t', header=False, index=False)"
   ]
  },
  {
   "cell_type": "markdown",
   "metadata": {},
   "source": [
    "#### 8-grams"
   ]
  },
  {
   "cell_type": "code",
   "execution_count": null,
   "metadata": {},
   "outputs": [],
   "source": [
    "genes_8grams_vec = []\n",
    "for gene in genes_8grams:\n",
    "    genes_8grams_vec.append(np.vstack([model_8.wv[ngram] for ngram in gene]).mean(axis=0))"
   ]
  },
  {
   "cell_type": "code",
   "execution_count": 36,
   "metadata": {},
   "outputs": [
    {
     "data": {
      "text/plain": [
       "1066"
      ]
     },
     "execution_count": 36,
     "metadata": {},
     "output_type": "execute_result"
    }
   ],
   "source": [
    "len(genes_8grams_vec)"
   ]
  },
  {
   "cell_type": "code",
   "execution_count": 37,
   "metadata": {},
   "outputs": [
    {
     "data": {
      "text/plain": [
       "300"
      ]
     },
     "execution_count": 37,
     "metadata": {},
     "output_type": "execute_result"
    }
   ],
   "source": [
    "len(genes_8grams_vec[0])"
   ]
  },
  {
   "cell_type": "code",
   "execution_count": 39,
   "metadata": {},
   "outputs": [],
   "source": [
    "pd.DataFrame(genes_8grams_vec).to_csv('dna2vec_data/genes_vec_8grams_1066_genes.tsv', sep='\\t', header=False, index=False)"
   ]
  },
  {
   "cell_type": "code",
   "execution_count": null,
   "metadata": {},
   "outputs": [],
   "source": []
  },
  {
   "cell_type": "code",
   "execution_count": null,
   "metadata": {},
   "outputs": [],
   "source": []
  }
 ],
 "metadata": {
  "kernelspec": {
   "display_name": "Python 3",
   "language": "python",
   "name": "python3"
  },
  "language_info": {
   "codemirror_mode": {
    "name": "ipython",
    "version": 3
   },
   "file_extension": ".py",
   "mimetype": "text/x-python",
   "name": "python",
   "nbconvert_exporter": "python",
   "pygments_lexer": "ipython3",
   "version": "3.7.3"
  }
 },
 "nbformat": 4,
 "nbformat_minor": 2
}
