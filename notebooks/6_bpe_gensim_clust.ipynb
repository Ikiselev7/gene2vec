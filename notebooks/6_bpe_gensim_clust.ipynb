{
 "cells": [
  {
   "cell_type": "markdown",
   "metadata": {},
   "source": [
    "<b>For faster work</b>, the results of several steps are saved to files:\n",
    "\n",
    "<i>dna2vec_data/word2vec_49000genes_bpe_size300.model</i>\n",
    "\n",
    "<i>util_data/bpe_data_with_gene_seq.csv</i>\n",
    "\n",
    "<i>util_data/genes_1000_pre_vec.csv</i>\n",
    "\n",
    "So, one can load these files not to wait for long calculations"
   ]
  },
  {
   "cell_type": "code",
   "execution_count": 25,
   "metadata": {},
   "outputs": [],
   "source": [
    "import os\n",
    "from timeit import default_timer as timer\n",
    "\n",
    "import warnings\n",
    "warnings.filterwarnings('ignore')\n",
    "\n",
    "import pandas as pd\n",
    "import numpy as np\n",
    "import json\n",
    "from Bio import SeqIO\n",
    "from gensim.models import Word2Vec\n",
    "from sklearn.cluster import DBSCAN\n",
    "from sklearn.metrics import silhouette_score, homogeneity_score, completeness_score\n",
    "from sklearn.metrics import v_measure_score, adjusted_rand_score, adjusted_mutual_info_score\n",
    "\n",
    "import multiprocessing"
   ]
  },
  {
   "cell_type": "markdown",
   "metadata": {},
   "source": [
    "### Read .fasta files (49000 genes)"
   ]
  },
  {
   "cell_type": "code",
   "execution_count": 3,
   "metadata": {},
   "outputs": [],
   "source": [
    "path_gene_nuc = '../../sf_data/prodigal_output/gene_nuc/'\n",
    "organisms_names = [f[:f.index('_', f.index('_') + 1)] for f in os.listdir(path_gene_nuc)]\n",
    "full_path_gene_nuc = [path_gene_nuc + f for f in os.listdir(path_gene_nuc)]"
   ]
  },
  {
   "cell_type": "code",
   "execution_count": 4,
   "metadata": {},
   "outputs": [],
   "source": [
    "organisms = [SeqIO.parse(gene_nuc_file, 'fasta') for gene_nuc_file in full_path_gene_nuc]\n",
    "org_gene_lst = []\n",
    "\n",
    "for (id_org, organism), org_name in zip(enumerate(organisms), organisms_names):\n",
    "    for gene_record in organism:\n",
    "        org_gene_lst.append(('_'.join((str(id_org), org_name)), gene_record.id,\n",
    "                             str(gene_record.seq).replace('N', '')))"
   ]
  },
  {
   "cell_type": "code",
   "execution_count": 5,
   "metadata": {},
   "outputs": [],
   "source": [
    "del path_gene_nuc\n",
    "del organisms\n",
    "del organisms_names\n",
    "del full_path_gene_nuc"
   ]
  },
  {
   "cell_type": "code",
   "execution_count": 6,
   "metadata": {},
   "outputs": [
    {
     "data": {
      "text/plain": [
       "49807"
      ]
     },
     "execution_count": 6,
     "metadata": {},
     "output_type": "execute_result"
    }
   ],
   "source": [
    "len(org_gene_lst)"
   ]
  },
  {
   "cell_type": "code",
   "execution_count": 7,
   "metadata": {},
   "outputs": [
    {
     "data": {
      "text/plain": [
       "('0_Bacillus_amyloliquefaciens',\n",
       " 'NC_014551.1_2',\n",
       " 'ATGAAATTTACGATTCAAAAAGATCGTTTAGTCGAAAGTGTACAAGACGTTCTAAAAGCTGTTTCATCCAGAACAACAATTCCCATTCTTACCGGTATTAAGATCGTAGCCTCAGATGAAGGAGTATCATTTACAGGAAGCGACTCTGATATTTCAATCGAGTCATTCATTCCAAAAGAAGAAGATGATAAGGAAATCGTGACGATCGATCAGCCGGGAAGTATCGTGCTGCAAGCCCGTTTCTTCAGTGAAATCGTTAAAAAACTTCCGATGGCGACTGTTGAAATCGAAGTTCAAAATCAATATTTAACGATTATCCGCTTCGGAAAAGCCGAATTTAATTTAAACGGCCTTGATGCAGATGAATATCCTCATCTTCCGCAAATCGAAGAGCATCATGCCATTCAGATTCCGACGGACCTTTTGAAAAACCTAATCCGTCAAACCGTGTTCGCTGTGTCCGCCTCAGAAACACGCCCTATCTTGACAGGTGTAAACTGGAAAGTGGAAAACGGTGAATTATTATGCACTGCCACGGATAGCCATCGACTCGCTTTAAGAAAGGCGAAGCTTGATATTCCGGAAGACAGCTCTTATAACGTCGTCATCCCCGGAAAAAGCTTAACCGAGCTGAGCAAAATTCTTGATGACAGCCAAGAACTGGTAGATATCGTTATTACAGAAACGCAAGTTCTGTTTAAAGCGAAAAACGTATTGTTCTTCTCAAGGCTGCTTGACGGAAATTATCCGGACACGACCAGCTTAATTCCGCAGGAAAGCAAAACAGAAATCGTCGTGAACACGAAGGAATTTTTACAGGCGATAGACCGTGCTTCTTTATTGGCGAGAGAAGGCCGCAACAACGTTGTAAAGCTTTCTGCCAAACCGGCAGACTCGCTTGAGATTTCATCAAACTCTCCGGAAATCGGGAAAGTAGTCGAAGCTGTGCTGGCTGACCAGATTGACGGCGAGGAATTAAATATTTCATTCAGTCCAAAATATATGATGGACGCACTGAAAGTACTTGAAGGAGCGGACATCCGTATCAGCTTTACGGGAGCGATGAGACCGTTTCTTATCCGTACGCCGAATGATGAAACCATCGTTCAGCTCATCCTTCCGGTCAGAACGTATTAA')"
      ]
     },
     "execution_count": 7,
     "metadata": {},
     "output_type": "execute_result"
    }
   ],
   "source": [
    "org_gene_lst[1]"
   ]
  },
  {
   "cell_type": "markdown",
   "metadata": {},
   "source": [
    "### Read bpe encoded genes"
   ]
  },
  {
   "cell_type": "code",
   "execution_count": 8,
   "metadata": {},
   "outputs": [],
   "source": [
    "with open('encoded_genes_bpe', 'r') as bpe_file:\n",
    "    bpe_data = json.load(bpe_file)"
   ]
  },
  {
   "cell_type": "code",
   "execution_count": 9,
   "metadata": {},
   "outputs": [
    {
     "data": {
      "text/plain": [
       "list"
      ]
     },
     "execution_count": 9,
     "metadata": {},
     "output_type": "execute_result"
    }
   ],
   "source": [
    "type(bpe_data)"
   ]
  },
  {
   "cell_type": "code",
   "execution_count": 10,
   "metadata": {},
   "outputs": [
    {
     "data": {
      "text/plain": [
       "49806"
      ]
     },
     "execution_count": 10,
     "metadata": {},
     "output_type": "execute_result"
    }
   ],
   "source": [
    "len(bpe_data)"
   ]
  },
  {
   "cell_type": "code",
   "execution_count": 82,
   "metadata": {},
   "outputs": [],
   "source": [
    "#bpe_data[0]"
   ]
  },
  {
   "cell_type": "code",
   "execution_count": 12,
   "metadata": {},
   "outputs": [],
   "source": [
    "all_genes_words_bpe = [item[2] for item in bpe_data]"
   ]
  },
  {
   "cell_type": "code",
   "execution_count": 13,
   "metadata": {},
   "outputs": [
    {
     "data": {
      "text/plain": [
       "(list, list)"
      ]
     },
     "execution_count": 13,
     "metadata": {},
     "output_type": "execute_result"
    }
   ],
   "source": [
    "type(all_genes_words_bpe), type(all_genes_words_bpe[0])"
   ]
  },
  {
   "cell_type": "markdown",
   "metadata": {},
   "source": [
    "### Explore bpe_data"
   ]
  },
  {
   "cell_type": "code",
   "execution_count": 14,
   "metadata": {},
   "outputs": [],
   "source": [
    "ngram_lengths = [len(ngram)\n",
    "                 for gene_ngrams in all_genes_words_bpe\n",
    "                 for ngram in gene_ngrams]"
   ]
  },
  {
   "cell_type": "code",
   "execution_count": 15,
   "metadata": {},
   "outputs": [
    {
     "data": {
      "text/plain": [
       "7058023"
      ]
     },
     "execution_count": 15,
     "metadata": {},
     "output_type": "execute_result"
    }
   ],
   "source": [
    "len(ngram_lengths)"
   ]
  },
  {
   "cell_type": "code",
   "execution_count": 16,
   "metadata": {},
   "outputs": [
    {
     "data": {
      "text/plain": [
       "(1, 1808)"
      ]
     },
     "execution_count": 16,
     "metadata": {},
     "output_type": "execute_result"
    }
   ],
   "source": [
    "min(ngram_lengths), ngram_lengths.count(min(ngram_lengths))"
   ]
  },
  {
   "cell_type": "code",
   "execution_count": 17,
   "metadata": {},
   "outputs": [
    {
     "data": {
      "text/plain": [
       "(16, 1326)"
      ]
     },
     "execution_count": 17,
     "metadata": {},
     "output_type": "execute_result"
    }
   ],
   "source": [
    "max(ngram_lengths), ngram_lengths.count(max(ngram_lengths))"
   ]
  },
  {
   "cell_type": "code",
   "execution_count": 18,
   "metadata": {},
   "outputs": [
    {
     "name": "stdout",
     "output_type": "stream",
     "text": [
      "1: 1808\n",
      "2: 56821\n",
      "3: 274296\n",
      "4: 872819\n",
      "5: 1459433\n",
      "6: 1556682\n",
      "7: 1295227\n",
      "8: 893216\n",
      "9: 472311\n",
      "10: 135843\n",
      "11: 24610\n",
      "12: 7715\n",
      "13: 2663\n",
      "14: 1801\n",
      "15: 1452\n",
      "16: 1326\n"
     ]
    }
   ],
   "source": [
    "for i in range(1,17):\n",
    "    print(f'{i}: {ngram_lengths.count(i)}')"
   ]
  },
  {
   "cell_type": "markdown",
   "metadata": {},
   "source": [
    "### Add gene_seq to bpe_data"
   ]
  },
  {
   "cell_type": "code",
   "execution_count": 19,
   "metadata": {},
   "outputs": [
    {
     "data": {
      "text/plain": [
       "('NC_014551.1_2', 'NC_014551.1_2')"
      ]
     },
     "execution_count": 19,
     "metadata": {},
     "output_type": "execute_result"
    }
   ],
   "source": [
    "org_gene_lst[1][1], bpe_data[0][1]"
   ]
  },
  {
   "cell_type": "code",
   "execution_count": 20,
   "metadata": {},
   "outputs": [
    {
     "data": {
      "text/plain": [
       "'ATGAAATTTACGATTCAAAAAGATCGTTTAGTCGAAAGTGTACAAGACGTTCTAAAAGCTGTTTCATCCAGAACAACAATTCCCATTCTTACCGGTATTAAGATCGTAGCCTCAGATGAAGGAGTATCATTTACAGGAAGCGACTCTGATATTTCAATCGAGTCATTCATTCCAAAAGAAGAAGATGATAAGGAAATCGTGACGATCGATCAGCCGGGAAGTATCGTGCTGCAAGCCCGTTTCTTCAGTGAAATCGTTAAAAAACTTCCGATGGCGACTGTTGAAATCGAAGTTCAAAATCAATATTTAACGATTATCCGCTTCGGAAAAGCCGAATTTAATTTAAACGGCCTTGATGCAGATGAATATCCTCATCTTCCGCAAATCGAAGAGCATCATGCCATTCAGATTCCGACGGACCTTTTGAAAAACCTAATCCGTCAAACCGTGTTCGCTGTGTCCGCCTCAGAAACACGCCCTATCTTGACAGGTGTAAACTGGAAAGTGGAAAACGGTGAATTATTATGCACTGCCACGGATAGCCATCGACTCGCTTTAAGAAAGGCGAAGCTTGATATTCCGGAAGACAGCTCTTATAACGTCGTCATCCCCGGAAAAAGCTTAACCGAGCTGAGCAAAATTCTTGATGACAGCCAAGAACTGGTAGATATCGTTATTACAGAAACGCAAGTTCTGTTTAAAGCGAAAAACGTATTGTTCTTCTCAAGGCTGCTTGACGGAAATTATCCGGACACGACCAGCTTAATTCCGCAGGAAAGCAAAACAGAAATCGTCGTGAACACGAAGGAATTTTTACAGGCGATAGACCGTGCTTCTTTATTGGCGAGAGAAGGCCGCAACAACGTTGTAAAGCTTTCTGCCAAACCGGCAGACTCGCTTGAGATTTCATCAAACTCTCCGGAAATCGGGAAAGTAGTCGAAGCTGTGCTGGCTGACCAGATTGACGGCGAGGAATTAAATATTTCATTCAGTCCAAAATATATGATGGACGCACTGAAAGTACTTGAAGGAGCGGACATCCGTATCAGCTTTACGGGAGCGATGAGACCGTTTCTTATCCGTACGCCGAATGATGAAACCATCGTTCAGCTCATCCTTCCGGTCAGAACGTATTAA'"
      ]
     },
     "execution_count": 20,
     "metadata": {},
     "output_type": "execute_result"
    }
   ],
   "source": [
    "org_gene_lst[1][2]"
   ]
  },
  {
   "cell_type": "code",
   "execution_count": 101,
   "metadata": {},
   "outputs": [],
   "source": [
    "# wery long! try to rewrite!\n",
    "# I will save the result not to wait\n",
    "#bpe_data_with_gene_seq = [(bpe[0], bpe[1], org_gene[2], bpe[2]) for bpe in bpe_data for org_gene in org_gene_lst if bpe[1] == org_gene[1]]"
   ]
  },
  {
   "cell_type": "code",
   "execution_count": 104,
   "metadata": {},
   "outputs": [],
   "source": [
    "#pd.DataFrame(bpe_data_with_gene_seq).to_csv('util_data/bpe_data_with_gene_seq.csv', header=False, index=False)"
   ]
  },
  {
   "cell_type": "code",
   "execution_count": 21,
   "metadata": {},
   "outputs": [],
   "source": [
    "# just read that data\n",
    "bpe_data_with_gene_seq = pd.read_csv('util_data/bpe_data_with_gene_seq.csv', header=None, index_col=None)"
   ]
  },
  {
   "cell_type": "code",
   "execution_count": 22,
   "metadata": {},
   "outputs": [
    {
     "data": {
      "text/html": [
       "<div>\n",
       "<style scoped>\n",
       "    .dataframe tbody tr th:only-of-type {\n",
       "        vertical-align: middle;\n",
       "    }\n",
       "\n",
       "    .dataframe tbody tr th {\n",
       "        vertical-align: top;\n",
       "    }\n",
       "\n",
       "    .dataframe thead th {\n",
       "        text-align: right;\n",
       "    }\n",
       "</style>\n",
       "<table border=\"1\" class=\"dataframe\">\n",
       "  <thead>\n",
       "    <tr style=\"text-align: right;\">\n",
       "      <th></th>\n",
       "      <th>0</th>\n",
       "      <th>1</th>\n",
       "      <th>2</th>\n",
       "      <th>3</th>\n",
       "    </tr>\n",
       "  </thead>\n",
       "  <tbody>\n",
       "    <tr>\n",
       "      <th>0</th>\n",
       "      <td>Bacillus_amyloliquefaciens_GCF_000196735.1_ASM...</td>\n",
       "      <td>NC_014551.1_2</td>\n",
       "      <td>ATGAAATTTACGATTCAAAAAGATCGTTTAGTCGAAAGTGTACAAG...</td>\n",
       "      <td>['▁ATGAAATT', 'TACGATT', 'CAAAAAGATC', 'GTTTA'...</td>\n",
       "    </tr>\n",
       "    <tr>\n",
       "      <th>1</th>\n",
       "      <td>Bacillus_amyloliquefaciens_GCF_000196735.1_ASM...</td>\n",
       "      <td>NC_014551.1_3</td>\n",
       "      <td>ATGGCAAATCCGATTTCGATTGATACAGAAATGATTACGCTTGGCC...</td>\n",
       "      <td>['▁ATGGCAAA', 'TCCGATT', 'TCGATTGA', 'TACAGAAA...</td>\n",
       "    </tr>\n",
       "    <tr>\n",
       "      <th>2</th>\n",
       "      <td>Bacillus_amyloliquefaciens_GCF_000196735.1_ASM...</td>\n",
       "      <td>NC_014551.1_4</td>\n",
       "      <td>TTGTATATCCAAAATTTAGAATTAACATCCTACCGTAATTATGAGC...</td>\n",
       "      <td>['▁TT', 'GTATATC', 'CAAAATT', 'TA', 'GAATTAA',...</td>\n",
       "    </tr>\n",
       "    <tr>\n",
       "      <th>3</th>\n",
       "      <td>Bacillus_amyloliquefaciens_GCF_000196735.1_ASM...</td>\n",
       "      <td>NC_014551.1_5</td>\n",
       "      <td>TTGTATATTCATTTAGGTGACGACTTTGTCGTTTCAACACGCGATA...</td>\n",
       "      <td>['▁TT', 'GTATATT', 'CATTTA', 'GGTGA', 'CGACTT'...</td>\n",
       "    </tr>\n",
       "    <tr>\n",
       "      <th>4</th>\n",
       "      <td>Bacillus_amyloliquefaciens_GCF_000196735.1_ASM...</td>\n",
       "      <td>NC_014551.1_6</td>\n",
       "      <td>ATGGCTATGGAACAGCAGCAAAATAGTTATGATGAGAATCAGATAC...</td>\n",
       "      <td>['▁ATGGC', 'TATGGAA', 'CAGCAGC', 'AAAA', 'TAGT...</td>\n",
       "    </tr>\n",
       "  </tbody>\n",
       "</table>\n",
       "</div>"
      ],
      "text/plain": [
       "                                                   0              1  \\\n",
       "0  Bacillus_amyloliquefaciens_GCF_000196735.1_ASM...  NC_014551.1_2   \n",
       "1  Bacillus_amyloliquefaciens_GCF_000196735.1_ASM...  NC_014551.1_3   \n",
       "2  Bacillus_amyloliquefaciens_GCF_000196735.1_ASM...  NC_014551.1_4   \n",
       "3  Bacillus_amyloliquefaciens_GCF_000196735.1_ASM...  NC_014551.1_5   \n",
       "4  Bacillus_amyloliquefaciens_GCF_000196735.1_ASM...  NC_014551.1_6   \n",
       "\n",
       "                                                   2  \\\n",
       "0  ATGAAATTTACGATTCAAAAAGATCGTTTAGTCGAAAGTGTACAAG...   \n",
       "1  ATGGCAAATCCGATTTCGATTGATACAGAAATGATTACGCTTGGCC...   \n",
       "2  TTGTATATCCAAAATTTAGAATTAACATCCTACCGTAATTATGAGC...   \n",
       "3  TTGTATATTCATTTAGGTGACGACTTTGTCGTTTCAACACGCGATA...   \n",
       "4  ATGGCTATGGAACAGCAGCAAAATAGTTATGATGAGAATCAGATAC...   \n",
       "\n",
       "                                                   3  \n",
       "0  ['▁ATGAAATT', 'TACGATT', 'CAAAAAGATC', 'GTTTA'...  \n",
       "1  ['▁ATGGCAAA', 'TCCGATT', 'TCGATTGA', 'TACAGAAA...  \n",
       "2  ['▁TT', 'GTATATC', 'CAAAATT', 'TA', 'GAATTAA',...  \n",
       "3  ['▁TT', 'GTATATT', 'CATTTA', 'GGTGA', 'CGACTT'...  \n",
       "4  ['▁ATGGC', 'TATGGAA', 'CAGCAGC', 'AAAA', 'TAGT...  "
      ]
     },
     "execution_count": 22,
     "metadata": {},
     "output_type": "execute_result"
    }
   ],
   "source": [
    "bpe_data_with_gene_seq.head()"
   ]
  },
  {
   "cell_type": "code",
   "execution_count": 23,
   "metadata": {},
   "outputs": [
    {
     "data": {
      "text/plain": [
       "49806"
      ]
     },
     "execution_count": 23,
     "metadata": {},
     "output_type": "execute_result"
    }
   ],
   "source": [
    "len(bpe_data_with_gene_seq)"
   ]
  },
  {
   "cell_type": "code",
   "execution_count": 24,
   "metadata": {},
   "outputs": [
    {
     "data": {
      "text/plain": [
       "0    Bacillus_amyloliquefaciens_GCF_000196735.1_ASM...\n",
       "1                                        NC_014551.1_2\n",
       "2    ATGAAATTTACGATTCAAAAAGATCGTTTAGTCGAAAGTGTACAAG...\n",
       "3    ['▁ATGAAATT', 'TACGATT', 'CAAAAAGATC', 'GTTTA'...\n",
       "Name: 0, dtype: object"
      ]
     },
     "execution_count": 24,
     "metadata": {},
     "output_type": "execute_result"
    }
   ],
   "source": [
    "bpe_data_with_gene_seq.iloc[0]"
   ]
  },
  {
   "cell_type": "markdown",
   "metadata": {},
   "source": [
    "### Train word2vec model (on 49000 genes, bpe)"
   ]
  },
  {
   "cell_type": "code",
   "execution_count": 2,
   "metadata": {},
   "outputs": [],
   "source": [
    "path_w2v_model_bpe = 'dna2vec_data/word2vec_49000genes_bpe_size300.model'"
   ]
  },
  {
   "cell_type": "code",
   "execution_count": 14,
   "metadata": {},
   "outputs": [],
   "source": [
    "num_features = 300\n",
    "context_size = 5\n",
    "min_count = 1\n",
    "num_workers = multiprocessing.cpu_count()\n",
    "seed = 42"
   ]
  },
  {
   "cell_type": "code",
   "execution_count": 15,
   "metadata": {},
   "outputs": [],
   "source": [
    "model_bpe = Word2Vec(size=num_features,\n",
    "                     window=context_size,\n",
    "                     min_count=min_count,\n",
    "                     workers=num_workers,\n",
    "                     seed=seed)\n",
    "\n",
    "model_bpe.save(path_w2v_model_bpe)"
   ]
  },
  {
   "cell_type": "code",
   "execution_count": 16,
   "metadata": {},
   "outputs": [],
   "source": [
    "model_bpe.build_vocab(all_genes_words_bpe)\n",
    "model_bpe.save(path_w2v_model_bpe)"
   ]
  },
  {
   "cell_type": "code",
   "execution_count": 17,
   "metadata": {},
   "outputs": [
    {
     "data": {
      "text/plain": [
       "(49806, 5)"
      ]
     },
     "execution_count": 17,
     "metadata": {},
     "output_type": "execute_result"
    }
   ],
   "source": [
    "model_bpe.corpus_count, model_bpe.epochs"
   ]
  },
  {
   "cell_type": "code",
   "execution_count": 18,
   "metadata": {},
   "outputs": [
    {
     "name": "stdout",
     "output_type": "stream",
     "text": [
      "total time: 1.8e+02 sec\n"
     ]
    }
   ],
   "source": [
    "#about 3 min\n",
    "start = timer()\n",
    "model_bpe.train(all_genes_words_bpe, total_examples=model_bpe.corpus_count, epochs=model_bpe.epochs)\n",
    "model_bpe.save(path_w2v_model_bpe)\n",
    "print(f'total time: {timer()-start:.2} sec')"
   ]
  },
  {
   "cell_type": "code",
   "execution_count": 3,
   "metadata": {},
   "outputs": [],
   "source": [
    "# just load the model\n",
    "#model_bpe = Word2Vec.load(path_w2v_model_bpe)"
   ]
  },
  {
   "cell_type": "markdown",
   "metadata": {},
   "source": [
    "### Read .csv file (1000 genes)"
   ]
  },
  {
   "cell_type": "code",
   "execution_count": 27,
   "metadata": {},
   "outputs": [
    {
     "data": {
      "text/plain": [
       "(1066, 4)"
      ]
     },
     "execution_count": 27,
     "metadata": {},
     "output_type": "execute_result"
    }
   ],
   "source": [
    "df_genes = pd.read_csv('~/sf_data/all_genes.csv', header=None)\n",
    "df_genes.shape"
   ]
  },
  {
   "cell_type": "code",
   "execution_count": 28,
   "metadata": {},
   "outputs": [
    {
     "data": {
      "text/html": [
       "<div>\n",
       "<style scoped>\n",
       "    .dataframe tbody tr th:only-of-type {\n",
       "        vertical-align: middle;\n",
       "    }\n",
       "\n",
       "    .dataframe tbody tr th {\n",
       "        vertical-align: top;\n",
       "    }\n",
       "\n",
       "    .dataframe thead th {\n",
       "        text-align: right;\n",
       "    }\n",
       "</style>\n",
       "<table border=\"1\" class=\"dataframe\">\n",
       "  <thead>\n",
       "    <tr style=\"text-align: right;\">\n",
       "      <th></th>\n",
       "      <th>0</th>\n",
       "      <th>1</th>\n",
       "      <th>2</th>\n",
       "    </tr>\n",
       "  </thead>\n",
       "  <tbody>\n",
       "    <tr>\n",
       "      <th>0</th>\n",
       "      <td>Bacillus_amyloliquefaciens_GCF_000196735.1_ASM...</td>\n",
       "      <td>pgk</td>\n",
       "      <td>ATGAATAAGAAAACAGTAAAAGACATCGACGTAAAAGGCAAAGTCG...</td>\n",
       "    </tr>\n",
       "    <tr>\n",
       "      <th>1</th>\n",
       "      <td>Bacillus_amyloliquefaciens_GCF_000196735.1_ASM...</td>\n",
       "      <td>rplW</td>\n",
       "      <td>ATGAAAGATCCTCGTGATGTTCTTAAGCGCCCCGTCATTACTGAAC...</td>\n",
       "    </tr>\n",
       "    <tr>\n",
       "      <th>2</th>\n",
       "      <td>Bacillus_amyloliquefaciens_GCF_000196735.1_ASM...</td>\n",
       "      <td>rplE</td>\n",
       "      <td>ATGAACCGCCTTAAAGAAAAGTACAATAAAGAAATTTCACCTGCTT...</td>\n",
       "    </tr>\n",
       "    <tr>\n",
       "      <th>3</th>\n",
       "      <td>Bacillus_amyloliquefaciens_GCF_000196735.1_ASM...</td>\n",
       "      <td>rplC</td>\n",
       "      <td>ATGACCAAAGGAATCTTAGGAAGAAAAATTGGTATGACGCAAGTAT...</td>\n",
       "    </tr>\n",
       "    <tr>\n",
       "      <th>4</th>\n",
       "      <td>Bacillus_amyloliquefaciens_GCF_000196735.1_ASM...</td>\n",
       "      <td>rplF</td>\n",
       "      <td>ATGTCTCGTGTAGGTAAGAAACTGCTTGAGATCCCTTCTGAAGTTA...</td>\n",
       "    </tr>\n",
       "  </tbody>\n",
       "</table>\n",
       "</div>"
      ],
      "text/plain": [
       "                                                   0     1  \\\n",
       "0  Bacillus_amyloliquefaciens_GCF_000196735.1_ASM...   pgk   \n",
       "1  Bacillus_amyloliquefaciens_GCF_000196735.1_ASM...  rplW   \n",
       "2  Bacillus_amyloliquefaciens_GCF_000196735.1_ASM...  rplE   \n",
       "3  Bacillus_amyloliquefaciens_GCF_000196735.1_ASM...  rplC   \n",
       "4  Bacillus_amyloliquefaciens_GCF_000196735.1_ASM...  rplF   \n",
       "\n",
       "                                                   2  \n",
       "0  ATGAATAAGAAAACAGTAAAAGACATCGACGTAAAAGGCAAAGTCG...  \n",
       "1  ATGAAAGATCCTCGTGATGTTCTTAAGCGCCCCGTCATTACTGAAC...  \n",
       "2  ATGAACCGCCTTAAAGAAAAGTACAATAAAGAAATTTCACCTGCTT...  \n",
       "3  ATGACCAAAGGAATCTTAGGAAGAAAAATTGGTATGACGCAAGTAT...  \n",
       "4  ATGTCTCGTGTAGGTAAGAAACTGCTTGAGATCCCTTCTGAAGTTA...  "
      ]
     },
     "execution_count": 28,
     "metadata": {},
     "output_type": "execute_result"
    }
   ],
   "source": [
    "df_genes = df_genes.iloc[:, :3]\n",
    "df_genes.head()"
   ]
  },
  {
   "cell_type": "code",
   "execution_count": 29,
   "metadata": {},
   "outputs": [
    {
     "data": {
      "text/plain": [
       "array(['Bacillus_amyloliquefaciens_GCF_000196735.1_ASM19673v1_genomic',\n",
       "       'Bacillus_atrophaeus_GCF_000742675.1_ASM74267v1_genomic',\n",
       "       'Bacillus_halotolerans_GCF_001517105.1_ASM151710v1_genomic',\n",
       "       'Bacillus_licheniformis_GCF_000011645.1_ASM1164v1_genomic',\n",
       "       'Bacillus_mojavensis_GCF_000245335.1_ASM24533v1_genomic',\n",
       "       'Bacillus_paralicheniformis_GCF_000408885.1_ASM40888v1_genomic',\n",
       "       'Bacillus_siamensis_GCF_000262045.1_KCTC_13613_01_genomic',\n",
       "       'Bacillus_sonorensis_GCF_002202015.1_ASM220201v1_genomic',\n",
       "       'Bacillus_subtilis_GCF_000009045.1_ASM904v1_genomic',\n",
       "       'Bacillus_tequilensis_GCF_000507145.1_KCTC_13622_01_genomic',\n",
       "       'Bacillus_vallismortis_GCF_000245315.1_ASM24531v1_genomic',\n",
       "       'Bacillus_velezensis_GCF_002117165.1_ASM211716v1_genomic'],\n",
       "      dtype=object)"
      ]
     },
     "execution_count": 29,
     "metadata": {},
     "output_type": "execute_result"
    }
   ],
   "source": [
    "df_genes[0].unique()"
   ]
  },
  {
   "cell_type": "code",
   "execution_count": 30,
   "metadata": {},
   "outputs": [
    {
     "data": {
      "text/plain": [
       "1066"
      ]
     },
     "execution_count": 30,
     "metadata": {},
     "output_type": "execute_result"
    }
   ],
   "source": [
    "orgs = ['_'.join(org_name.split('_',2)[0:2]) for org_name in df_genes[0]]\n",
    "len(orgs)"
   ]
  },
  {
   "cell_type": "code",
   "execution_count": 31,
   "metadata": {},
   "outputs": [
    {
     "data": {
      "text/plain": [
       "['Bacillus_amyloliquefaciens',\n",
       " 'Bacillus_atrophaeus',\n",
       " 'Bacillus_halotolerans',\n",
       " 'Bacillus_licheniformis',\n",
       " 'Bacillus_mojavensis',\n",
       " 'Bacillus_paralicheniformis',\n",
       " 'Bacillus_siamensis',\n",
       " 'Bacillus_sonorensis',\n",
       " 'Bacillus_subtilis',\n",
       " 'Bacillus_tequilensis',\n",
       " 'Bacillus_vallismortis',\n",
       " 'Bacillus_velezensis']"
      ]
     },
     "execution_count": 31,
     "metadata": {},
     "output_type": "execute_result"
    }
   ],
   "source": [
    "path_gene_nuc = '../../sf_data/prodigal_output/gene_nuc/'\n",
    "org_names = [f[:f.index('_', f.index('_') + 1)] for f in os.listdir(path_gene_nuc)]\n",
    "org_names"
   ]
  },
  {
   "cell_type": "code",
   "execution_count": 32,
   "metadata": {},
   "outputs": [
    {
     "name": "stdout",
     "output_type": "stream",
     "text": [
      "set()\n",
      "set()\n"
     ]
    }
   ],
   "source": [
    "# check sets of organisms names in two files\n",
    "print(set(orgs) ^ set(org_names))\n",
    "print(set(org_names) ^ set(orgs))"
   ]
  },
  {
   "cell_type": "code",
   "execution_count": 33,
   "metadata": {},
   "outputs": [],
   "source": [
    "tmp_org = []\n",
    "\n",
    "for name in df_genes[0]:\n",
    "    for (org_id, org_name) in enumerate(org_names):\n",
    "        if name.startswith(org_name):\n",
    "            tmp_org.append('_'.join((str(org_id), org_name)))"
   ]
  },
  {
   "cell_type": "code",
   "execution_count": 34,
   "metadata": {},
   "outputs": [
    {
     "data": {
      "text/html": [
       "<div>\n",
       "<style scoped>\n",
       "    .dataframe tbody tr th:only-of-type {\n",
       "        vertical-align: middle;\n",
       "    }\n",
       "\n",
       "    .dataframe tbody tr th {\n",
       "        vertical-align: top;\n",
       "    }\n",
       "\n",
       "    .dataframe thead th {\n",
       "        text-align: right;\n",
       "    }\n",
       "</style>\n",
       "<table border=\"1\" class=\"dataframe\">\n",
       "  <thead>\n",
       "    <tr style=\"text-align: right;\">\n",
       "      <th></th>\n",
       "      <th>0</th>\n",
       "      <th>1</th>\n",
       "      <th>2</th>\n",
       "      <th>org_id_name</th>\n",
       "    </tr>\n",
       "  </thead>\n",
       "  <tbody>\n",
       "    <tr>\n",
       "      <th>0</th>\n",
       "      <td>Bacillus_amyloliquefaciens_GCF_000196735.1_ASM...</td>\n",
       "      <td>pgk</td>\n",
       "      <td>ATGAATAAGAAAACAGTAAAAGACATCGACGTAAAAGGCAAAGTCG...</td>\n",
       "      <td>0_Bacillus_amyloliquefaciens</td>\n",
       "    </tr>\n",
       "    <tr>\n",
       "      <th>1</th>\n",
       "      <td>Bacillus_amyloliquefaciens_GCF_000196735.1_ASM...</td>\n",
       "      <td>rplW</td>\n",
       "      <td>ATGAAAGATCCTCGTGATGTTCTTAAGCGCCCCGTCATTACTGAAC...</td>\n",
       "      <td>0_Bacillus_amyloliquefaciens</td>\n",
       "    </tr>\n",
       "    <tr>\n",
       "      <th>2</th>\n",
       "      <td>Bacillus_amyloliquefaciens_GCF_000196735.1_ASM...</td>\n",
       "      <td>rplE</td>\n",
       "      <td>ATGAACCGCCTTAAAGAAAAGTACAATAAAGAAATTTCACCTGCTT...</td>\n",
       "      <td>0_Bacillus_amyloliquefaciens</td>\n",
       "    </tr>\n",
       "    <tr>\n",
       "      <th>3</th>\n",
       "      <td>Bacillus_amyloliquefaciens_GCF_000196735.1_ASM...</td>\n",
       "      <td>rplC</td>\n",
       "      <td>ATGACCAAAGGAATCTTAGGAAGAAAAATTGGTATGACGCAAGTAT...</td>\n",
       "      <td>0_Bacillus_amyloliquefaciens</td>\n",
       "    </tr>\n",
       "    <tr>\n",
       "      <th>4</th>\n",
       "      <td>Bacillus_amyloliquefaciens_GCF_000196735.1_ASM...</td>\n",
       "      <td>rplF</td>\n",
       "      <td>ATGTCTCGTGTAGGTAAGAAACTGCTTGAGATCCCTTCTGAAGTTA...</td>\n",
       "      <td>0_Bacillus_amyloliquefaciens</td>\n",
       "    </tr>\n",
       "  </tbody>\n",
       "</table>\n",
       "</div>"
      ],
      "text/plain": [
       "                                                   0     1  \\\n",
       "0  Bacillus_amyloliquefaciens_GCF_000196735.1_ASM...   pgk   \n",
       "1  Bacillus_amyloliquefaciens_GCF_000196735.1_ASM...  rplW   \n",
       "2  Bacillus_amyloliquefaciens_GCF_000196735.1_ASM...  rplE   \n",
       "3  Bacillus_amyloliquefaciens_GCF_000196735.1_ASM...  rplC   \n",
       "4  Bacillus_amyloliquefaciens_GCF_000196735.1_ASM...  rplF   \n",
       "\n",
       "                                                   2  \\\n",
       "0  ATGAATAAGAAAACAGTAAAAGACATCGACGTAAAAGGCAAAGTCG...   \n",
       "1  ATGAAAGATCCTCGTGATGTTCTTAAGCGCCCCGTCATTACTGAAC...   \n",
       "2  ATGAACCGCCTTAAAGAAAAGTACAATAAAGAAATTTCACCTGCTT...   \n",
       "3  ATGACCAAAGGAATCTTAGGAAGAAAAATTGGTATGACGCAAGTAT...   \n",
       "4  ATGTCTCGTGTAGGTAAGAAACTGCTTGAGATCCCTTCTGAAGTTA...   \n",
       "\n",
       "                    org_id_name  \n",
       "0  0_Bacillus_amyloliquefaciens  \n",
       "1  0_Bacillus_amyloliquefaciens  \n",
       "2  0_Bacillus_amyloliquefaciens  \n",
       "3  0_Bacillus_amyloliquefaciens  \n",
       "4  0_Bacillus_amyloliquefaciens  "
      ]
     },
     "execution_count": 34,
     "metadata": {},
     "output_type": "execute_result"
    }
   ],
   "source": [
    "df_genes['org_id_name'] = tmp_org\n",
    "df_genes.head()"
   ]
  },
  {
   "cell_type": "code",
   "execution_count": 35,
   "metadata": {},
   "outputs": [],
   "source": [
    "del tmp_org"
   ]
  },
  {
   "cell_type": "code",
   "execution_count": 36,
   "metadata": {},
   "outputs": [
    {
     "data": {
      "text/html": [
       "<div>\n",
       "<style scoped>\n",
       "    .dataframe tbody tr th:only-of-type {\n",
       "        vertical-align: middle;\n",
       "    }\n",
       "\n",
       "    .dataframe tbody tr th {\n",
       "        vertical-align: top;\n",
       "    }\n",
       "\n",
       "    .dataframe thead th {\n",
       "        text-align: right;\n",
       "    }\n",
       "</style>\n",
       "<table border=\"1\" class=\"dataframe\">\n",
       "  <thead>\n",
       "    <tr style=\"text-align: right;\">\n",
       "      <th></th>\n",
       "      <th>1</th>\n",
       "      <th>2</th>\n",
       "      <th>org_id_name</th>\n",
       "    </tr>\n",
       "  </thead>\n",
       "  <tbody>\n",
       "    <tr>\n",
       "      <th>0</th>\n",
       "      <td>pgk</td>\n",
       "      <td>ATGAATAAGAAAACAGTAAAAGACATCGACGTAAAAGGCAAAGTCG...</td>\n",
       "      <td>0_Bacillus_amyloliquefaciens</td>\n",
       "    </tr>\n",
       "    <tr>\n",
       "      <th>1</th>\n",
       "      <td>rplW</td>\n",
       "      <td>ATGAAAGATCCTCGTGATGTTCTTAAGCGCCCCGTCATTACTGAAC...</td>\n",
       "      <td>0_Bacillus_amyloliquefaciens</td>\n",
       "    </tr>\n",
       "    <tr>\n",
       "      <th>2</th>\n",
       "      <td>rplE</td>\n",
       "      <td>ATGAACCGCCTTAAAGAAAAGTACAATAAAGAAATTTCACCTGCTT...</td>\n",
       "      <td>0_Bacillus_amyloliquefaciens</td>\n",
       "    </tr>\n",
       "    <tr>\n",
       "      <th>3</th>\n",
       "      <td>rplC</td>\n",
       "      <td>ATGACCAAAGGAATCTTAGGAAGAAAAATTGGTATGACGCAAGTAT...</td>\n",
       "      <td>0_Bacillus_amyloliquefaciens</td>\n",
       "    </tr>\n",
       "    <tr>\n",
       "      <th>4</th>\n",
       "      <td>rplF</td>\n",
       "      <td>ATGTCTCGTGTAGGTAAGAAACTGCTTGAGATCCCTTCTGAAGTTA...</td>\n",
       "      <td>0_Bacillus_amyloliquefaciens</td>\n",
       "    </tr>\n",
       "  </tbody>\n",
       "</table>\n",
       "</div>"
      ],
      "text/plain": [
       "      1                                                  2  \\\n",
       "0   pgk  ATGAATAAGAAAACAGTAAAAGACATCGACGTAAAAGGCAAAGTCG...   \n",
       "1  rplW  ATGAAAGATCCTCGTGATGTTCTTAAGCGCCCCGTCATTACTGAAC...   \n",
       "2  rplE  ATGAACCGCCTTAAAGAAAAGTACAATAAAGAAATTTCACCTGCTT...   \n",
       "3  rplC  ATGACCAAAGGAATCTTAGGAAGAAAAATTGGTATGACGCAAGTAT...   \n",
       "4  rplF  ATGTCTCGTGTAGGTAAGAAACTGCTTGAGATCCCTTCTGAAGTTA...   \n",
       "\n",
       "                    org_id_name  \n",
       "0  0_Bacillus_amyloliquefaciens  \n",
       "1  0_Bacillus_amyloliquefaciens  \n",
       "2  0_Bacillus_amyloliquefaciens  \n",
       "3  0_Bacillus_amyloliquefaciens  \n",
       "4  0_Bacillus_amyloliquefaciens  "
      ]
     },
     "execution_count": 36,
     "metadata": {},
     "output_type": "execute_result"
    }
   ],
   "source": [
    "df_genes = df_genes.iloc[:, 1:]\n",
    "df_genes.head()"
   ]
  },
  {
   "cell_type": "code",
   "execution_count": 37,
   "metadata": {},
   "outputs": [
    {
     "data": {
      "text/html": [
       "<div>\n",
       "<style scoped>\n",
       "    .dataframe tbody tr th:only-of-type {\n",
       "        vertical-align: middle;\n",
       "    }\n",
       "\n",
       "    .dataframe tbody tr th {\n",
       "        vertical-align: top;\n",
       "    }\n",
       "\n",
       "    .dataframe thead th {\n",
       "        text-align: right;\n",
       "    }\n",
       "</style>\n",
       "<table border=\"1\" class=\"dataframe\">\n",
       "  <thead>\n",
       "    <tr style=\"text-align: right;\">\n",
       "      <th></th>\n",
       "      <th>gene_name</th>\n",
       "      <th>gene_seq</th>\n",
       "      <th>org_id_name</th>\n",
       "    </tr>\n",
       "  </thead>\n",
       "  <tbody>\n",
       "    <tr>\n",
       "      <th>0</th>\n",
       "      <td>pgk</td>\n",
       "      <td>ATGAATAAGAAAACAGTAAAAGACATCGACGTAAAAGGCAAAGTCG...</td>\n",
       "      <td>0_Bacillus_amyloliquefaciens</td>\n",
       "    </tr>\n",
       "    <tr>\n",
       "      <th>1</th>\n",
       "      <td>rplW</td>\n",
       "      <td>ATGAAAGATCCTCGTGATGTTCTTAAGCGCCCCGTCATTACTGAAC...</td>\n",
       "      <td>0_Bacillus_amyloliquefaciens</td>\n",
       "    </tr>\n",
       "    <tr>\n",
       "      <th>2</th>\n",
       "      <td>rplE</td>\n",
       "      <td>ATGAACCGCCTTAAAGAAAAGTACAATAAAGAAATTTCACCTGCTT...</td>\n",
       "      <td>0_Bacillus_amyloliquefaciens</td>\n",
       "    </tr>\n",
       "    <tr>\n",
       "      <th>3</th>\n",
       "      <td>rplC</td>\n",
       "      <td>ATGACCAAAGGAATCTTAGGAAGAAAAATTGGTATGACGCAAGTAT...</td>\n",
       "      <td>0_Bacillus_amyloliquefaciens</td>\n",
       "    </tr>\n",
       "    <tr>\n",
       "      <th>4</th>\n",
       "      <td>rplF</td>\n",
       "      <td>ATGTCTCGTGTAGGTAAGAAACTGCTTGAGATCCCTTCTGAAGTTA...</td>\n",
       "      <td>0_Bacillus_amyloliquefaciens</td>\n",
       "    </tr>\n",
       "  </tbody>\n",
       "</table>\n",
       "</div>"
      ],
      "text/plain": [
       "  gene_name                                           gene_seq  \\\n",
       "0       pgk  ATGAATAAGAAAACAGTAAAAGACATCGACGTAAAAGGCAAAGTCG...   \n",
       "1      rplW  ATGAAAGATCCTCGTGATGTTCTTAAGCGCCCCGTCATTACTGAAC...   \n",
       "2      rplE  ATGAACCGCCTTAAAGAAAAGTACAATAAAGAAATTTCACCTGCTT...   \n",
       "3      rplC  ATGACCAAAGGAATCTTAGGAAGAAAAATTGGTATGACGCAAGTAT...   \n",
       "4      rplF  ATGTCTCGTGTAGGTAAGAAACTGCTTGAGATCCCTTCTGAAGTTA...   \n",
       "\n",
       "                    org_id_name  \n",
       "0  0_Bacillus_amyloliquefaciens  \n",
       "1  0_Bacillus_amyloliquefaciens  \n",
       "2  0_Bacillus_amyloliquefaciens  \n",
       "3  0_Bacillus_amyloliquefaciens  \n",
       "4  0_Bacillus_amyloliquefaciens  "
      ]
     },
     "execution_count": 37,
     "metadata": {},
     "output_type": "execute_result"
    }
   ],
   "source": [
    "df_genes.rename(columns={1:'gene_name',2:'gene_seq',3:'org_id_name'}, inplace=True)\n",
    "df_genes.head()"
   ]
  },
  {
   "cell_type": "code",
   "execution_count": 38,
   "metadata": {},
   "outputs": [
    {
     "data": {
      "text/html": [
       "<div>\n",
       "<style scoped>\n",
       "    .dataframe tbody tr th:only-of-type {\n",
       "        vertical-align: middle;\n",
       "    }\n",
       "\n",
       "    .dataframe tbody tr th {\n",
       "        vertical-align: top;\n",
       "    }\n",
       "\n",
       "    .dataframe thead th {\n",
       "        text-align: right;\n",
       "    }\n",
       "</style>\n",
       "<table border=\"1\" class=\"dataframe\">\n",
       "  <thead>\n",
       "    <tr style=\"text-align: right;\">\n",
       "      <th></th>\n",
       "      <th>org_id_name</th>\n",
       "      <th>gene_name</th>\n",
       "    </tr>\n",
       "  </thead>\n",
       "  <tbody>\n",
       "    <tr>\n",
       "      <th>0</th>\n",
       "      <td>0_Bacillus_amyloliquefaciens</td>\n",
       "      <td>pgk</td>\n",
       "    </tr>\n",
       "    <tr>\n",
       "      <th>1</th>\n",
       "      <td>0_Bacillus_amyloliquefaciens</td>\n",
       "      <td>rplW</td>\n",
       "    </tr>\n",
       "    <tr>\n",
       "      <th>2</th>\n",
       "      <td>0_Bacillus_amyloliquefaciens</td>\n",
       "      <td>rplE</td>\n",
       "    </tr>\n",
       "    <tr>\n",
       "      <th>3</th>\n",
       "      <td>0_Bacillus_amyloliquefaciens</td>\n",
       "      <td>rplC</td>\n",
       "    </tr>\n",
       "    <tr>\n",
       "      <th>4</th>\n",
       "      <td>0_Bacillus_amyloliquefaciens</td>\n",
       "      <td>rplF</td>\n",
       "    </tr>\n",
       "  </tbody>\n",
       "</table>\n",
       "</div>"
      ],
      "text/plain": [
       "                    org_id_name gene_name\n",
       "0  0_Bacillus_amyloliquefaciens       pgk\n",
       "1  0_Bacillus_amyloliquefaciens      rplW\n",
       "2  0_Bacillus_amyloliquefaciens      rplE\n",
       "3  0_Bacillus_amyloliquefaciens      rplC\n",
       "4  0_Bacillus_amyloliquefaciens      rplF"
      ]
     },
     "execution_count": 38,
     "metadata": {},
     "output_type": "execute_result"
    }
   ],
   "source": [
    "df_meta_info = df_genes.loc[:, ['org_id_name', 'gene_name']]\n",
    "df_meta_info.head()"
   ]
  },
  {
   "cell_type": "code",
   "execution_count": 39,
   "metadata": {},
   "outputs": [
    {
     "data": {
      "text/html": [
       "<div>\n",
       "<style scoped>\n",
       "    .dataframe tbody tr th:only-of-type {\n",
       "        vertical-align: middle;\n",
       "    }\n",
       "\n",
       "    .dataframe tbody tr th {\n",
       "        vertical-align: top;\n",
       "    }\n",
       "\n",
       "    .dataframe thead th {\n",
       "        text-align: right;\n",
       "    }\n",
       "</style>\n",
       "<table border=\"1\" class=\"dataframe\">\n",
       "  <thead>\n",
       "    <tr style=\"text-align: right;\">\n",
       "      <th></th>\n",
       "      <th>gene_name</th>\n",
       "      <th>gene_seq</th>\n",
       "      <th>org_id_name</th>\n",
       "    </tr>\n",
       "  </thead>\n",
       "  <tbody>\n",
       "    <tr>\n",
       "      <th>0</th>\n",
       "      <td>pgk</td>\n",
       "      <td>ATGAATAAGAAAACAGTAAAAGACATCGACGTAAAAGGCAAAGTCG...</td>\n",
       "      <td>0_Bacillus_amyloliquefaciens</td>\n",
       "    </tr>\n",
       "    <tr>\n",
       "      <th>1</th>\n",
       "      <td>rplW</td>\n",
       "      <td>ATGAAAGATCCTCGTGATGTTCTTAAGCGCCCCGTCATTACTGAAC...</td>\n",
       "      <td>0_Bacillus_amyloliquefaciens</td>\n",
       "    </tr>\n",
       "    <tr>\n",
       "      <th>2</th>\n",
       "      <td>rplE</td>\n",
       "      <td>ATGAACCGCCTTAAAGAAAAGTACAATAAAGAAATTTCACCTGCTT...</td>\n",
       "      <td>0_Bacillus_amyloliquefaciens</td>\n",
       "    </tr>\n",
       "    <tr>\n",
       "      <th>3</th>\n",
       "      <td>rplC</td>\n",
       "      <td>ATGACCAAAGGAATCTTAGGAAGAAAAATTGGTATGACGCAAGTAT...</td>\n",
       "      <td>0_Bacillus_amyloliquefaciens</td>\n",
       "    </tr>\n",
       "    <tr>\n",
       "      <th>4</th>\n",
       "      <td>rplF</td>\n",
       "      <td>ATGTCTCGTGTAGGTAAGAAACTGCTTGAGATCCCTTCTGAAGTTA...</td>\n",
       "      <td>0_Bacillus_amyloliquefaciens</td>\n",
       "    </tr>\n",
       "  </tbody>\n",
       "</table>\n",
       "</div>"
      ],
      "text/plain": [
       "  gene_name                                           gene_seq  \\\n",
       "0       pgk  ATGAATAAGAAAACAGTAAAAGACATCGACGTAAAAGGCAAAGTCG...   \n",
       "1      rplW  ATGAAAGATCCTCGTGATGTTCTTAAGCGCCCCGTCATTACTGAAC...   \n",
       "2      rplE  ATGAACCGCCTTAAAGAAAAGTACAATAAAGAAATTTCACCTGCTT...   \n",
       "3      rplC  ATGACCAAAGGAATCTTAGGAAGAAAAATTGGTATGACGCAAGTAT...   \n",
       "4      rplF  ATGTCTCGTGTAGGTAAGAAACTGCTTGAGATCCCTTCTGAAGTTA...   \n",
       "\n",
       "                    org_id_name  \n",
       "0  0_Bacillus_amyloliquefaciens  \n",
       "1  0_Bacillus_amyloliquefaciens  \n",
       "2  0_Bacillus_amyloliquefaciens  \n",
       "3  0_Bacillus_amyloliquefaciens  \n",
       "4  0_Bacillus_amyloliquefaciens  "
      ]
     },
     "execution_count": 39,
     "metadata": {},
     "output_type": "execute_result"
    }
   ],
   "source": [
    "df_genes.head()"
   ]
  },
  {
   "cell_type": "markdown",
   "metadata": {},
   "source": [
    "### find bpe samples for 1000 genes"
   ]
  },
  {
   "cell_type": "markdown",
   "metadata": {},
   "source": [
    "Only without the first gene. So there would be not 1066, but 1065 genes"
   ]
  },
  {
   "cell_type": "code",
   "execution_count": 40,
   "metadata": {},
   "outputs": [
    {
     "data": {
      "text/plain": [
       "1066"
      ]
     },
     "execution_count": 40,
     "metadata": {},
     "output_type": "execute_result"
    }
   ],
   "source": [
    "len(df_genes)"
   ]
  },
  {
   "cell_type": "code",
   "execution_count": 41,
   "metadata": {},
   "outputs": [
    {
     "data": {
      "text/plain": [
       "['Bacillus_amyloliquefaciens_GCF_000196735.1_ASM19673v1_genomic.fasta',\n",
       " 'NC_014551.1_2',\n",
       " 'ATGAAATTTACGATTCAAAAAGATCGTTTAGTCGAAAGTGTACAAGACGTTCTAAAAGCTGTTTCATCCAGAACAACAATTCCCATTCTTACCGGTATTAAGATCGTAGCCTCAGATGAAGGAGTATCATTTACAGGAAGCGACTCTGATATTTCAATCGAGTCATTCATTCCAAAAGAAGAAGATGATAAGGAAATCGTGACGATCGATCAGCCGGGAAGTATCGTGCTGCAAGCCCGTTTCTTCAGTGAAATCGTTAAAAAACTTCCGATGGCGACTGTTGAAATCGAAGTTCAAAATCAATATTTAACGATTATCCGCTTCGGAAAAGCCGAATTTAATTTAAACGGCCTTGATGCAGATGAATATCCTCATCTTCCGCAAATCGAAGAGCATCATGCCATTCAGATTCCGACGGACCTTTTGAAAAACCTAATCCGTCAAACCGTGTTCGCTGTGTCCGCCTCAGAAACACGCCCTATCTTGACAGGTGTAAACTGGAAAGTGGAAAACGGTGAATTATTATGCACTGCCACGGATAGCCATCGACTCGCTTTAAGAAAGGCGAAGCTTGATATTCCGGAAGACAGCTCTTATAACGTCGTCATCCCCGGAAAAAGCTTAACCGAGCTGAGCAAAATTCTTGATGACAGCCAAGAACTGGTAGATATCGTTATTACAGAAACGCAAGTTCTGTTTAAAGCGAAAAACGTATTGTTCTTCTCAAGGCTGCTTGACGGAAATTATCCGGACACGACCAGCTTAATTCCGCAGGAAAGCAAAACAGAAATCGTCGTGAACACGAAGGAATTTTTACAGGCGATAGACCGTGCTTCTTTATTGGCGAGAGAAGGCCGCAACAACGTTGTAAAGCTTTCTGCCAAACCGGCAGACTCGCTTGAGATTTCATCAAACTCTCCGGAAATCGGGAAAGTAGTCGAAGCTGTGCTGGCTGACCAGATTGACGGCGAGGAATTAAATATTTCATTCAGTCCAAAATATATGATGGACGCACTGAAAGTACTTGAAGGAGCGGACATCCGTATCAGCTTTACGGGAGCGATGAGACCGTTTCTTATCCGTACGCCGAATGATGAAACCATCGTTCAGCTCATCCTTCCGGTCAGAACGTATTAA',\n",
       " \"['▁ATGAAATT', 'TACGATT', 'CAAAAAGATC', 'GTTTA', 'GTCGAAA', 'GTGTA', 'CAAGACGTT', 'CTAAAA', 'GCTGTT', 'TCATCCA', 'GAACAA', 'CAATT', 'CCCATT', 'CTTA', 'CCG', 'GTATTAA', 'GATCGTA', 'GCCTCAGA', 'TGAAGGA', 'GTATCATT', 'TACAGGAA', 'GCGACTC', 'TGATATT', 'TCAATCGA', 'GTCATT', 'CATT', 'CCAAAA', 'GAAGAAGA', 'TGATAA', 'GGAAA', 'TCGTGA', 'CGATCGA', 'TCAGC', 'CGGGAA', 'GTATC', 'GTGCTGCAA', 'GCCCGTT', 'TCTTCA', 'GTGAAA', 'TCGTT', 'AAAAAA', 'CTTCCGA', 'TGGCGA', 'CTGTT', 'GAAATCGAA', 'GTTCAAAA', 'TCAATATT', 'TAACGA', 'TTATC', 'CGCTT', 'CGGAAAA', 'GCCGAATT', 'TAATT', 'TAAACGGC', 'CTTGA', 'TGCAGA', 'TGAA', 'TATCC', 'TCATCTT', 'CCGCAAA', 'TCGAAGA', 'GCATCA', 'TGCCATT', 'CAGATT', 'CCGACGGA', 'CCTTTT', 'GAAAAA', 'CCTAA', 'TCCGTCAAA', 'CCGTGTT', 'CGC', 'TGTGTC', 'CGCCTCA', 'GAAA', 'CACGC', 'CCTA', 'TCTTGACA', 'GGTGTAAACTGGAAA', 'GTGGAAAA', 'CGGTGAA', 'TTATTA', 'TGCACTGC', 'CACGGA', 'TAGCCA', 'TCGACTC', 'GCTTTAA', 'GAAAGGCGAA', 'GCTTGA', 'TATT', 'CCGGAAGA', 'CAGC', 'TCTTATAA', 'CGTCGTCA', 'TC', 'CC', 'CGGAAAAA', 'GCTTAA', 'CC', 'GAGCTGA', 'GCAAAATT', 'CTTGATGA', 'CAGC', 'CAAGAA', 'CTG', 'GTAGA', 'TATCGTTA', 'TTACAGAAA', 'CGCAAGTT', 'CTGTT', 'TAAAGCGAAAAA', 'CGTATT', 'GTTCTT', 'CTCAA', 'GGC', 'TGCTTGA', 'CGGAAA', 'TTATCCGGA', 'CACGA', 'CCAGCTT', 'AATT', 'CCGCA', 'GGAAAGCAAAA', 'CAGAAA', 'TCGTC', 'GTGAA', 'CACGAA', 'GGAATTTT', 'TACAGGC', 'GATAGA', 'CCGTGCTT', 'CTTTATT', 'GGCGAGA', 'GAAGGC', 'CGCAA', 'CAACGTT', 'GTAAA', 'GCTTTCTGC', 'CAAA', 'CCGGCAGA', 'CTC', 'GCTTGA', 'GATT', 'TCATCAAA', 'CTC', 'TCCGGAAA', 'TCGG', 'GAAAGTA', 'GTCGAAGC', 'TGTGCTGGC', 'TGACCA', 'GATTGA', 'CGGCGA', 'GGAATTAAA', 'TATTTCATT', 'CAGTC', 'CAAAATATA', 'TGATGGA', 'CGCACTGAAA', 'GTACTTGAA', 'GGAGCGGA', 'CATC', 'CGTATCA', 'GCTT', 'TACGGGA', 'GCGATGAGA', 'CCGTT', 'TCTTA', 'TCCG', 'TACGCCGAA', 'TGATGAAA', 'CCATCGTT', 'CAGCTCA', 'TCCTT', 'CCGGTCA', 'GAA', 'CGTATTAA']\"]"
      ]
     },
     "execution_count": 41,
     "metadata": {},
     "output_type": "execute_result"
    }
   ],
   "source": [
    "bpe_data_with_gene_seq.values.tolist()[0]"
   ]
  },
  {
   "cell_type": "code",
   "execution_count": 42,
   "metadata": {},
   "outputs": [
    {
     "data": {
      "text/plain": [
       "[(['Bacillus', 'amyloliquefaciens'], ['Bacillus', 'amyloliquefaciens'])]"
      ]
     },
     "execution_count": 42,
     "metadata": {},
     "output_type": "execute_result"
    }
   ],
   "source": [
    "i = 1\n",
    "[(df_genes.iloc[i]['org_id_name'].split('_')[1:], bpe[0].split('_')[:2])\n",
    " for bpe in bpe_data_with_gene_seq.values\n",
    " if df_genes.iloc[i]['gene_seq'] == bpe[2]\n",
    " and df_genes.iloc[i]['org_id_name'].split('_')[1:] == bpe[0].split('_')[:2]]"
   ]
  },
  {
   "cell_type": "code",
   "execution_count": 60,
   "metadata": {},
   "outputs": [
    {
     "name": "stdout",
     "output_type": "stream",
     "text": [
      "total time: 1e+02 sec\n"
     ]
    }
   ],
   "source": [
    "genes_1000_pre_vec_first_10 = []\n",
    "\n",
    "start = timer()\n",
    "\n",
    "for i in range(len(df_genes[:10])):\n",
    "    [genes_1000_pre_vec_first_10.append((\n",
    "        bpe[0],\n",
    "        df_genes.iloc[i]['org_id_name'],\n",
    "        bpe[1],\n",
    "        df_genes.iloc[i]['gene_name'],\n",
    "        df_genes.iloc[i]['gene_seq'],\n",
    "        bpe[3]))\n",
    "     for bpe in bpe_data_with_gene_seq.values\n",
    "     if df_genes.iloc[i]['gene_seq'] == bpe[2]\n",
    "     and df_genes.iloc[i]['org_id_name'].split('_')[1:] == bpe[0].split('_')[:2]]\n",
    "    \n",
    "print(f'total time: {timer()-start:.2} sec')"
   ]
  },
  {
   "cell_type": "code",
   "execution_count": 59,
   "metadata": {},
   "outputs": [
    {
     "data": {
      "text/plain": [
       "(49806, 4)"
      ]
     },
     "execution_count": 59,
     "metadata": {},
     "output_type": "execute_result"
    }
   ],
   "source": [
    "bpe_data_with_gene_seq.values.shape"
   ]
  },
  {
   "cell_type": "code",
   "execution_count": 62,
   "metadata": {},
   "outputs": [
    {
     "data": {
      "text/plain": [
       "10"
      ]
     },
     "execution_count": 62,
     "metadata": {},
     "output_type": "execute_result"
    }
   ],
   "source": [
    "len(genes_1000_pre_vec_first_10)"
   ]
  },
  {
   "cell_type": "code",
   "execution_count": null,
   "metadata": {},
   "outputs": [],
   "source": [
    "# about 3 hours!\n",
    "genes_1000_pre_vec = []\n",
    "\n",
    "start = timer()\n",
    "\n",
    "for i in range(len(df_genes)):\n",
    "    print(f'{i}: {timer()-start:.2} sec')\n",
    "    [genes_1000_pre_vec.append((\n",
    "        bpe[0],\n",
    "        df_genes.iloc[i]['org_id_name'],\n",
    "        bpe[1],\n",
    "        df_genes.iloc[i]['gene_name'],\n",
    "        df_genes.iloc[i]['gene_seq'],\n",
    "        bpe[3]))\n",
    "     for bpe in bpe_data_with_gene_seq.values\n",
    "     if df_genes.iloc[i]['gene_seq'] == bpe[2]\n",
    "     and df_genes.iloc[i]['org_id_name'].split('_')[1:] == bpe[0].split('_')[:2]]\n",
    "    \n",
    "print(f'total time: {timer()-start:.2} sec')"
   ]
  },
  {
   "cell_type": "code",
   "execution_count": 44,
   "metadata": {},
   "outputs": [],
   "source": [
    "pd.DataFrame(genes_1000_pre_vec).to_csv('util_data/genes_1000_pre_vec.csv', header=False, index=False)"
   ]
  },
  {
   "cell_type": "code",
   "execution_count": 45,
   "metadata": {},
   "outputs": [
    {
     "data": {
      "text/plain": [
       "1065"
      ]
     },
     "execution_count": 45,
     "metadata": {},
     "output_type": "execute_result"
    }
   ],
   "source": [
    "len(genes_1000_pre_vec)"
   ]
  },
  {
   "cell_type": "code",
   "execution_count": 5,
   "metadata": {},
   "outputs": [],
   "source": [
    "# load file genes_1000_pre_vec.csv\n",
    "\n",
    "#genes_1000_pre_vec = pd.read_csv('util_data/genes_1000_pre_vec.csv', header=None, index_col=None)"
   ]
  },
  {
   "cell_type": "code",
   "execution_count": 6,
   "metadata": {},
   "outputs": [
    {
     "data": {
      "text/html": [
       "<div>\n",
       "<style scoped>\n",
       "    .dataframe tbody tr th:only-of-type {\n",
       "        vertical-align: middle;\n",
       "    }\n",
       "\n",
       "    .dataframe tbody tr th {\n",
       "        vertical-align: top;\n",
       "    }\n",
       "\n",
       "    .dataframe thead th {\n",
       "        text-align: right;\n",
       "    }\n",
       "</style>\n",
       "<table border=\"1\" class=\"dataframe\">\n",
       "  <thead>\n",
       "    <tr style=\"text-align: right;\">\n",
       "      <th></th>\n",
       "      <th>0</th>\n",
       "      <th>1</th>\n",
       "      <th>2</th>\n",
       "      <th>3</th>\n",
       "      <th>4</th>\n",
       "      <th>5</th>\n",
       "    </tr>\n",
       "  </thead>\n",
       "  <tbody>\n",
       "    <tr>\n",
       "      <th>0</th>\n",
       "      <td>Bacillus_amyloliquefaciens_GCF_000196735.1_ASM...</td>\n",
       "      <td>0_Bacillus_amyloliquefaciens</td>\n",
       "      <td>NC_014551.1_3361</td>\n",
       "      <td>pgk</td>\n",
       "      <td>ATGAATAAGAAAACAGTAAAAGACATCGACGTAAAAGGCAAAGTCG...</td>\n",
       "      <td>['▁ATGAATAA', 'GAAAACA', 'GTAAAA', 'GACATCGA',...</td>\n",
       "    </tr>\n",
       "    <tr>\n",
       "      <th>1</th>\n",
       "      <td>Bacillus_amyloliquefaciens_GCF_000196735.1_ASM...</td>\n",
       "      <td>0_Bacillus_amyloliquefaciens</td>\n",
       "      <td>NC_014551.1_122</td>\n",
       "      <td>rplW</td>\n",
       "      <td>ATGAAAGATCCTCGTGATGTTCTTAAGCGCCCCGTCATTACTGAAC...</td>\n",
       "      <td>['▁ATGAAAGA', 'TCCTCGTGA', 'TGTTCTTAA', 'GCGC'...</td>\n",
       "    </tr>\n",
       "    <tr>\n",
       "      <th>2</th>\n",
       "      <td>Bacillus_amyloliquefaciens_GCF_000196735.1_ASM...</td>\n",
       "      <td>0_Bacillus_amyloliquefaciens</td>\n",
       "      <td>NC_014551.1_132</td>\n",
       "      <td>rplE</td>\n",
       "      <td>ATGAACCGCCTTAAAGAAAAGTACAATAAAGAAATTTCACCTGCTT...</td>\n",
       "      <td>['▁ATGAACCGC', 'CTTAAAGAAAA', 'GTACAA', 'TAAAG...</td>\n",
       "    </tr>\n",
       "    <tr>\n",
       "      <th>3</th>\n",
       "      <td>Bacillus_amyloliquefaciens_GCF_000196735.1_ASM...</td>\n",
       "      <td>0_Bacillus_amyloliquefaciens</td>\n",
       "      <td>NC_014551.1_120</td>\n",
       "      <td>rplC</td>\n",
       "      <td>ATGACCAAAGGAATCTTAGGAAGAAAAATTGGTATGACGCAAGTAT...</td>\n",
       "      <td>['▁ATGA', 'CCAAAGGAA', 'TCTTA', 'GGAA', 'GAAAA...</td>\n",
       "    </tr>\n",
       "    <tr>\n",
       "      <th>4</th>\n",
       "      <td>Bacillus_amyloliquefaciens_GCF_000196735.1_ASM...</td>\n",
       "      <td>0_Bacillus_amyloliquefaciens</td>\n",
       "      <td>NC_014551.1_135</td>\n",
       "      <td>rplF</td>\n",
       "      <td>ATGTCTCGTGTAGGTAAGAAACTGCTTGAGATCCCTTCTGAAGTTA...</td>\n",
       "      <td>['▁ATGTC', 'TCGTGTA', 'GGTAA', 'GAAA', 'CTGCTT...</td>\n",
       "    </tr>\n",
       "  </tbody>\n",
       "</table>\n",
       "</div>"
      ],
      "text/plain": [
       "                                                   0  \\\n",
       "0  Bacillus_amyloliquefaciens_GCF_000196735.1_ASM...   \n",
       "1  Bacillus_amyloliquefaciens_GCF_000196735.1_ASM...   \n",
       "2  Bacillus_amyloliquefaciens_GCF_000196735.1_ASM...   \n",
       "3  Bacillus_amyloliquefaciens_GCF_000196735.1_ASM...   \n",
       "4  Bacillus_amyloliquefaciens_GCF_000196735.1_ASM...   \n",
       "\n",
       "                              1                 2     3  \\\n",
       "0  0_Bacillus_amyloliquefaciens  NC_014551.1_3361   pgk   \n",
       "1  0_Bacillus_amyloliquefaciens   NC_014551.1_122  rplW   \n",
       "2  0_Bacillus_amyloliquefaciens   NC_014551.1_132  rplE   \n",
       "3  0_Bacillus_amyloliquefaciens   NC_014551.1_120  rplC   \n",
       "4  0_Bacillus_amyloliquefaciens   NC_014551.1_135  rplF   \n",
       "\n",
       "                                                   4  \\\n",
       "0  ATGAATAAGAAAACAGTAAAAGACATCGACGTAAAAGGCAAAGTCG...   \n",
       "1  ATGAAAGATCCTCGTGATGTTCTTAAGCGCCCCGTCATTACTGAAC...   \n",
       "2  ATGAACCGCCTTAAAGAAAAGTACAATAAAGAAATTTCACCTGCTT...   \n",
       "3  ATGACCAAAGGAATCTTAGGAAGAAAAATTGGTATGACGCAAGTAT...   \n",
       "4  ATGTCTCGTGTAGGTAAGAAACTGCTTGAGATCCCTTCTGAAGTTA...   \n",
       "\n",
       "                                                   5  \n",
       "0  ['▁ATGAATAA', 'GAAAACA', 'GTAAAA', 'GACATCGA',...  \n",
       "1  ['▁ATGAAAGA', 'TCCTCGTGA', 'TGTTCTTAA', 'GCGC'...  \n",
       "2  ['▁ATGAACCGC', 'CTTAAAGAAAA', 'GTACAA', 'TAAAG...  \n",
       "3  ['▁ATGA', 'CCAAAGGAA', 'TCTTA', 'GGAA', 'GAAAA...  \n",
       "4  ['▁ATGTC', 'TCGTGTA', 'GGTAA', 'GAAA', 'CTGCTT...  "
      ]
     },
     "execution_count": 6,
     "metadata": {},
     "output_type": "execute_result"
    }
   ],
   "source": [
    "genes_1000_pre_vec.head()"
   ]
  },
  {
   "cell_type": "code",
   "execution_count": 7,
   "metadata": {},
   "outputs": [
    {
     "data": {
      "text/plain": [
       "(1065, 6)"
      ]
     },
     "execution_count": 7,
     "metadata": {},
     "output_type": "execute_result"
    }
   ],
   "source": [
    "genes_1000_pre_vec.shape"
   ]
  },
  {
   "cell_type": "markdown",
   "metadata": {},
   "source": [
    "The order is not the same with starting order"
   ]
  },
  {
   "cell_type": "markdown",
   "metadata": {},
   "source": [
    "### gene2vec (for 1000 genes, bpe)"
   ]
  },
  {
   "cell_type": "code",
   "execution_count": 54,
   "metadata": {},
   "outputs": [],
   "source": [
    "# wery fast\n",
    "genes_bpe_vec = []\n",
    "for gene in genes_1000_pre_vec.values:\n",
    "    ngrams = gene[5][1:-1].replace(' ','').replace(\"'\",'').split(',')\n",
    "    genes_bpe_vec.append(np.vstack([model_bpe.wv[ngram] for ngram in ngrams]).mean(axis=0))"
   ]
  },
  {
   "cell_type": "code",
   "execution_count": 55,
   "metadata": {},
   "outputs": [
    {
     "data": {
      "text/plain": [
       "1065"
      ]
     },
     "execution_count": 55,
     "metadata": {},
     "output_type": "execute_result"
    }
   ],
   "source": [
    "len(genes_bpe_vec)"
   ]
  },
  {
   "cell_type": "code",
   "execution_count": 56,
   "metadata": {},
   "outputs": [
    {
     "data": {
      "text/plain": [
       "300"
      ]
     },
     "execution_count": 56,
     "metadata": {},
     "output_type": "execute_result"
    }
   ],
   "source": [
    "len(genes_bpe_vec[7])"
   ]
  },
  {
   "cell_type": "code",
   "execution_count": 58,
   "metadata": {},
   "outputs": [],
   "source": [
    "pd.DataFrame(genes_bpe_vec).to_csv('dna2vec_data/genes_vec_bpe_1065_genes.tsv', sep='\\t', header=False, index=False)"
   ]
  },
  {
   "cell_type": "markdown",
   "metadata": {},
   "source": [
    "### Create meta_info for bpe"
   ]
  },
  {
   "cell_type": "code",
   "execution_count": 38,
   "metadata": {},
   "outputs": [],
   "source": [
    "# load file genes_vec_bpe_1065_genes\n",
    "\n",
    "#genes_bpe_vec = pd.read_csv('dna2vec_data/genes_vec_bpe_1065_genes.tsv', sep='\\t', header=None, index_col=None)"
   ]
  },
  {
   "cell_type": "code",
   "execution_count": 39,
   "metadata": {},
   "outputs": [
    {
     "data": {
      "text/plain": [
       "(1065, 300)"
      ]
     },
     "execution_count": 39,
     "metadata": {},
     "output_type": "execute_result"
    }
   ],
   "source": [
    "genes_bpe_vec.shape"
   ]
  },
  {
   "cell_type": "code",
   "execution_count": 40,
   "metadata": {},
   "outputs": [
    {
     "data": {
      "text/html": [
       "<div>\n",
       "<style scoped>\n",
       "    .dataframe tbody tr th:only-of-type {\n",
       "        vertical-align: middle;\n",
       "    }\n",
       "\n",
       "    .dataframe tbody tr th {\n",
       "        vertical-align: top;\n",
       "    }\n",
       "\n",
       "    .dataframe thead th {\n",
       "        text-align: right;\n",
       "    }\n",
       "</style>\n",
       "<table border=\"1\" class=\"dataframe\">\n",
       "  <thead>\n",
       "    <tr style=\"text-align: right;\">\n",
       "      <th></th>\n",
       "      <th>0</th>\n",
       "      <th>1</th>\n",
       "      <th>2</th>\n",
       "      <th>3</th>\n",
       "      <th>4</th>\n",
       "      <th>5</th>\n",
       "      <th>6</th>\n",
       "      <th>7</th>\n",
       "      <th>8</th>\n",
       "      <th>9</th>\n",
       "      <th>...</th>\n",
       "      <th>290</th>\n",
       "      <th>291</th>\n",
       "      <th>292</th>\n",
       "      <th>293</th>\n",
       "      <th>294</th>\n",
       "      <th>295</th>\n",
       "      <th>296</th>\n",
       "      <th>297</th>\n",
       "      <th>298</th>\n",
       "      <th>299</th>\n",
       "    </tr>\n",
       "  </thead>\n",
       "  <tbody>\n",
       "    <tr>\n",
       "      <th>0</th>\n",
       "      <td>0.039018</td>\n",
       "      <td>0.136491</td>\n",
       "      <td>-0.145523</td>\n",
       "      <td>0.170539</td>\n",
       "      <td>-0.121021</td>\n",
       "      <td>0.016576</td>\n",
       "      <td>-0.023800</td>\n",
       "      <td>-0.129099</td>\n",
       "      <td>-0.245439</td>\n",
       "      <td>-0.051326</td>\n",
       "      <td>...</td>\n",
       "      <td>-0.317607</td>\n",
       "      <td>0.102738</td>\n",
       "      <td>0.083131</td>\n",
       "      <td>-0.023715</td>\n",
       "      <td>0.129599</td>\n",
       "      <td>0.003794</td>\n",
       "      <td>0.192270</td>\n",
       "      <td>-0.030493</td>\n",
       "      <td>-0.071842</td>\n",
       "      <td>-0.081417</td>\n",
       "    </tr>\n",
       "    <tr>\n",
       "      <th>1</th>\n",
       "      <td>0.087040</td>\n",
       "      <td>0.012174</td>\n",
       "      <td>-0.091688</td>\n",
       "      <td>0.038298</td>\n",
       "      <td>-0.085748</td>\n",
       "      <td>0.076170</td>\n",
       "      <td>0.047399</td>\n",
       "      <td>-0.081632</td>\n",
       "      <td>-0.297463</td>\n",
       "      <td>-0.072215</td>\n",
       "      <td>...</td>\n",
       "      <td>-0.268071</td>\n",
       "      <td>0.115027</td>\n",
       "      <td>0.099411</td>\n",
       "      <td>0.042407</td>\n",
       "      <td>0.115421</td>\n",
       "      <td>0.004475</td>\n",
       "      <td>0.179053</td>\n",
       "      <td>0.037602</td>\n",
       "      <td>-0.120935</td>\n",
       "      <td>-0.090398</td>\n",
       "    </tr>\n",
       "    <tr>\n",
       "      <th>2</th>\n",
       "      <td>0.024723</td>\n",
       "      <td>-0.053478</td>\n",
       "      <td>-0.142268</td>\n",
       "      <td>0.084106</td>\n",
       "      <td>-0.123484</td>\n",
       "      <td>-0.066321</td>\n",
       "      <td>0.056646</td>\n",
       "      <td>-0.120521</td>\n",
       "      <td>-0.287860</td>\n",
       "      <td>-0.051948</td>\n",
       "      <td>...</td>\n",
       "      <td>-0.258727</td>\n",
       "      <td>0.060879</td>\n",
       "      <td>0.045641</td>\n",
       "      <td>0.035888</td>\n",
       "      <td>0.181339</td>\n",
       "      <td>-0.014151</td>\n",
       "      <td>0.217226</td>\n",
       "      <td>0.058193</td>\n",
       "      <td>-0.021986</td>\n",
       "      <td>-0.090381</td>\n",
       "    </tr>\n",
       "    <tr>\n",
       "      <th>3</th>\n",
       "      <td>0.062068</td>\n",
       "      <td>0.039552</td>\n",
       "      <td>-0.125375</td>\n",
       "      <td>0.114022</td>\n",
       "      <td>-0.127860</td>\n",
       "      <td>0.008957</td>\n",
       "      <td>0.084016</td>\n",
       "      <td>-0.124281</td>\n",
       "      <td>-0.265910</td>\n",
       "      <td>-0.132501</td>\n",
       "      <td>...</td>\n",
       "      <td>-0.317253</td>\n",
       "      <td>0.092345</td>\n",
       "      <td>0.126914</td>\n",
       "      <td>0.009494</td>\n",
       "      <td>0.125307</td>\n",
       "      <td>-0.018274</td>\n",
       "      <td>0.202105</td>\n",
       "      <td>0.013432</td>\n",
       "      <td>-0.016041</td>\n",
       "      <td>-0.078024</td>\n",
       "    </tr>\n",
       "    <tr>\n",
       "      <th>4</th>\n",
       "      <td>0.019426</td>\n",
       "      <td>0.022985</td>\n",
       "      <td>-0.104884</td>\n",
       "      <td>0.074529</td>\n",
       "      <td>-0.142394</td>\n",
       "      <td>0.020855</td>\n",
       "      <td>0.049389</td>\n",
       "      <td>-0.134668</td>\n",
       "      <td>-0.278547</td>\n",
       "      <td>-0.069883</td>\n",
       "      <td>...</td>\n",
       "      <td>-0.299159</td>\n",
       "      <td>0.051952</td>\n",
       "      <td>0.086767</td>\n",
       "      <td>0.058832</td>\n",
       "      <td>0.184349</td>\n",
       "      <td>-0.052133</td>\n",
       "      <td>0.184952</td>\n",
       "      <td>-0.008276</td>\n",
       "      <td>-0.082412</td>\n",
       "      <td>-0.172264</td>\n",
       "    </tr>\n",
       "  </tbody>\n",
       "</table>\n",
       "<p>5 rows × 300 columns</p>\n",
       "</div>"
      ],
      "text/plain": [
       "        0         1         2         3         4         5         6    \\\n",
       "0  0.039018  0.136491 -0.145523  0.170539 -0.121021  0.016576 -0.023800   \n",
       "1  0.087040  0.012174 -0.091688  0.038298 -0.085748  0.076170  0.047399   \n",
       "2  0.024723 -0.053478 -0.142268  0.084106 -0.123484 -0.066321  0.056646   \n",
       "3  0.062068  0.039552 -0.125375  0.114022 -0.127860  0.008957  0.084016   \n",
       "4  0.019426  0.022985 -0.104884  0.074529 -0.142394  0.020855  0.049389   \n",
       "\n",
       "        7         8         9    ...       290       291       292       293  \\\n",
       "0 -0.129099 -0.245439 -0.051326  ... -0.317607  0.102738  0.083131 -0.023715   \n",
       "1 -0.081632 -0.297463 -0.072215  ... -0.268071  0.115027  0.099411  0.042407   \n",
       "2 -0.120521 -0.287860 -0.051948  ... -0.258727  0.060879  0.045641  0.035888   \n",
       "3 -0.124281 -0.265910 -0.132501  ... -0.317253  0.092345  0.126914  0.009494   \n",
       "4 -0.134668 -0.278547 -0.069883  ... -0.299159  0.051952  0.086767  0.058832   \n",
       "\n",
       "        294       295       296       297       298       299  \n",
       "0  0.129599  0.003794  0.192270 -0.030493 -0.071842 -0.081417  \n",
       "1  0.115421  0.004475  0.179053  0.037602 -0.120935 -0.090398  \n",
       "2  0.181339 -0.014151  0.217226  0.058193 -0.021986 -0.090381  \n",
       "3  0.125307 -0.018274  0.202105  0.013432 -0.016041 -0.078024  \n",
       "4  0.184349 -0.052133  0.184952 -0.008276 -0.082412 -0.172264  \n",
       "\n",
       "[5 rows x 300 columns]"
      ]
     },
     "execution_count": 40,
     "metadata": {},
     "output_type": "execute_result"
    }
   ],
   "source": [
    "genes_bpe_vec.head()"
   ]
  },
  {
   "cell_type": "code",
   "execution_count": 5,
   "metadata": {},
   "outputs": [],
   "source": [
    "# load file genes_1000_pre_vec.csv\n",
    "\n",
    "#genes_1000_pre_vec = pd.read_csv('util_data/genes_1000_pre_vec.csv', header=None, index_col=None)"
   ]
  },
  {
   "cell_type": "code",
   "execution_count": 6,
   "metadata": {},
   "outputs": [
    {
     "data": {
      "text/plain": [
       "(1065, 6)"
      ]
     },
     "execution_count": 6,
     "metadata": {},
     "output_type": "execute_result"
    }
   ],
   "source": [
    "genes_1000_pre_vec.shape"
   ]
  },
  {
   "cell_type": "code",
   "execution_count": 7,
   "metadata": {},
   "outputs": [
    {
     "data": {
      "text/html": [
       "<div>\n",
       "<style scoped>\n",
       "    .dataframe tbody tr th:only-of-type {\n",
       "        vertical-align: middle;\n",
       "    }\n",
       "\n",
       "    .dataframe tbody tr th {\n",
       "        vertical-align: top;\n",
       "    }\n",
       "\n",
       "    .dataframe thead th {\n",
       "        text-align: right;\n",
       "    }\n",
       "</style>\n",
       "<table border=\"1\" class=\"dataframe\">\n",
       "  <thead>\n",
       "    <tr style=\"text-align: right;\">\n",
       "      <th></th>\n",
       "      <th>0</th>\n",
       "      <th>1</th>\n",
       "      <th>2</th>\n",
       "      <th>3</th>\n",
       "      <th>4</th>\n",
       "      <th>5</th>\n",
       "    </tr>\n",
       "  </thead>\n",
       "  <tbody>\n",
       "    <tr>\n",
       "      <th>0</th>\n",
       "      <td>Bacillus_amyloliquefaciens_GCF_000196735.1_ASM...</td>\n",
       "      <td>0_Bacillus_amyloliquefaciens</td>\n",
       "      <td>NC_014551.1_3361</td>\n",
       "      <td>pgk</td>\n",
       "      <td>ATGAATAAGAAAACAGTAAAAGACATCGACGTAAAAGGCAAAGTCG...</td>\n",
       "      <td>['▁ATGAATAA', 'GAAAACA', 'GTAAAA', 'GACATCGA',...</td>\n",
       "    </tr>\n",
       "    <tr>\n",
       "      <th>1</th>\n",
       "      <td>Bacillus_amyloliquefaciens_GCF_000196735.1_ASM...</td>\n",
       "      <td>0_Bacillus_amyloliquefaciens</td>\n",
       "      <td>NC_014551.1_122</td>\n",
       "      <td>rplW</td>\n",
       "      <td>ATGAAAGATCCTCGTGATGTTCTTAAGCGCCCCGTCATTACTGAAC...</td>\n",
       "      <td>['▁ATGAAAGA', 'TCCTCGTGA', 'TGTTCTTAA', 'GCGC'...</td>\n",
       "    </tr>\n",
       "    <tr>\n",
       "      <th>2</th>\n",
       "      <td>Bacillus_amyloliquefaciens_GCF_000196735.1_ASM...</td>\n",
       "      <td>0_Bacillus_amyloliquefaciens</td>\n",
       "      <td>NC_014551.1_132</td>\n",
       "      <td>rplE</td>\n",
       "      <td>ATGAACCGCCTTAAAGAAAAGTACAATAAAGAAATTTCACCTGCTT...</td>\n",
       "      <td>['▁ATGAACCGC', 'CTTAAAGAAAA', 'GTACAA', 'TAAAG...</td>\n",
       "    </tr>\n",
       "    <tr>\n",
       "      <th>3</th>\n",
       "      <td>Bacillus_amyloliquefaciens_GCF_000196735.1_ASM...</td>\n",
       "      <td>0_Bacillus_amyloliquefaciens</td>\n",
       "      <td>NC_014551.1_120</td>\n",
       "      <td>rplC</td>\n",
       "      <td>ATGACCAAAGGAATCTTAGGAAGAAAAATTGGTATGACGCAAGTAT...</td>\n",
       "      <td>['▁ATGA', 'CCAAAGGAA', 'TCTTA', 'GGAA', 'GAAAA...</td>\n",
       "    </tr>\n",
       "    <tr>\n",
       "      <th>4</th>\n",
       "      <td>Bacillus_amyloliquefaciens_GCF_000196735.1_ASM...</td>\n",
       "      <td>0_Bacillus_amyloliquefaciens</td>\n",
       "      <td>NC_014551.1_135</td>\n",
       "      <td>rplF</td>\n",
       "      <td>ATGTCTCGTGTAGGTAAGAAACTGCTTGAGATCCCTTCTGAAGTTA...</td>\n",
       "      <td>['▁ATGTC', 'TCGTGTA', 'GGTAA', 'GAAA', 'CTGCTT...</td>\n",
       "    </tr>\n",
       "  </tbody>\n",
       "</table>\n",
       "</div>"
      ],
      "text/plain": [
       "                                                   0  \\\n",
       "0  Bacillus_amyloliquefaciens_GCF_000196735.1_ASM...   \n",
       "1  Bacillus_amyloliquefaciens_GCF_000196735.1_ASM...   \n",
       "2  Bacillus_amyloliquefaciens_GCF_000196735.1_ASM...   \n",
       "3  Bacillus_amyloliquefaciens_GCF_000196735.1_ASM...   \n",
       "4  Bacillus_amyloliquefaciens_GCF_000196735.1_ASM...   \n",
       "\n",
       "                              1                 2     3  \\\n",
       "0  0_Bacillus_amyloliquefaciens  NC_014551.1_3361   pgk   \n",
       "1  0_Bacillus_amyloliquefaciens   NC_014551.1_122  rplW   \n",
       "2  0_Bacillus_amyloliquefaciens   NC_014551.1_132  rplE   \n",
       "3  0_Bacillus_amyloliquefaciens   NC_014551.1_120  rplC   \n",
       "4  0_Bacillus_amyloliquefaciens   NC_014551.1_135  rplF   \n",
       "\n",
       "                                                   4  \\\n",
       "0  ATGAATAAGAAAACAGTAAAAGACATCGACGTAAAAGGCAAAGTCG...   \n",
       "1  ATGAAAGATCCTCGTGATGTTCTTAAGCGCCCCGTCATTACTGAAC...   \n",
       "2  ATGAACCGCCTTAAAGAAAAGTACAATAAAGAAATTTCACCTGCTT...   \n",
       "3  ATGACCAAAGGAATCTTAGGAAGAAAAATTGGTATGACGCAAGTAT...   \n",
       "4  ATGTCTCGTGTAGGTAAGAAACTGCTTGAGATCCCTTCTGAAGTTA...   \n",
       "\n",
       "                                                   5  \n",
       "0  ['▁ATGAATAA', 'GAAAACA', 'GTAAAA', 'GACATCGA',...  \n",
       "1  ['▁ATGAAAGA', 'TCCTCGTGA', 'TGTTCTTAA', 'GCGC'...  \n",
       "2  ['▁ATGAACCGC', 'CTTAAAGAAAA', 'GTACAA', 'TAAAG...  \n",
       "3  ['▁ATGA', 'CCAAAGGAA', 'TCTTA', 'GGAA', 'GAAAA...  \n",
       "4  ['▁ATGTC', 'TCGTGTA', 'GGTAA', 'GAAA', 'CTGCTT...  "
      ]
     },
     "execution_count": 7,
     "metadata": {},
     "output_type": "execute_result"
    }
   ],
   "source": [
    "genes_1000_pre_vec.head()"
   ]
  },
  {
   "cell_type": "code",
   "execution_count": 14,
   "metadata": {},
   "outputs": [],
   "source": [
    "meta_bpe = genes_1000_pre_vec.iloc[:, [1,2,3]]"
   ]
  },
  {
   "cell_type": "code",
   "execution_count": null,
   "metadata": {},
   "outputs": [],
   "source": [
    "meta_bpe.rename(columns={1:'org_id_name',2:'gene_id',3:'gene_name'}, inplace=True)"
   ]
  },
  {
   "cell_type": "code",
   "execution_count": 20,
   "metadata": {
    "scrolled": true
   },
   "outputs": [
    {
     "data": {
      "text/html": [
       "<div>\n",
       "<style scoped>\n",
       "    .dataframe tbody tr th:only-of-type {\n",
       "        vertical-align: middle;\n",
       "    }\n",
       "\n",
       "    .dataframe tbody tr th {\n",
       "        vertical-align: top;\n",
       "    }\n",
       "\n",
       "    .dataframe thead th {\n",
       "        text-align: right;\n",
       "    }\n",
       "</style>\n",
       "<table border=\"1\" class=\"dataframe\">\n",
       "  <thead>\n",
       "    <tr style=\"text-align: right;\">\n",
       "      <th></th>\n",
       "      <th>org_id_name</th>\n",
       "      <th>gene_id</th>\n",
       "      <th>gene_name</th>\n",
       "    </tr>\n",
       "  </thead>\n",
       "  <tbody>\n",
       "    <tr>\n",
       "      <th>0</th>\n",
       "      <td>0_Bacillus_amyloliquefaciens</td>\n",
       "      <td>NC_014551.1_3361</td>\n",
       "      <td>pgk</td>\n",
       "    </tr>\n",
       "    <tr>\n",
       "      <th>1</th>\n",
       "      <td>0_Bacillus_amyloliquefaciens</td>\n",
       "      <td>NC_014551.1_122</td>\n",
       "      <td>rplW</td>\n",
       "    </tr>\n",
       "    <tr>\n",
       "      <th>2</th>\n",
       "      <td>0_Bacillus_amyloliquefaciens</td>\n",
       "      <td>NC_014551.1_132</td>\n",
       "      <td>rplE</td>\n",
       "    </tr>\n",
       "    <tr>\n",
       "      <th>3</th>\n",
       "      <td>0_Bacillus_amyloliquefaciens</td>\n",
       "      <td>NC_014551.1_120</td>\n",
       "      <td>rplC</td>\n",
       "    </tr>\n",
       "    <tr>\n",
       "      <th>4</th>\n",
       "      <td>0_Bacillus_amyloliquefaciens</td>\n",
       "      <td>NC_014551.1_135</td>\n",
       "      <td>rplF</td>\n",
       "    </tr>\n",
       "  </tbody>\n",
       "</table>\n",
       "</div>"
      ],
      "text/plain": [
       "                    org_id_name           gene_id gene_name\n",
       "0  0_Bacillus_amyloliquefaciens  NC_014551.1_3361       pgk\n",
       "1  0_Bacillus_amyloliquefaciens   NC_014551.1_122      rplW\n",
       "2  0_Bacillus_amyloliquefaciens   NC_014551.1_132      rplE\n",
       "3  0_Bacillus_amyloliquefaciens   NC_014551.1_120      rplC\n",
       "4  0_Bacillus_amyloliquefaciens   NC_014551.1_135      rplF"
      ]
     },
     "execution_count": 20,
     "metadata": {},
     "output_type": "execute_result"
    }
   ],
   "source": [
    "meta_bpe.head()"
   ]
  },
  {
   "cell_type": "code",
   "execution_count": 22,
   "metadata": {},
   "outputs": [
    {
     "data": {
      "text/plain": [
       "(1065, 3)"
      ]
     },
     "execution_count": 22,
     "metadata": {},
     "output_type": "execute_result"
    }
   ],
   "source": [
    "meta_bpe.shape"
   ]
  },
  {
   "cell_type": "code",
   "execution_count": 23,
   "metadata": {},
   "outputs": [],
   "source": [
    "pd.DataFrame(meta_bpe).to_csv('dna2vec_data/meta_bpe_1065_genes.tsv', sep='\\t', index=False)"
   ]
  },
  {
   "cell_type": "markdown",
   "metadata": {},
   "source": [
    "### Clusterization"
   ]
  },
  {
   "cell_type": "code",
   "execution_count": 43,
   "metadata": {},
   "outputs": [
    {
     "data": {
      "text/plain": [
       "((1065, 300), array([[ 0.03901764,  0.1364913 , -0.14552276, ..., -0.03049318,\n",
       "         -0.07184207, -0.08141667],\n",
       "        [ 0.08703981,  0.01217383, -0.09168836, ...,  0.03760219,\n",
       "         -0.12093481, -0.09039836],\n",
       "        [ 0.02472271, -0.05347804, -0.14226761, ...,  0.05819328,\n",
       "         -0.02198565, -0.09038094],\n",
       "        ...,\n",
       "        [ 0.06066027,  0.11064012, -0.20590815, ..., -0.05486792,\n",
       "         -0.08078935, -0.10742232],\n",
       "        [-0.00247136, -0.01454612, -0.1557087 , ..., -0.0276449 ,\n",
       "         -0.0645554 , -0.07112077],\n",
       "        [ 0.06272714,  0.08192176, -0.1437192 , ...,  0.01054248,\n",
       "         -0.06647722, -0.06235442]]))"
      ]
     },
     "execution_count": 43,
     "metadata": {},
     "output_type": "execute_result"
    }
   ],
   "source": [
    "X_bpe = np.array(genes_bpe_vec)\n",
    "X_bpe.shape, X_bpe"
   ]
  },
  {
   "cell_type": "code",
   "execution_count": 28,
   "metadata": {},
   "outputs": [
    {
     "data": {
      "text/plain": [
       "0     pgk\n",
       "1    rplW\n",
       "2    rplE\n",
       "3    rplC\n",
       "4    rplF\n",
       "Name: gene_name, dtype: object"
      ]
     },
     "execution_count": 28,
     "metadata": {},
     "output_type": "execute_result"
    }
   ],
   "source": [
    "meta_bpe.iloc[:, 2].head()"
   ]
  },
  {
   "cell_type": "code",
   "execution_count": 60,
   "metadata": {},
   "outputs": [
    {
     "data": {
      "text/plain": [
       "92"
      ]
     },
     "execution_count": 60,
     "metadata": {},
     "output_type": "execute_result"
    }
   ],
   "source": [
    "len(meta_bpe.iloc[:, 2].unique())"
   ]
  },
  {
   "cell_type": "code",
   "execution_count": 30,
   "metadata": {},
   "outputs": [
    {
     "data": {
      "text/plain": [
       "(1065,\n",
       " array(['pgk', 'rplW', 'rplE', ..., 'tsaD', 'rplD', 'ligA'], dtype=object))"
      ]
     },
     "execution_count": 30,
     "metadata": {},
     "output_type": "execute_result"
    }
   ],
   "source": [
    "labels_true = np.array(meta_bpe.iloc[:, 2])\n",
    "len(labels_true), labels_true"
   ]
  },
  {
   "cell_type": "code",
   "execution_count": 44,
   "metadata": {},
   "outputs": [],
   "source": [
    "def clst_dbscan(X, labels_true, eps=0.3, min_samples=2):\n",
    "    print(f'eps={eps}, min_samples={min_samples}')\n",
    "    clst = DBSCAN(eps=eps, min_samples=min_samples).fit(X)\n",
    "    core_samples_mask = np.zeros_like(clst.labels_, dtype=bool)\n",
    "    core_samples_mask[clst.core_sample_indices_] = True\n",
    "\n",
    "    labels = clst.labels_\n",
    "    \n",
    "    # Number of clusters in labels, ignoring noise if present.\n",
    "    n_clusters_ = len(set(labels)) - (1 if -1 in labels else 0)\n",
    "    \n",
    "    print(f'number of predicted clusters: {n_clusters_}\\n')\n",
    "    print(f'Silhouette_score: {silhouette_score(X, labels)}')\n",
    "    print(f'Homogeneity: {homogeneity_score(labels_true, labels)}')\n",
    "    print(f'Completeness: {completeness_score(labels_true, labels)}')\n",
    "    print(f'V-measure: {v_measure_score(labels_true, labels)}')\n",
    "    print(f'Adjusted Rand Index: {adjusted_rand_score(labels_true, labels)}')\n",
    "    print(f'Adjusted Mutual Information: {adjusted_mutual_info_score(labels_true,labels,average_method=\"arithmetic\")}')\n",
    "    \n",
    "    return labels"
   ]
  },
  {
   "cell_type": "code",
   "execution_count": 66,
   "metadata": {},
   "outputs": [
    {
     "name": "stdout",
     "output_type": "stream",
     "text": [
      "eps=0.6, min_samples=1\n",
      "number of predicted clusters: 98\n",
      "\n",
      "Silhouette_score: 0.13067525035116098\n",
      "Homogeneity: 0.37773339138282797\n",
      "Completeness: 0.8536593095642324\n",
      "V-measure: 0.5237250892249422\n",
      "Adjusted Rand Index: 0.01567451799206737\n",
      "Adjusted Mutual Information: 0.3210951006980934\n"
     ]
    }
   ],
   "source": [
    "predict_0_6__1 = clst_dbscan(X_bpe, labels_true,\n",
    "                             eps=0.6, min_samples=1)"
   ]
  },
  {
   "cell_type": "code",
   "execution_count": 67,
   "metadata": {},
   "outputs": [
    {
     "name": "stdout",
     "output_type": "stream",
     "text": [
      "eps=0.2, min_samples=2\n",
      "number of predicted clusters: 75\n",
      "\n",
      "Silhouette_score: -0.20078414749606155\n",
      "Homogeneity: 0.17068969908592\n",
      "Completeness: 0.6714163467337355\n",
      "V-measure: 0.2721839007195359\n",
      "Adjusted Rand Index: 0.001637030518446962\n",
      "Adjusted Mutual Information: 0.07442426432648629\n"
     ]
    }
   ],
   "source": [
    "predict_0_2__2 = clst_dbscan(X_bpe, labels_true,\n",
    "                             eps=0.2, min_samples=2)"
   ]
  },
  {
   "cell_type": "code",
   "execution_count": 68,
   "metadata": {},
   "outputs": [
    {
     "name": "stdout",
     "output_type": "stream",
     "text": [
      "eps=0.3, min_samples=2\n",
      "number of predicted clusters: 182\n",
      "\n",
      "Silhouette_score: 0.0033407182010158766\n",
      "Homogeneity: 0.47805993271283453\n",
      "Completeness: 0.7014466504195\n",
      "V-measure: 0.5685996895594548\n",
      "Adjusted Rand Index: 0.011972899334271024\n",
      "Adjusted Mutual Information: 0.2551000142283312\n"
     ]
    }
   ],
   "source": [
    "predict_0_3__2 = clst_dbscan(X_bpe, labels_true,\n",
    "                             eps=0.3, min_samples=2)"
   ]
  },
  {
   "cell_type": "code",
   "execution_count": 69,
   "metadata": {},
   "outputs": [
    {
     "name": "stdout",
     "output_type": "stream",
     "text": [
      "eps=0.4, min_samples=2\n",
      "number of predicted clusters: 153\n",
      "\n",
      "Silhouette_score: 0.09672275923509824\n",
      "Homogeneity: 0.5400166042062892\n",
      "Completeness: 0.7538123266214006\n",
      "V-measure: 0.6292503794462515\n",
      "Adjusted Rand Index: 0.04240477148180394\n",
      "Adjusted Mutual Information: 0.3889860309753322\n"
     ]
    }
   ],
   "source": [
    "predict_0_4__2 = clst_dbscan(X_bpe, labels_true,\n",
    "                             eps=0.4, min_samples=2)"
   ]
  },
  {
   "cell_type": "code",
   "execution_count": 70,
   "metadata": {},
   "outputs": [
    {
     "name": "stdout",
     "output_type": "stream",
     "text": [
      "eps=0.5, min_samples=2\n",
      "number of predicted clusters: 114\n",
      "\n",
      "Silhouette_score: 0.14973479503627646\n",
      "Homogeneity: 0.5003562868319124\n",
      "Completeness: 0.8047689593511247\n",
      "V-measure: 0.6170614037789266\n",
      "Adjusted Rand Index: 0.031738019196580515\n",
      "Adjusted Mutual Information: 0.4033202168628336\n"
     ]
    }
   ],
   "source": [
    "predict_0_5__2 = clst_dbscan(X_bpe, labels_true,\n",
    "                             eps=0.5, min_samples=2)"
   ]
  },
  {
   "cell_type": "code",
   "execution_count": 71,
   "metadata": {},
   "outputs": [
    {
     "name": "stdout",
     "output_type": "stream",
     "text": [
      "eps=0.6, min_samples=2\n",
      "number of predicted clusters: 67\n",
      "\n",
      "Silhouette_score: 0.15025534919288483\n",
      "Homogeneity: 0.35911593749982007\n",
      "Completeness: 0.8542722226317756\n",
      "V-measure: 0.5056630354415088\n",
      "Adjusted Rand Index: 0.015734014828033313\n",
      "Adjusted Mutual Information: 0.3193212144322864\n"
     ]
    }
   ],
   "source": [
    "predict_0_6__2 = clst_dbscan(X_bpe, labels_true,\n",
    "                             eps=0.6, min_samples=2)"
   ]
  },
  {
   "cell_type": "code",
   "execution_count": 72,
   "metadata": {},
   "outputs": [
    {
     "name": "stdout",
     "output_type": "stream",
     "text": [
      "eps=0.4, min_samples=3\n",
      "number of predicted clusters: 83\n",
      "\n",
      "Silhouette_score: 0.02957411535267343\n",
      "Homogeneity: 0.4155394574378479\n",
      "Completeness: 0.7742051258081841\n",
      "V-measure: 0.540809821627749\n",
      "Adjusted Rand Index: 0.03014539188089236\n",
      "Adjusted Mutual Information: 0.3514501308451074\n"
     ]
    }
   ],
   "source": [
    "predict_0_4__3 = clst_dbscan(X_bpe, labels_true,\n",
    "                             eps=0.4, min_samples=3)"
   ]
  },
  {
   "cell_type": "code",
   "execution_count": 73,
   "metadata": {},
   "outputs": [
    {
     "name": "stdout",
     "output_type": "stream",
     "text": [
      "eps=0.6, min_samples=4\n",
      "number of predicted clusters: 29\n",
      "\n",
      "Silhouette_score: 0.12201037456600608\n",
      "Homogeneity: 0.2925508850899297\n",
      "Completeness: 0.8776365956098076\n",
      "V-measure: 0.4388243201498465\n",
      "Adjusted Rand Index: 0.016448381588399445\n",
      "Adjusted Mutual Information: 0.3098342552511979\n"
     ]
    }
   ],
   "source": [
    "predict_0_6__4 = clst_dbscan(X_bpe, labels_true,\n",
    "                             eps=0.6, min_samples=4)"
   ]
  },
  {
   "cell_type": "code",
   "execution_count": 74,
   "metadata": {},
   "outputs": [
    {
     "name": "stdout",
     "output_type": "stream",
     "text": [
      "eps=0.5, min_samples=5\n",
      "number of predicted clusters: 27\n",
      "\n",
      "Silhouette_score: 0.0613025426329341\n",
      "Homogeneity: 0.29961733679902475\n",
      "Completeness: 0.8607011477503927\n",
      "V-measure: 0.4445003490037111\n",
      "Adjusted Rand Index: 0.027375014043938915\n",
      "Adjusted Mutual Information: 0.33669600238904135\n"
     ]
    }
   ],
   "source": [
    "predict_0_5__5 = clst_dbscan(X_bpe, labels_true,\n",
    "                             eps=0.5, min_samples=5)"
   ]
  },
  {
   "cell_type": "code",
   "execution_count": 75,
   "metadata": {},
   "outputs": [
    {
     "name": "stdout",
     "output_type": "stream",
     "text": [
      "eps=0.6, min_samples=5\n",
      "number of predicted clusters: 25\n",
      "\n",
      "Silhouette_score: 0.1081445079219449\n",
      "Homogeneity: 0.27493997865536707\n",
      "Completeness: 0.8752836274022989\n",
      "V-measure: 0.4184411805982626\n",
      "Adjusted Rand Index: 0.016590607544431018\n",
      "Adjusted Mutual Information: 0.3007660855069818\n"
     ]
    }
   ],
   "source": [
    "predict_0_6__5 = clst_dbscan(X_bpe, labels_true,\n",
    "                             eps=0.6, min_samples=5)"
   ]
  },
  {
   "cell_type": "code",
   "execution_count": 76,
   "metadata": {},
   "outputs": [
    {
     "data": {
      "text/html": [
       "<div>\n",
       "<style scoped>\n",
       "    .dataframe tbody tr th:only-of-type {\n",
       "        vertical-align: middle;\n",
       "    }\n",
       "\n",
       "    .dataframe tbody tr th {\n",
       "        vertical-align: top;\n",
       "    }\n",
       "\n",
       "    .dataframe thead th {\n",
       "        text-align: right;\n",
       "    }\n",
       "</style>\n",
       "<table border=\"1\" class=\"dataframe\">\n",
       "  <thead>\n",
       "    <tr style=\"text-align: right;\">\n",
       "      <th></th>\n",
       "      <th>org_id_name</th>\n",
       "      <th>gene_id</th>\n",
       "      <th>gene_name</th>\n",
       "    </tr>\n",
       "  </thead>\n",
       "  <tbody>\n",
       "    <tr>\n",
       "      <th>0</th>\n",
       "      <td>0_Bacillus_amyloliquefaciens</td>\n",
       "      <td>NC_014551.1_3361</td>\n",
       "      <td>pgk</td>\n",
       "    </tr>\n",
       "    <tr>\n",
       "      <th>1</th>\n",
       "      <td>0_Bacillus_amyloliquefaciens</td>\n",
       "      <td>NC_014551.1_122</td>\n",
       "      <td>rplW</td>\n",
       "    </tr>\n",
       "    <tr>\n",
       "      <th>2</th>\n",
       "      <td>0_Bacillus_amyloliquefaciens</td>\n",
       "      <td>NC_014551.1_132</td>\n",
       "      <td>rplE</td>\n",
       "    </tr>\n",
       "    <tr>\n",
       "      <th>3</th>\n",
       "      <td>0_Bacillus_amyloliquefaciens</td>\n",
       "      <td>NC_014551.1_120</td>\n",
       "      <td>rplC</td>\n",
       "    </tr>\n",
       "    <tr>\n",
       "      <th>4</th>\n",
       "      <td>0_Bacillus_amyloliquefaciens</td>\n",
       "      <td>NC_014551.1_135</td>\n",
       "      <td>rplF</td>\n",
       "    </tr>\n",
       "  </tbody>\n",
       "</table>\n",
       "</div>"
      ],
      "text/plain": [
       "                    org_id_name           gene_id gene_name\n",
       "0  0_Bacillus_amyloliquefaciens  NC_014551.1_3361       pgk\n",
       "1  0_Bacillus_amyloliquefaciens   NC_014551.1_122      rplW\n",
       "2  0_Bacillus_amyloliquefaciens   NC_014551.1_132      rplE\n",
       "3  0_Bacillus_amyloliquefaciens   NC_014551.1_120      rplC\n",
       "4  0_Bacillus_amyloliquefaciens   NC_014551.1_135      rplF"
      ]
     },
     "execution_count": 76,
     "metadata": {},
     "output_type": "execute_result"
    }
   ],
   "source": [
    "meta_bpe.head()"
   ]
  },
  {
   "cell_type": "code",
   "execution_count": 77,
   "metadata": {},
   "outputs": [],
   "source": [
    "meta_bpe_first_preds = meta_bpe.copy()"
   ]
  },
  {
   "cell_type": "code",
   "execution_count": 78,
   "metadata": {},
   "outputs": [
    {
     "data": {
      "text/html": [
       "<div>\n",
       "<style scoped>\n",
       "    .dataframe tbody tr th:only-of-type {\n",
       "        vertical-align: middle;\n",
       "    }\n",
       "\n",
       "    .dataframe tbody tr th {\n",
       "        vertical-align: top;\n",
       "    }\n",
       "\n",
       "    .dataframe thead th {\n",
       "        text-align: right;\n",
       "    }\n",
       "</style>\n",
       "<table border=\"1\" class=\"dataframe\">\n",
       "  <thead>\n",
       "    <tr style=\"text-align: right;\">\n",
       "      <th></th>\n",
       "      <th>org_id_name</th>\n",
       "      <th>gene_id</th>\n",
       "      <th>gene_name</th>\n",
       "    </tr>\n",
       "  </thead>\n",
       "  <tbody>\n",
       "    <tr>\n",
       "      <th>0</th>\n",
       "      <td>0_Bacillus_amyloliquefaciens</td>\n",
       "      <td>NC_014551.1_3361</td>\n",
       "      <td>pgk</td>\n",
       "    </tr>\n",
       "    <tr>\n",
       "      <th>1</th>\n",
       "      <td>0_Bacillus_amyloliquefaciens</td>\n",
       "      <td>NC_014551.1_122</td>\n",
       "      <td>rplW</td>\n",
       "    </tr>\n",
       "    <tr>\n",
       "      <th>2</th>\n",
       "      <td>0_Bacillus_amyloliquefaciens</td>\n",
       "      <td>NC_014551.1_132</td>\n",
       "      <td>rplE</td>\n",
       "    </tr>\n",
       "    <tr>\n",
       "      <th>3</th>\n",
       "      <td>0_Bacillus_amyloliquefaciens</td>\n",
       "      <td>NC_014551.1_120</td>\n",
       "      <td>rplC</td>\n",
       "    </tr>\n",
       "    <tr>\n",
       "      <th>4</th>\n",
       "      <td>0_Bacillus_amyloliquefaciens</td>\n",
       "      <td>NC_014551.1_135</td>\n",
       "      <td>rplF</td>\n",
       "    </tr>\n",
       "  </tbody>\n",
       "</table>\n",
       "</div>"
      ],
      "text/plain": [
       "                    org_id_name           gene_id gene_name\n",
       "0  0_Bacillus_amyloliquefaciens  NC_014551.1_3361       pgk\n",
       "1  0_Bacillus_amyloliquefaciens   NC_014551.1_122      rplW\n",
       "2  0_Bacillus_amyloliquefaciens   NC_014551.1_132      rplE\n",
       "3  0_Bacillus_amyloliquefaciens   NC_014551.1_120      rplC\n",
       "4  0_Bacillus_amyloliquefaciens   NC_014551.1_135      rplF"
      ]
     },
     "execution_count": 78,
     "metadata": {},
     "output_type": "execute_result"
    }
   ],
   "source": [
    "meta_bpe_first_preds.head()"
   ]
  },
  {
   "cell_type": "code",
   "execution_count": 79,
   "metadata": {},
   "outputs": [],
   "source": [
    "meta_bpe_first_preds['predict_0_6__1'] = predict_0_6__1\n",
    "meta_bpe_first_preds['predict_0_2__2'] = predict_0_2__2\n",
    "meta_bpe_first_preds['predict_0_3__2'] = predict_0_3__2\n",
    "meta_bpe_first_preds['predict_0_4__2'] = predict_0_4__2\n",
    "meta_bpe_first_preds['predict_0_5__2'] = predict_0_5__2\n",
    "\n",
    "meta_bpe_first_preds['predict_0_6__2'] = predict_0_6__2\n",
    "meta_bpe_first_preds['predict_0_4__3'] = predict_0_4__3\n",
    "meta_bpe_first_preds['predict_0_6__4'] = predict_0_6__4\n",
    "meta_bpe_first_preds['predict_0_5__5'] = predict_0_5__5\n",
    "meta_bpe_first_preds['predict_0_6__5'] = predict_0_6__5"
   ]
  },
  {
   "cell_type": "code",
   "execution_count": 80,
   "metadata": {},
   "outputs": [
    {
     "data": {
      "text/html": [
       "<div>\n",
       "<style scoped>\n",
       "    .dataframe tbody tr th:only-of-type {\n",
       "        vertical-align: middle;\n",
       "    }\n",
       "\n",
       "    .dataframe tbody tr th {\n",
       "        vertical-align: top;\n",
       "    }\n",
       "\n",
       "    .dataframe thead th {\n",
       "        text-align: right;\n",
       "    }\n",
       "</style>\n",
       "<table border=\"1\" class=\"dataframe\">\n",
       "  <thead>\n",
       "    <tr style=\"text-align: right;\">\n",
       "      <th></th>\n",
       "      <th>org_id_name</th>\n",
       "      <th>gene_id</th>\n",
       "      <th>gene_name</th>\n",
       "      <th>predict_0_6__1</th>\n",
       "      <th>predict_0_2__2</th>\n",
       "      <th>predict_0_3__2</th>\n",
       "      <th>predict_0_4__2</th>\n",
       "      <th>predict_0_5__2</th>\n",
       "      <th>predict_0_6__2</th>\n",
       "      <th>predict_0_4__3</th>\n",
       "      <th>predict_0_6__4</th>\n",
       "      <th>predict_0_5__5</th>\n",
       "      <th>predict_0_6__5</th>\n",
       "    </tr>\n",
       "  </thead>\n",
       "  <tbody>\n",
       "    <tr>\n",
       "      <th>0</th>\n",
       "      <td>0_Bacillus_amyloliquefaciens</td>\n",
       "      <td>NC_014551.1_3361</td>\n",
       "      <td>pgk</td>\n",
       "      <td>0</td>\n",
       "      <td>-1</td>\n",
       "      <td>-1</td>\n",
       "      <td>0</td>\n",
       "      <td>0</td>\n",
       "      <td>0</td>\n",
       "      <td>0</td>\n",
       "      <td>0</td>\n",
       "      <td>0</td>\n",
       "      <td>0</td>\n",
       "    </tr>\n",
       "    <tr>\n",
       "      <th>1</th>\n",
       "      <td>0_Bacillus_amyloliquefaciens</td>\n",
       "      <td>NC_014551.1_122</td>\n",
       "      <td>rplW</td>\n",
       "      <td>1</td>\n",
       "      <td>0</td>\n",
       "      <td>0</td>\n",
       "      <td>1</td>\n",
       "      <td>1</td>\n",
       "      <td>1</td>\n",
       "      <td>1</td>\n",
       "      <td>1</td>\n",
       "      <td>-1</td>\n",
       "      <td>1</td>\n",
       "    </tr>\n",
       "    <tr>\n",
       "      <th>2</th>\n",
       "      <td>0_Bacillus_amyloliquefaciens</td>\n",
       "      <td>NC_014551.1_132</td>\n",
       "      <td>rplE</td>\n",
       "      <td>0</td>\n",
       "      <td>-1</td>\n",
       "      <td>-1</td>\n",
       "      <td>2</td>\n",
       "      <td>2</td>\n",
       "      <td>0</td>\n",
       "      <td>2</td>\n",
       "      <td>0</td>\n",
       "      <td>12</td>\n",
       "      <td>0</td>\n",
       "    </tr>\n",
       "    <tr>\n",
       "      <th>3</th>\n",
       "      <td>0_Bacillus_amyloliquefaciens</td>\n",
       "      <td>NC_014551.1_120</td>\n",
       "      <td>rplC</td>\n",
       "      <td>0</td>\n",
       "      <td>1</td>\n",
       "      <td>1</td>\n",
       "      <td>3</td>\n",
       "      <td>0</td>\n",
       "      <td>0</td>\n",
       "      <td>3</td>\n",
       "      <td>0</td>\n",
       "      <td>0</td>\n",
       "      <td>0</td>\n",
       "    </tr>\n",
       "    <tr>\n",
       "      <th>4</th>\n",
       "      <td>0_Bacillus_amyloliquefaciens</td>\n",
       "      <td>NC_014551.1_135</td>\n",
       "      <td>rplF</td>\n",
       "      <td>0</td>\n",
       "      <td>-1</td>\n",
       "      <td>-1</td>\n",
       "      <td>-1</td>\n",
       "      <td>3</td>\n",
       "      <td>0</td>\n",
       "      <td>-1</td>\n",
       "      <td>0</td>\n",
       "      <td>13</td>\n",
       "      <td>0</td>\n",
       "    </tr>\n",
       "  </tbody>\n",
       "</table>\n",
       "</div>"
      ],
      "text/plain": [
       "                    org_id_name           gene_id gene_name  predict_0_6__1  \\\n",
       "0  0_Bacillus_amyloliquefaciens  NC_014551.1_3361       pgk               0   \n",
       "1  0_Bacillus_amyloliquefaciens   NC_014551.1_122      rplW               1   \n",
       "2  0_Bacillus_amyloliquefaciens   NC_014551.1_132      rplE               0   \n",
       "3  0_Bacillus_amyloliquefaciens   NC_014551.1_120      rplC               0   \n",
       "4  0_Bacillus_amyloliquefaciens   NC_014551.1_135      rplF               0   \n",
       "\n",
       "   predict_0_2__2  predict_0_3__2  predict_0_4__2  predict_0_5__2  \\\n",
       "0              -1              -1               0               0   \n",
       "1               0               0               1               1   \n",
       "2              -1              -1               2               2   \n",
       "3               1               1               3               0   \n",
       "4              -1              -1              -1               3   \n",
       "\n",
       "   predict_0_6__2  predict_0_4__3  predict_0_6__4  predict_0_5__5  \\\n",
       "0               0               0               0               0   \n",
       "1               1               1               1              -1   \n",
       "2               0               2               0              12   \n",
       "3               0               3               0               0   \n",
       "4               0              -1               0              13   \n",
       "\n",
       "   predict_0_6__5  \n",
       "0               0  \n",
       "1               1  \n",
       "2               0  \n",
       "3               0  \n",
       "4               0  "
      ]
     },
     "execution_count": 80,
     "metadata": {},
     "output_type": "execute_result"
    }
   ],
   "source": [
    "meta_bpe_first_preds.head()"
   ]
  },
  {
   "cell_type": "code",
   "execution_count": 81,
   "metadata": {},
   "outputs": [],
   "source": [
    "pd.DataFrame(meta_bpe_first_preds).to_csv('dna2vec_data/meta_1065genes_bpe_10preds.tsv', sep='\\t', index=False)"
   ]
  },
  {
   "cell_type": "code",
   "execution_count": null,
   "metadata": {},
   "outputs": [],
   "source": []
  },
  {
   "cell_type": "code",
   "execution_count": null,
   "metadata": {},
   "outputs": [],
   "source": []
  }
 ],
 "metadata": {
  "kernelspec": {
   "display_name": "Python 3",
   "language": "python",
   "name": "python3"
  },
  "language_info": {
   "codemirror_mode": {
    "name": "ipython",
    "version": 3
   },
   "file_extension": ".py",
   "mimetype": "text/x-python",
   "name": "python",
   "nbconvert_exporter": "python",
   "pygments_lexer": "ipython3",
   "version": "3.6.8"
  }
 },
 "nbformat": 4,
 "nbformat_minor": 2
}
