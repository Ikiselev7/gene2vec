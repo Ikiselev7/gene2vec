{
 "cells": [
  {
   "cell_type": "code",
   "execution_count": 1,
   "metadata": {},
   "outputs": [],
   "source": [
    "# https://biopython.org/DIST/docs/api/Bio.Entrez-module.html\n",
    "# https://biopython.org/DIST/docs/tutorial/Tutorial.html#htoc109\n",
    "from Bio import Entrez\n",
    "from Bio import SeqIO\n",
    "\n",
    "import os"
   ]
  },
  {
   "cell_type": "code",
   "execution_count": 2,
   "metadata": {},
   "outputs": [],
   "source": [
    "Entrez.email = 'Olga_Petrova2@epam.com'\n",
    "Entrez.api_key = 'e2a498a443e26ff32293a82976e116179507'"
   ]
  },
  {
   "cell_type": "code",
   "execution_count": 3,
   "metadata": {},
   "outputs": [],
   "source": [
    "folder = '../data/ncbi_16S_genes/'"
   ]
  },
  {
   "cell_type": "markdown",
   "metadata": {},
   "source": [
    "## Getting data from NCBI"
   ]
  },
  {
   "cell_type": "markdown",
   "metadata": {},
   "source": [
    "## First 4 taxons"
   ]
  },
  {
   "cell_type": "code",
   "execution_count": 4,
   "metadata": {},
   "outputs": [],
   "source": [
    "taxon_names = ['Holospora', 'Gortzia', 'Finniella', 'Paracaedibacter']\n",
    "\n",
    "subtaxs = [['Candidatus Holospora parva',\n",
    "            'Holospora acuminata',\n",
    "            'Holospora caryophila',\n",
    "            'Holospora curviuscula',\n",
    "            'Holospora elegans',\n",
    "            'Holospora obtusa'],\n",
    "          ['Candidatus Gortzia shahrazadis',\n",
    "           'Candidatus Gortzia infectiva'],\n",
    "          ['Candidatus Finniella inopinata',\n",
    "           'Candidatus Finniella lucida'],\n",
    "          ['Candidatus Paracaedibacter acanthamoebae',\n",
    "           'Candidatus Paracaedibacter symbiosus']]\n",
    "\n",
    "taxons = [(t_name, subtax) for (t_name, subtax) in zip(taxon_names, subtaxs)]"
   ]
  },
  {
   "cell_type": "code",
   "execution_count": 5,
   "metadata": {},
   "outputs": [],
   "source": [
    "for taxon in taxons:\n",
    "    ids = []\n",
    "    \n",
    "    for org in taxon[1]:\n",
    "        handle = Entrez.esearch(db='taxonomy', term=org, idtype='acc', retmax=100)\n",
    "        record = Entrez.read(handle)\n",
    "        handle.close()\n",
    "        \n",
    "        item = 'txid' + record['IdList'][0] + '[Organism]' + ' 16S[Title]'\n",
    "        handle = Entrez.esearch(db='nucleotide', term=item, idtype='acc', retmax=10000)\n",
    "        record = Entrez.read(handle)\n",
    "        handle.close()\n",
    "        \n",
    "        ids.append(','.join(record['IdList']))\n",
    "        \n",
    "    ids = ','.join(ids)\n",
    "    handle = Entrez.efetch(db='nucleotide', id=ids, rettype='fasta', retmode='text')\n",
    "    \n",
    "    title = folder + taxon[0] + '.fasta'\n",
    "    with open(title, 'w') as file:\n",
    "        file.write(handle.read())\n",
    "    \n",
    "    handle.close()"
   ]
  },
  {
   "cell_type": "code",
   "execution_count": 6,
   "metadata": {},
   "outputs": [],
   "source": [
    "for taxon_name in taxon_names:\n",
    "    os.mkdir(folder + taxon_name)"
   ]
  },
  {
   "cell_type": "code",
   "execution_count": 7,
   "metadata": {},
   "outputs": [],
   "source": [
    "for taxon_name in taxon_names:\n",
    "    path = folder + taxon_name + '.fasta'\n",
    "    orgs = SeqIO.parse(path, 'fasta')\n",
    "    for gene_record in orgs:\n",
    "        if 'uncultured' not in gene_record.description.lower() and \\\n",
    "           ' sp.' not in gene_record.description.lower() and \\\n",
    "           'environmental' not in gene_record.description.lower():\n",
    "            new_path = folder + taxon_name + '/' + gene_record.id +'.fasta'\n",
    "            with open(new_path, 'w') as file:\n",
    "                SeqIO.write(gene_record, file, 'fasta')"
   ]
  },
  {
   "cell_type": "markdown",
   "metadata": {},
   "source": [
    "## 2 last taxons"
   ]
  },
  {
   "cell_type": "code",
   "execution_count": 8,
   "metadata": {},
   "outputs": [],
   "source": [
    "def retrieve_complex_taxon(taxon, subtaxons):\n",
    "    os.mkdir(folder + taxon)\n",
    "    \n",
    "    for subtax in subtaxons:\n",
    "        handle = Entrez.esearch(db='taxonomy', term=subtax, idtype='acc', retmax=100)\n",
    "        record = Entrez.read(handle)\n",
    "        handle.close()\n",
    "        \n",
    "        item = 'txid' + record['IdList'][0] + '[Organism]' + ' 16S[Title]'\n",
    "        \n",
    "        handle = Entrez.esearch(db='nucleotide', term=item, idtype='acc', retmax=20000)\n",
    "        record = Entrez.read(handle)\n",
    "        handle.close()\n",
    "        \n",
    "        ids = ','.join(record['IdList'])\n",
    "        handle = Entrez.efetch(db='nucleotide', id=ids, rettype='fasta', retmode='text', retmax=20000)\\\n",
    "        \n",
    "        subtax = subtax.replace(' ', '_')\n",
    "        \n",
    "        subfolder = folder + taxon + '/' + subtax\n",
    "        os.mkdir(subfolder)\n",
    "        title = subfolder + '/' + subtax + '.fasta'\n",
    "        \n",
    "        with open(title, 'w') as file:\n",
    "            file.write(handle.read())\n",
    "            \n",
    "        handle.close()"
   ]
  },
  {
   "cell_type": "code",
   "execution_count": 9,
   "metadata": {},
   "outputs": [],
   "source": [
    "def split_genes_16S(taxon, subtaxons):\n",
    "    for subtax in subtaxons:\n",
    "        subtax = subtax.replace(' ', '_')\n",
    "        path = folder + taxon + '/' + subtax + '/' + subtax + '.fasta'\n",
    "        \n",
    "        orgs = SeqIO.parse(path, 'fasta')\n",
    "        for gene_record in orgs:\n",
    "            new_path = folder + taxon + '/' + subtax + '/' + gene_record.id + '.fasta'\n",
    "            \n",
    "            if 'uncultured' not in gene_record.description.lower() and \\\n",
    "               ' sp.' not in gene_record.description.lower() and \\\n",
    "               'environmental' not in gene_record.description.lower():\n",
    "                \n",
    "                with open(new_path, 'w') as file:\n",
    "                    SeqIO.write(gene_record, file, 'fasta')"
   ]
  },
  {
   "cell_type": "markdown",
   "metadata": {},
   "source": [
    "### taxon Rickettsiales"
   ]
  },
  {
   "cell_type": "code",
   "execution_count": 10,
   "metadata": {},
   "outputs": [],
   "source": [
    "taxons_rick = ['Anaplasmataceae',\n",
    "               'Candidatus Midichloriaceae',\n",
    "               'Rickettsiaceae',\n",
    "               'unclassified Rickettsiales',\n",
    "               'Rickettsiales genera incertae sedis']"
   ]
  },
  {
   "cell_type": "code",
   "execution_count": 11,
   "metadata": {},
   "outputs": [],
   "source": [
    "retrieve_complex_taxon('Rickettsiales', taxons_rick)\n",
    "split_genes_16S('Rickettsiales', taxons_rick)"
   ]
  },
  {
   "cell_type": "markdown",
   "metadata": {},
   "source": [
    "### taxon Rhizobiales"
   ]
  },
  {
   "cell_type": "code",
   "execution_count": 12,
   "metadata": {},
   "outputs": [],
   "source": [
    "taxons_rhiz = ['Ancalomicrobiaceae',\n",
    "               'Aurantimonadaceae',\n",
    "               'Bartonellaceae',\n",
    "               'Beijerinckiaceae',\n",
    "               'Bradyrhizobiaceae',\n",
    "               'Brucellaceae',\n",
    "               'Chelatococcaceae',\n",
    "               'Cohaesibacteraceae',\n",
    "               'Hyphomicrobiaceae',\n",
    "               'Mabikibacteraceae',\n",
    "               'Methylobacteriaceae',\n",
    "               'Methylocystaceae',\n",
    "               'Notoacmeibacteraceae',\n",
    "               'Phyllobacteriaceae',\n",
    "               'Rhizobiaceae',\n",
    "               'Rhodobiaceae',\n",
    "               'Roseiarcaceae',\n",
    "               'Salinarimonadaceae',\n",
    "               'Xanthobacteraceae',\n",
    "               'unclassified Rhizobiales']"
   ]
  },
  {
   "cell_type": "code",
   "execution_count": null,
   "metadata": {},
   "outputs": [],
   "source": [
    "retrieve_complex_taxon('Rhizobiales', taxons_rhiz)\n",
    "split_genes_16S('Rhizobiales', taxons_rhiz)"
   ]
  },
  {
   "cell_type": "code",
   "execution_count": null,
   "metadata": {},
   "outputs": [],
   "source": []
  },
  {
   "cell_type": "code",
   "execution_count": null,
   "metadata": {},
   "outputs": [],
   "source": []
  }
 ],
 "metadata": {
  "kernelspec": {
   "display_name": "Python 3",
   "language": "python",
   "name": "python3"
  },
  "language_info": {
   "codemirror_mode": {
    "name": "ipython",
    "version": 3
   },
   "file_extension": ".py",
   "mimetype": "text/x-python",
   "name": "python",
   "nbconvert_exporter": "python",
   "pygments_lexer": "ipython3",
   "version": "3.6.8"
  }
 },
 "nbformat": 4,
 "nbformat_minor": 2
}
