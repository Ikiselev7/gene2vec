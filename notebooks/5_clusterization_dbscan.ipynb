{
 "cells": [
  {
   "cell_type": "code",
   "execution_count": 1,
   "metadata": {},
   "outputs": [],
   "source": [
    "import pandas as pd\n",
    "import numpy as np\n",
    "import matplotlib.pyplot as plt\n",
    "%matplotlib inline\n",
    "\n",
    "from sklearn.cluster import DBSCAN\n",
    "from sklearn.cluster import KMeans\n",
    "from sklearn.metrics import silhouette_score, homogeneity_score, completeness_score\n",
    "from sklearn.metrics import v_measure_score, adjusted_rand_score, adjusted_mutual_info_score"
   ]
  },
  {
   "cell_type": "markdown",
   "metadata": {},
   "source": [
    "## 5-grams"
   ]
  },
  {
   "cell_type": "markdown",
   "metadata": {},
   "source": [
    "### Read 1000 genes data (5grams)"
   ]
  },
  {
   "cell_type": "code",
   "execution_count": 2,
   "metadata": {},
   "outputs": [
    {
     "data": {
      "text/html": [
       "<div>\n",
       "<style scoped>\n",
       "    .dataframe tbody tr th:only-of-type {\n",
       "        vertical-align: middle;\n",
       "    }\n",
       "\n",
       "    .dataframe tbody tr th {\n",
       "        vertical-align: top;\n",
       "    }\n",
       "\n",
       "    .dataframe thead th {\n",
       "        text-align: right;\n",
       "    }\n",
       "</style>\n",
       "<table border=\"1\" class=\"dataframe\">\n",
       "  <thead>\n",
       "    <tr style=\"text-align: right;\">\n",
       "      <th></th>\n",
       "      <th>0</th>\n",
       "      <th>1</th>\n",
       "      <th>2</th>\n",
       "      <th>3</th>\n",
       "      <th>4</th>\n",
       "      <th>5</th>\n",
       "      <th>6</th>\n",
       "      <th>7</th>\n",
       "      <th>8</th>\n",
       "      <th>9</th>\n",
       "      <th>...</th>\n",
       "      <th>290</th>\n",
       "      <th>291</th>\n",
       "      <th>292</th>\n",
       "      <th>293</th>\n",
       "      <th>294</th>\n",
       "      <th>295</th>\n",
       "      <th>296</th>\n",
       "      <th>297</th>\n",
       "      <th>298</th>\n",
       "      <th>299</th>\n",
       "    </tr>\n",
       "  </thead>\n",
       "  <tbody>\n",
       "    <tr>\n",
       "      <th>0</th>\n",
       "      <td>0.224818</td>\n",
       "      <td>-0.517008</td>\n",
       "      <td>-0.064452</td>\n",
       "      <td>0.148553</td>\n",
       "      <td>0.068823</td>\n",
       "      <td>0.206724</td>\n",
       "      <td>-0.211986</td>\n",
       "      <td>0.176344</td>\n",
       "      <td>-0.028080</td>\n",
       "      <td>0.284313</td>\n",
       "      <td>...</td>\n",
       "      <td>-0.034370</td>\n",
       "      <td>-0.055109</td>\n",
       "      <td>-0.312663</td>\n",
       "      <td>0.173250</td>\n",
       "      <td>0.172105</td>\n",
       "      <td>-0.052385</td>\n",
       "      <td>0.206451</td>\n",
       "      <td>-0.237680</td>\n",
       "      <td>-0.203981</td>\n",
       "      <td>0.069451</td>\n",
       "    </tr>\n",
       "    <tr>\n",
       "      <th>1</th>\n",
       "      <td>0.269006</td>\n",
       "      <td>-0.429744</td>\n",
       "      <td>-0.393180</td>\n",
       "      <td>0.324338</td>\n",
       "      <td>0.110689</td>\n",
       "      <td>0.347044</td>\n",
       "      <td>-0.300525</td>\n",
       "      <td>0.378978</td>\n",
       "      <td>-0.084488</td>\n",
       "      <td>0.616519</td>\n",
       "      <td>...</td>\n",
       "      <td>0.036676</td>\n",
       "      <td>0.051371</td>\n",
       "      <td>-0.600764</td>\n",
       "      <td>0.262464</td>\n",
       "      <td>0.222898</td>\n",
       "      <td>-0.071216</td>\n",
       "      <td>0.412827</td>\n",
       "      <td>-0.618638</td>\n",
       "      <td>-0.291295</td>\n",
       "      <td>0.215112</td>\n",
       "    </tr>\n",
       "    <tr>\n",
       "      <th>2</th>\n",
       "      <td>0.213053</td>\n",
       "      <td>-0.439649</td>\n",
       "      <td>-0.125849</td>\n",
       "      <td>0.087021</td>\n",
       "      <td>0.188119</td>\n",
       "      <td>0.290629</td>\n",
       "      <td>-0.128465</td>\n",
       "      <td>0.228046</td>\n",
       "      <td>-0.110428</td>\n",
       "      <td>0.270840</td>\n",
       "      <td>...</td>\n",
       "      <td>0.026401</td>\n",
       "      <td>0.061394</td>\n",
       "      <td>-0.291470</td>\n",
       "      <td>0.099106</td>\n",
       "      <td>0.320460</td>\n",
       "      <td>-0.136863</td>\n",
       "      <td>0.081284</td>\n",
       "      <td>-0.254314</td>\n",
       "      <td>-0.052678</td>\n",
       "      <td>0.175268</td>\n",
       "    </tr>\n",
       "    <tr>\n",
       "      <th>3</th>\n",
       "      <td>0.185245</td>\n",
       "      <td>-0.484331</td>\n",
       "      <td>-0.174359</td>\n",
       "      <td>0.208017</td>\n",
       "      <td>0.218669</td>\n",
       "      <td>0.260073</td>\n",
       "      <td>0.024933</td>\n",
       "      <td>0.325208</td>\n",
       "      <td>-0.077642</td>\n",
       "      <td>0.389273</td>\n",
       "      <td>...</td>\n",
       "      <td>0.028978</td>\n",
       "      <td>0.056207</td>\n",
       "      <td>-0.254316</td>\n",
       "      <td>0.198745</td>\n",
       "      <td>0.120409</td>\n",
       "      <td>-0.070604</td>\n",
       "      <td>0.226840</td>\n",
       "      <td>-0.335807</td>\n",
       "      <td>-0.150995</td>\n",
       "      <td>0.162830</td>\n",
       "    </tr>\n",
       "    <tr>\n",
       "      <th>4</th>\n",
       "      <td>0.189049</td>\n",
       "      <td>-0.381479</td>\n",
       "      <td>0.009477</td>\n",
       "      <td>0.045755</td>\n",
       "      <td>0.114435</td>\n",
       "      <td>0.318239</td>\n",
       "      <td>0.032854</td>\n",
       "      <td>0.259634</td>\n",
       "      <td>-0.087644</td>\n",
       "      <td>0.283039</td>\n",
       "      <td>...</td>\n",
       "      <td>0.023527</td>\n",
       "      <td>-0.062844</td>\n",
       "      <td>-0.323950</td>\n",
       "      <td>0.164059</td>\n",
       "      <td>0.011794</td>\n",
       "      <td>-0.019976</td>\n",
       "      <td>0.164726</td>\n",
       "      <td>-0.353101</td>\n",
       "      <td>-0.140871</td>\n",
       "      <td>0.108896</td>\n",
       "    </tr>\n",
       "  </tbody>\n",
       "</table>\n",
       "<p>5 rows × 300 columns</p>\n",
       "</div>"
      ],
      "text/plain": [
       "        0         1         2         3         4         5         6    \\\n",
       "0  0.224818 -0.517008 -0.064452  0.148553  0.068823  0.206724 -0.211986   \n",
       "1  0.269006 -0.429744 -0.393180  0.324338  0.110689  0.347044 -0.300525   \n",
       "2  0.213053 -0.439649 -0.125849  0.087021  0.188119  0.290629 -0.128465   \n",
       "3  0.185245 -0.484331 -0.174359  0.208017  0.218669  0.260073  0.024933   \n",
       "4  0.189049 -0.381479  0.009477  0.045755  0.114435  0.318239  0.032854   \n",
       "\n",
       "        7         8         9    ...       290       291       292       293  \\\n",
       "0  0.176344 -0.028080  0.284313  ... -0.034370 -0.055109 -0.312663  0.173250   \n",
       "1  0.378978 -0.084488  0.616519  ...  0.036676  0.051371 -0.600764  0.262464   \n",
       "2  0.228046 -0.110428  0.270840  ...  0.026401  0.061394 -0.291470  0.099106   \n",
       "3  0.325208 -0.077642  0.389273  ...  0.028978  0.056207 -0.254316  0.198745   \n",
       "4  0.259634 -0.087644  0.283039  ...  0.023527 -0.062844 -0.323950  0.164059   \n",
       "\n",
       "        294       295       296       297       298       299  \n",
       "0  0.172105 -0.052385  0.206451 -0.237680 -0.203981  0.069451  \n",
       "1  0.222898 -0.071216  0.412827 -0.618638 -0.291295  0.215112  \n",
       "2  0.320460 -0.136863  0.081284 -0.254314 -0.052678  0.175268  \n",
       "3  0.120409 -0.070604  0.226840 -0.335807 -0.150995  0.162830  \n",
       "4  0.011794 -0.019976  0.164726 -0.353101 -0.140871  0.108896  \n",
       "\n",
       "[5 rows x 300 columns]"
      ]
     },
     "execution_count": 2,
     "metadata": {},
     "output_type": "execute_result"
    }
   ],
   "source": [
    "df_5 = pd.read_csv('dna2vec_data/genes_vec_5grams_1066_genes.tsv',\n",
    "                   sep='\\t', header=None, index_col=None)\n",
    "df_5.head()"
   ]
  },
  {
   "cell_type": "code",
   "execution_count": 3,
   "metadata": {},
   "outputs": [
    {
     "data": {
      "text/plain": [
       "(1066, 300)"
      ]
     },
     "execution_count": 3,
     "metadata": {},
     "output_type": "execute_result"
    }
   ],
   "source": [
    "df_5.shape"
   ]
  },
  {
   "cell_type": "code",
   "execution_count": 4,
   "metadata": {},
   "outputs": [
    {
     "data": {
      "text/plain": [
       "array([[ 0.22481839, -0.51700783, -0.06445225, ..., -0.23768002,\n",
       "        -0.20398101,  0.06945089],\n",
       "       [ 0.26900563, -0.42974368, -0.39318001, ..., -0.61863798,\n",
       "        -0.2912955 ,  0.21511166],\n",
       "       [ 0.21305262, -0.43964905, -0.12584914, ..., -0.25431404,\n",
       "        -0.05267807,  0.17526799],\n",
       "       ...,\n",
       "       [ 0.09644011, -0.3296366 ,  0.11045185, ..., -0.08950601,\n",
       "        -0.1091522 , -0.04951891],\n",
       "       [ 0.14430071, -0.23303358, -0.0527759 , ..., -0.15887462,\n",
       "        -0.13677867,  0.13771328],\n",
       "       [ 0.2038596 , -0.4067688 ,  0.01472623, ..., -0.23565748,\n",
       "        -0.17063072,  0.01811931]])"
      ]
     },
     "execution_count": 4,
     "metadata": {},
     "output_type": "execute_result"
    }
   ],
   "source": [
    "X_5 = np.array(df_5)\n",
    "X_5"
   ]
  },
  {
   "cell_type": "code",
   "execution_count": 5,
   "metadata": {},
   "outputs": [
    {
     "data": {
      "text/plain": [
       "(1066, 300)"
      ]
     },
     "execution_count": 5,
     "metadata": {},
     "output_type": "execute_result"
    }
   ],
   "source": [
    "X_5.shape"
   ]
  },
  {
   "cell_type": "code",
   "execution_count": 6,
   "metadata": {},
   "outputs": [
    {
     "data": {
      "text/html": [
       "<div>\n",
       "<style scoped>\n",
       "    .dataframe tbody tr th:only-of-type {\n",
       "        vertical-align: middle;\n",
       "    }\n",
       "\n",
       "    .dataframe tbody tr th {\n",
       "        vertical-align: top;\n",
       "    }\n",
       "\n",
       "    .dataframe thead th {\n",
       "        text-align: right;\n",
       "    }\n",
       "</style>\n",
       "<table border=\"1\" class=\"dataframe\">\n",
       "  <thead>\n",
       "    <tr style=\"text-align: right;\">\n",
       "      <th></th>\n",
       "      <th>org_id_name</th>\n",
       "      <th>gene_name</th>\n",
       "    </tr>\n",
       "  </thead>\n",
       "  <tbody>\n",
       "    <tr>\n",
       "      <th>0</th>\n",
       "      <td>0_Bacillus_amyloliquefaciens</td>\n",
       "      <td>pgk</td>\n",
       "    </tr>\n",
       "    <tr>\n",
       "      <th>1</th>\n",
       "      <td>0_Bacillus_amyloliquefaciens</td>\n",
       "      <td>rplW</td>\n",
       "    </tr>\n",
       "    <tr>\n",
       "      <th>2</th>\n",
       "      <td>0_Bacillus_amyloliquefaciens</td>\n",
       "      <td>rplE</td>\n",
       "    </tr>\n",
       "    <tr>\n",
       "      <th>3</th>\n",
       "      <td>0_Bacillus_amyloliquefaciens</td>\n",
       "      <td>rplC</td>\n",
       "    </tr>\n",
       "    <tr>\n",
       "      <th>4</th>\n",
       "      <td>0_Bacillus_amyloliquefaciens</td>\n",
       "      <td>rplF</td>\n",
       "    </tr>\n",
       "  </tbody>\n",
       "</table>\n",
       "</div>"
      ],
      "text/plain": [
       "                    org_id_name gene_name\n",
       "0  0_Bacillus_amyloliquefaciens       pgk\n",
       "1  0_Bacillus_amyloliquefaciens      rplW\n",
       "2  0_Bacillus_amyloliquefaciens      rplE\n",
       "3  0_Bacillus_amyloliquefaciens      rplC\n",
       "4  0_Bacillus_amyloliquefaciens      rplF"
      ]
     },
     "execution_count": 6,
     "metadata": {},
     "output_type": "execute_result"
    }
   ],
   "source": [
    "meta = pd.read_csv('dna2vec_data/meta_info_1066_genes.tsv',\n",
    "                   sep = '\\t', index_col=None)\n",
    "meta.head()"
   ]
  },
  {
   "cell_type": "code",
   "execution_count": 7,
   "metadata": {},
   "outputs": [
    {
     "data": {
      "text/plain": [
       "(1066, 2)"
      ]
     },
     "execution_count": 7,
     "metadata": {},
     "output_type": "execute_result"
    }
   ],
   "source": [
    "meta.shape"
   ]
  },
  {
   "cell_type": "code",
   "execution_count": 8,
   "metadata": {},
   "outputs": [
    {
     "name": "stdout",
     "output_type": "stream",
     "text": [
      "num_proteins = 92\n",
      "['pgk' 'rplW' 'rplE' 'rplC' 'rplF' 'rpsQ' 'rpsI' 'rpsH' 'rpsK' 'rpsM'\n",
      " 'rplJ' 'argS' 'rpmI' 'rpsP' 'rpmC' 'prfA' 'rpsT' 'ybeY' 'rplQ' 'rplR'\n",
      " 'rplU' 'rpmA' 'ftsY' 'rbfA' 'smpB' 'ychF' 'tig' 'tsf' 'coaE' 'rplI'\n",
      " 'rpsR' 'rpsF' 'infC' 'pyrG' 'alaS' 'dnaA' 'ileS' 'leuS' 'serS' 'truB'\n",
      " 'cysS' 'hisS' 'aspS' 'fmt' 'pheS' 'pheT' 'infB' 'frr' 'uvrB' 'ksgA'\n",
      " 'secG' 'rplL' 'nusG' 'rpsO' 'ffh' 'secA' 'secY' 'rpsL' 'rpsC' 'rpsB'\n",
      " 'rpsD' 'rpsE' 'rplS' 'rpsG' 'rplT' 'rplV' 'rpsJ' 'rpsS' 'rplM' 'rplN'\n",
      " 'rplO' 'rplX' 'rplP' 'rplA' 'rplB' 'dnaG' 'lepA' 'rplK' 'nusA' 'recA'\n",
      " 'rpoB' 'rpoA' 'rnc' 'rpoC' 'dnaX' 'tilS' 'cgtA' 'gmk' 'engA' 'tsaD'\n",
      " 'rplD' 'ligA']\n"
     ]
    }
   ],
   "source": [
    "print(f'num_proteins = {len(meta.iloc[:, 1].unique())}')\n",
    "print(meta.iloc[:, 1].unique())"
   ]
  },
  {
   "cell_type": "code",
   "execution_count": 9,
   "metadata": {},
   "outputs": [
    {
     "data": {
      "text/plain": [
       "array(['pgk', 'rplW', 'rplE', ..., 'tsaD', 'rplD', 'ligA'], dtype=object)"
      ]
     },
     "execution_count": 9,
     "metadata": {},
     "output_type": "execute_result"
    }
   ],
   "source": [
    "labels_true = np.array(meta.iloc[:, 1])\n",
    "labels_true"
   ]
  },
  {
   "cell_type": "code",
   "execution_count": 10,
   "metadata": {},
   "outputs": [
    {
     "data": {
      "text/plain": [
       "1066"
      ]
     },
     "execution_count": 10,
     "metadata": {},
     "output_type": "execute_result"
    }
   ],
   "source": [
    "len(labels_true)"
   ]
  },
  {
   "cell_type": "markdown",
   "metadata": {},
   "source": [
    "### DBSCAN Clustering (without plotting)"
   ]
  },
  {
   "cell_type": "code",
   "execution_count": 11,
   "metadata": {},
   "outputs": [],
   "source": [
    "def clst_dbscan(X, labels_true, eps=0.3, min_samples=2):\n",
    "    print(f'eps={eps}, min_samples={min_samples}')\n",
    "    clst = DBSCAN(eps=eps, min_samples=min_samples).fit(X)\n",
    "    core_samples_mask = np.zeros_like(clst.labels_, dtype=bool)\n",
    "    core_samples_mask[clst.core_sample_indices_] = True\n",
    "\n",
    "    labels = clst.labels_\n",
    "    \n",
    "    # Number of clusters in labels, ignoring noise if present.\n",
    "    n_clusters_ = len(set(labels)) - (1 if -1 in labels else 0)\n",
    "    \n",
    "    print(f'number of predicted clusters: {n_clusters_}\\n')\n",
    "    print(f'Silhouette_score: {silhouette_score(X, labels)}')\n",
    "    print(f'Homogeneity: {homogeneity_score(labels_true, labels)}')\n",
    "    print(f'Completeness: {completeness_score(labels_true, labels)}')\n",
    "    print(f'V-measure: {v_measure_score(labels_true, labels)}')\n",
    "    print(f'Adjusted Rand Index: {adjusted_rand_score(labels_true, labels)}')\n",
    "    print(f'Adjusted Mutual Information: {adjusted_mutual_info_score(labels_true,labels,average_method=\"arithmetic\")}')\n",
    "    \n",
    "    return labels"
   ]
  },
  {
   "cell_type": "code",
   "execution_count": 13,
   "metadata": {},
   "outputs": [
    {
     "name": "stdout",
     "output_type": "stream",
     "text": [
      "eps=1.0, min_samples=3\n",
      "number of predicted clusters: 94\n",
      "\n",
      "Silhouette_score: 0.2333864857402233\n",
      "Homogeneity: 0.6513469535589425\n",
      "Completeness: 0.8883493156364336\n",
      "V-measure: 0.7516074852066026\n",
      "Adjusted Rand Index: 0.08034610003118238\n",
      "Adjusted Mutual Information: 0.5987420047027983\n"
     ]
    }
   ],
   "source": [
    "predict_1__3 = clst_dbscan(X_5, labels_true, eps=1.0, min_samples=3)"
   ]
  },
  {
   "cell_type": "code",
   "execution_count": 15,
   "metadata": {},
   "outputs": [
    {
     "name": "stdout",
     "output_type": "stream",
     "text": [
      "eps=1.1, min_samples=2\n",
      "number of predicted clusters: 98\n",
      "\n",
      "Silhouette_score: 0.3243976184110804\n",
      "Homogeneity: 0.6809205925935664\n",
      "Completeness: 0.9179491004109986\n",
      "V-measure: 0.7818653992346377\n",
      "Adjusted Rand Index: 0.08181127775276757\n",
      "Adjusted Mutual Information: 0.6400650419013789\n"
     ]
    }
   ],
   "source": [
    "pridict_1_1__2 = clst_dbscan(X_5, labels_true, eps=1.1, min_samples=2)"
   ]
  },
  {
   "cell_type": "code",
   "execution_count": 16,
   "metadata": {},
   "outputs": [
    {
     "name": "stdout",
     "output_type": "stream",
     "text": [
      "eps=1.2, min_samples=2\n",
      "number of predicted clusters: 85\n",
      "\n",
      "Silhouette_score: 0.3028996249478741\n",
      "Homogeneity: 0.6428193389952281\n",
      "Completeness: 0.9307781286307657\n",
      "V-measure: 0.7604513780773966\n",
      "Adjusted Rand Index: 0.06873971992117016\n",
      "Adjusted Mutual Information: 0.618884711371762\n"
     ]
    }
   ],
   "source": [
    "pridict_1_2__2 = clst_dbscan(X_5, labels_true, eps=1.2, min_samples=2)"
   ]
  },
  {
   "cell_type": "code",
   "execution_count": 17,
   "metadata": {},
   "outputs": [
    {
     "name": "stdout",
     "output_type": "stream",
     "text": [
      "eps=1.2, min_samples=4\n",
      "number of predicted clusters: 55\n",
      "\n",
      "Silhouette_score: 0.25907016091912594\n",
      "Homogeneity: 0.5885495365125468\n",
      "Completeness: 0.9418133177360084\n",
      "V-measure: 0.724408319368217\n",
      "Adjusted Rand Index: 0.06702506452395604\n",
      "Adjusted Mutual Information: 0.5953293388638686\n"
     ]
    }
   ],
   "source": [
    "pridict_1_2__4 = clst_dbscan(X_5, labels_true, eps=1.2, min_samples=4)"
   ]
  },
  {
   "cell_type": "code",
   "execution_count": 18,
   "metadata": {},
   "outputs": [
    {
     "data": {
      "text/html": [
       "<div>\n",
       "<style scoped>\n",
       "    .dataframe tbody tr th:only-of-type {\n",
       "        vertical-align: middle;\n",
       "    }\n",
       "\n",
       "    .dataframe tbody tr th {\n",
       "        vertical-align: top;\n",
       "    }\n",
       "\n",
       "    .dataframe thead th {\n",
       "        text-align: right;\n",
       "    }\n",
       "</style>\n",
       "<table border=\"1\" class=\"dataframe\">\n",
       "  <thead>\n",
       "    <tr style=\"text-align: right;\">\n",
       "      <th></th>\n",
       "      <th>org_id_name</th>\n",
       "      <th>gene_name</th>\n",
       "    </tr>\n",
       "  </thead>\n",
       "  <tbody>\n",
       "    <tr>\n",
       "      <th>0</th>\n",
       "      <td>0_Bacillus_amyloliquefaciens</td>\n",
       "      <td>pgk</td>\n",
       "    </tr>\n",
       "    <tr>\n",
       "      <th>1</th>\n",
       "      <td>0_Bacillus_amyloliquefaciens</td>\n",
       "      <td>rplW</td>\n",
       "    </tr>\n",
       "    <tr>\n",
       "      <th>2</th>\n",
       "      <td>0_Bacillus_amyloliquefaciens</td>\n",
       "      <td>rplE</td>\n",
       "    </tr>\n",
       "    <tr>\n",
       "      <th>3</th>\n",
       "      <td>0_Bacillus_amyloliquefaciens</td>\n",
       "      <td>rplC</td>\n",
       "    </tr>\n",
       "    <tr>\n",
       "      <th>4</th>\n",
       "      <td>0_Bacillus_amyloliquefaciens</td>\n",
       "      <td>rplF</td>\n",
       "    </tr>\n",
       "  </tbody>\n",
       "</table>\n",
       "</div>"
      ],
      "text/plain": [
       "                    org_id_name gene_name\n",
       "0  0_Bacillus_amyloliquefaciens       pgk\n",
       "1  0_Bacillus_amyloliquefaciens      rplW\n",
       "2  0_Bacillus_amyloliquefaciens      rplE\n",
       "3  0_Bacillus_amyloliquefaciens      rplC\n",
       "4  0_Bacillus_amyloliquefaciens      rplF"
      ]
     },
     "execution_count": 18,
     "metadata": {},
     "output_type": "execute_result"
    }
   ],
   "source": [
    "meta.head()"
   ]
  },
  {
   "cell_type": "code",
   "execution_count": 19,
   "metadata": {},
   "outputs": [],
   "source": [
    "meta_5 = meta.copy()\n",
    "\n",
    "meta_5['predict_1__3'] = predict_1__3\n",
    "meta_5['pridict_1_1__2'] = pridict_1_1__2\n",
    "meta_5['pridict_1_2__2'] = pridict_1_2__2\n",
    "meta_5['pridict_1_2__4'] = pridict_1_2__4"
   ]
  },
  {
   "cell_type": "code",
   "execution_count": 20,
   "metadata": {},
   "outputs": [
    {
     "data": {
      "text/html": [
       "<div>\n",
       "<style scoped>\n",
       "    .dataframe tbody tr th:only-of-type {\n",
       "        vertical-align: middle;\n",
       "    }\n",
       "\n",
       "    .dataframe tbody tr th {\n",
       "        vertical-align: top;\n",
       "    }\n",
       "\n",
       "    .dataframe thead th {\n",
       "        text-align: right;\n",
       "    }\n",
       "</style>\n",
       "<table border=\"1\" class=\"dataframe\">\n",
       "  <thead>\n",
       "    <tr style=\"text-align: right;\">\n",
       "      <th></th>\n",
       "      <th>org_id_name</th>\n",
       "      <th>gene_name</th>\n",
       "      <th>predict_1__3</th>\n",
       "      <th>pridict_1_1__2</th>\n",
       "      <th>pridict_1_2__2</th>\n",
       "      <th>pridict_1_2__4</th>\n",
       "    </tr>\n",
       "  </thead>\n",
       "  <tbody>\n",
       "    <tr>\n",
       "      <th>0</th>\n",
       "      <td>0_Bacillus_amyloliquefaciens</td>\n",
       "      <td>pgk</td>\n",
       "      <td>0</td>\n",
       "      <td>0</td>\n",
       "      <td>0</td>\n",
       "      <td>0</td>\n",
       "    </tr>\n",
       "    <tr>\n",
       "      <th>1</th>\n",
       "      <td>0_Bacillus_amyloliquefaciens</td>\n",
       "      <td>rplW</td>\n",
       "      <td>1</td>\n",
       "      <td>1</td>\n",
       "      <td>1</td>\n",
       "      <td>1</td>\n",
       "    </tr>\n",
       "    <tr>\n",
       "      <th>2</th>\n",
       "      <td>0_Bacillus_amyloliquefaciens</td>\n",
       "      <td>rplE</td>\n",
       "      <td>2</td>\n",
       "      <td>2</td>\n",
       "      <td>2</td>\n",
       "      <td>2</td>\n",
       "    </tr>\n",
       "    <tr>\n",
       "      <th>3</th>\n",
       "      <td>0_Bacillus_amyloliquefaciens</td>\n",
       "      <td>rplC</td>\n",
       "      <td>3</td>\n",
       "      <td>3</td>\n",
       "      <td>3</td>\n",
       "      <td>3</td>\n",
       "    </tr>\n",
       "    <tr>\n",
       "      <th>4</th>\n",
       "      <td>0_Bacillus_amyloliquefaciens</td>\n",
       "      <td>rplF</td>\n",
       "      <td>4</td>\n",
       "      <td>4</td>\n",
       "      <td>4</td>\n",
       "      <td>4</td>\n",
       "    </tr>\n",
       "  </tbody>\n",
       "</table>\n",
       "</div>"
      ],
      "text/plain": [
       "                    org_id_name gene_name  predict_1__3  pridict_1_1__2  \\\n",
       "0  0_Bacillus_amyloliquefaciens       pgk             0               0   \n",
       "1  0_Bacillus_amyloliquefaciens      rplW             1               1   \n",
       "2  0_Bacillus_amyloliquefaciens      rplE             2               2   \n",
       "3  0_Bacillus_amyloliquefaciens      rplC             3               3   \n",
       "4  0_Bacillus_amyloliquefaciens      rplF             4               4   \n",
       "\n",
       "   pridict_1_2__2  pridict_1_2__4  \n",
       "0               0               0  \n",
       "1               1               1  \n",
       "2               2               2  \n",
       "3               3               3  \n",
       "4               4               4  "
      ]
     },
     "execution_count": 20,
     "metadata": {},
     "output_type": "execute_result"
    }
   ],
   "source": [
    "meta_5.head()"
   ]
  },
  {
   "cell_type": "code",
   "execution_count": 21,
   "metadata": {},
   "outputs": [],
   "source": [
    "meta_5.to_csv('dna2vec_data/meta_1066genes_5grams_4preds.tsv', sep = '\\t', index=None)"
   ]
  },
  {
   "cell_type": "markdown",
   "metadata": {},
   "source": [
    "## 8-grams"
   ]
  },
  {
   "cell_type": "markdown",
   "metadata": {},
   "source": [
    "### Read 1000 genes data (8grams)"
   ]
  },
  {
   "cell_type": "code",
   "execution_count": 22,
   "metadata": {},
   "outputs": [
    {
     "data": {
      "text/html": [
       "<div>\n",
       "<style scoped>\n",
       "    .dataframe tbody tr th:only-of-type {\n",
       "        vertical-align: middle;\n",
       "    }\n",
       "\n",
       "    .dataframe tbody tr th {\n",
       "        vertical-align: top;\n",
       "    }\n",
       "\n",
       "    .dataframe thead th {\n",
       "        text-align: right;\n",
       "    }\n",
       "</style>\n",
       "<table border=\"1\" class=\"dataframe\">\n",
       "  <thead>\n",
       "    <tr style=\"text-align: right;\">\n",
       "      <th></th>\n",
       "      <th>0</th>\n",
       "      <th>1</th>\n",
       "      <th>2</th>\n",
       "      <th>3</th>\n",
       "      <th>4</th>\n",
       "      <th>5</th>\n",
       "      <th>6</th>\n",
       "      <th>7</th>\n",
       "      <th>8</th>\n",
       "      <th>9</th>\n",
       "      <th>...</th>\n",
       "      <th>290</th>\n",
       "      <th>291</th>\n",
       "      <th>292</th>\n",
       "      <th>293</th>\n",
       "      <th>294</th>\n",
       "      <th>295</th>\n",
       "      <th>296</th>\n",
       "      <th>297</th>\n",
       "      <th>298</th>\n",
       "      <th>299</th>\n",
       "    </tr>\n",
       "  </thead>\n",
       "  <tbody>\n",
       "    <tr>\n",
       "      <th>0</th>\n",
       "      <td>0.048966</td>\n",
       "      <td>0.215133</td>\n",
       "      <td>-0.093535</td>\n",
       "      <td>0.271950</td>\n",
       "      <td>0.056131</td>\n",
       "      <td>0.015033</td>\n",
       "      <td>0.057673</td>\n",
       "      <td>-0.016855</td>\n",
       "      <td>0.082164</td>\n",
       "      <td>-0.047551</td>\n",
       "      <td>...</td>\n",
       "      <td>0.117856</td>\n",
       "      <td>0.420397</td>\n",
       "      <td>0.119625</td>\n",
       "      <td>-0.196282</td>\n",
       "      <td>0.082877</td>\n",
       "      <td>0.068647</td>\n",
       "      <td>0.030077</td>\n",
       "      <td>0.114603</td>\n",
       "      <td>0.103280</td>\n",
       "      <td>0.018583</td>\n",
       "    </tr>\n",
       "    <tr>\n",
       "      <th>1</th>\n",
       "      <td>0.000200</td>\n",
       "      <td>0.180789</td>\n",
       "      <td>-0.208386</td>\n",
       "      <td>0.315490</td>\n",
       "      <td>0.135653</td>\n",
       "      <td>0.318309</td>\n",
       "      <td>0.272998</td>\n",
       "      <td>0.137876</td>\n",
       "      <td>0.143359</td>\n",
       "      <td>0.079383</td>\n",
       "      <td>...</td>\n",
       "      <td>0.131155</td>\n",
       "      <td>0.027952</td>\n",
       "      <td>0.335628</td>\n",
       "      <td>-0.050592</td>\n",
       "      <td>0.000533</td>\n",
       "      <td>0.289924</td>\n",
       "      <td>-0.167919</td>\n",
       "      <td>-0.150310</td>\n",
       "      <td>0.070956</td>\n",
       "      <td>0.120845</td>\n",
       "    </tr>\n",
       "    <tr>\n",
       "      <th>2</th>\n",
       "      <td>-0.150688</td>\n",
       "      <td>0.054393</td>\n",
       "      <td>-0.044547</td>\n",
       "      <td>0.298000</td>\n",
       "      <td>0.260300</td>\n",
       "      <td>0.042104</td>\n",
       "      <td>0.143285</td>\n",
       "      <td>-0.139697</td>\n",
       "      <td>0.180042</td>\n",
       "      <td>0.018842</td>\n",
       "      <td>...</td>\n",
       "      <td>0.160734</td>\n",
       "      <td>0.302021</td>\n",
       "      <td>0.130394</td>\n",
       "      <td>-0.106028</td>\n",
       "      <td>-0.159277</td>\n",
       "      <td>0.043468</td>\n",
       "      <td>-0.320885</td>\n",
       "      <td>-0.053218</td>\n",
       "      <td>-0.055581</td>\n",
       "      <td>-0.061437</td>\n",
       "    </tr>\n",
       "    <tr>\n",
       "      <th>3</th>\n",
       "      <td>-0.058469</td>\n",
       "      <td>0.179506</td>\n",
       "      <td>0.114248</td>\n",
       "      <td>0.219028</td>\n",
       "      <td>0.174956</td>\n",
       "      <td>-0.038619</td>\n",
       "      <td>0.027095</td>\n",
       "      <td>-0.064624</td>\n",
       "      <td>0.065573</td>\n",
       "      <td>0.097429</td>\n",
       "      <td>...</td>\n",
       "      <td>0.227734</td>\n",
       "      <td>0.346894</td>\n",
       "      <td>0.089396</td>\n",
       "      <td>-0.218518</td>\n",
       "      <td>-0.171460</td>\n",
       "      <td>0.083559</td>\n",
       "      <td>-0.105491</td>\n",
       "      <td>-0.149052</td>\n",
       "      <td>0.151587</td>\n",
       "      <td>0.115682</td>\n",
       "    </tr>\n",
       "    <tr>\n",
       "      <th>4</th>\n",
       "      <td>0.189937</td>\n",
       "      <td>0.306308</td>\n",
       "      <td>-0.177736</td>\n",
       "      <td>0.373243</td>\n",
       "      <td>0.132819</td>\n",
       "      <td>-0.016372</td>\n",
       "      <td>0.191871</td>\n",
       "      <td>0.055798</td>\n",
       "      <td>0.266743</td>\n",
       "      <td>0.050665</td>\n",
       "      <td>...</td>\n",
       "      <td>0.007557</td>\n",
       "      <td>0.223325</td>\n",
       "      <td>0.091037</td>\n",
       "      <td>-0.017273</td>\n",
       "      <td>0.039075</td>\n",
       "      <td>0.186981</td>\n",
       "      <td>-0.096928</td>\n",
       "      <td>-0.152875</td>\n",
       "      <td>0.022343</td>\n",
       "      <td>0.175697</td>\n",
       "    </tr>\n",
       "  </tbody>\n",
       "</table>\n",
       "<p>5 rows × 300 columns</p>\n",
       "</div>"
      ],
      "text/plain": [
       "        0         1         2         3         4         5         6    \\\n",
       "0  0.048966  0.215133 -0.093535  0.271950  0.056131  0.015033  0.057673   \n",
       "1  0.000200  0.180789 -0.208386  0.315490  0.135653  0.318309  0.272998   \n",
       "2 -0.150688  0.054393 -0.044547  0.298000  0.260300  0.042104  0.143285   \n",
       "3 -0.058469  0.179506  0.114248  0.219028  0.174956 -0.038619  0.027095   \n",
       "4  0.189937  0.306308 -0.177736  0.373243  0.132819 -0.016372  0.191871   \n",
       "\n",
       "        7         8         9    ...       290       291       292       293  \\\n",
       "0 -0.016855  0.082164 -0.047551  ...  0.117856  0.420397  0.119625 -0.196282   \n",
       "1  0.137876  0.143359  0.079383  ...  0.131155  0.027952  0.335628 -0.050592   \n",
       "2 -0.139697  0.180042  0.018842  ...  0.160734  0.302021  0.130394 -0.106028   \n",
       "3 -0.064624  0.065573  0.097429  ...  0.227734  0.346894  0.089396 -0.218518   \n",
       "4  0.055798  0.266743  0.050665  ...  0.007557  0.223325  0.091037 -0.017273   \n",
       "\n",
       "        294       295       296       297       298       299  \n",
       "0  0.082877  0.068647  0.030077  0.114603  0.103280  0.018583  \n",
       "1  0.000533  0.289924 -0.167919 -0.150310  0.070956  0.120845  \n",
       "2 -0.159277  0.043468 -0.320885 -0.053218 -0.055581 -0.061437  \n",
       "3 -0.171460  0.083559 -0.105491 -0.149052  0.151587  0.115682  \n",
       "4  0.039075  0.186981 -0.096928 -0.152875  0.022343  0.175697  \n",
       "\n",
       "[5 rows x 300 columns]"
      ]
     },
     "execution_count": 22,
     "metadata": {},
     "output_type": "execute_result"
    }
   ],
   "source": [
    "df_8 = pd.read_csv('dna2vec_data/genes_vec_8grams_1066_genes.tsv',\n",
    "                   sep='\\t', header=None, index_col=None)\n",
    "df_8.head()"
   ]
  },
  {
   "cell_type": "code",
   "execution_count": 23,
   "metadata": {},
   "outputs": [
    {
     "data": {
      "text/plain": [
       "(1066, 300)"
      ]
     },
     "execution_count": 23,
     "metadata": {},
     "output_type": "execute_result"
    }
   ],
   "source": [
    "df_8.shape"
   ]
  },
  {
   "cell_type": "code",
   "execution_count": 24,
   "metadata": {},
   "outputs": [
    {
     "data": {
      "text/plain": [
       "array([[ 4.89662848e-02,  2.15132624e-01, -9.35348645e-02, ...,\n",
       "         1.14602894e-01,  1.03280075e-01,  1.85832586e-02],\n",
       "       [ 2.00329087e-04,  1.80788517e-01, -2.08385602e-01, ...,\n",
       "        -1.50309801e-01,  7.09559247e-02,  1.20844670e-01],\n",
       "       [-1.50687590e-01,  5.43926470e-02, -4.45473492e-02, ...,\n",
       "        -5.32182455e-02, -5.55811413e-02, -6.14373796e-02],\n",
       "       ...,\n",
       "       [ 7.43073970e-03,  1.84429422e-01,  4.04069014e-02, ...,\n",
       "         1.05795525e-01,  2.60978431e-01, -2.19185874e-02],\n",
       "       [ 1.57566443e-01,  2.97605634e-01, -3.44664492e-02, ...,\n",
       "         5.12003787e-02,  5.57600595e-02,  6.74760938e-02],\n",
       "       [ 7.17200106e-03,  2.10834771e-01, -5.88084459e-02, ...,\n",
       "         1.19152114e-01,  6.47275820e-02,  3.65911536e-02]])"
      ]
     },
     "execution_count": 24,
     "metadata": {},
     "output_type": "execute_result"
    }
   ],
   "source": [
    "X_8 = np.array(df_8)\n",
    "X_8"
   ]
  },
  {
   "cell_type": "code",
   "execution_count": 25,
   "metadata": {},
   "outputs": [
    {
     "data": {
      "text/plain": [
       "(1066, 300)"
      ]
     },
     "execution_count": 25,
     "metadata": {},
     "output_type": "execute_result"
    }
   ],
   "source": [
    "X_8.shape"
   ]
  },
  {
   "cell_type": "markdown",
   "metadata": {},
   "source": [
    "### Clustering"
   ]
  },
  {
   "cell_type": "code",
   "execution_count": 32,
   "metadata": {},
   "outputs": [
    {
     "name": "stdout",
     "output_type": "stream",
     "text": [
      "eps=1.0, min_samples=3\n",
      "number of predicted clusters: 110\n",
      "\n",
      "Silhouette_score: 0.255909703182264\n",
      "Homogeneity: 0.7425311928201783\n",
      "Completeness: 0.8885401594509903\n",
      "V-measure: 0.8090005180301731\n",
      "Adjusted Rand Index: 0.14061936343914946\n",
      "Adjusted Mutual Information: 0.6710911238305147\n"
     ]
    }
   ],
   "source": [
    "predict_1__3 = clst_dbscan(X_8, labels_true, eps=1.0, min_samples=3)"
   ]
  },
  {
   "cell_type": "code",
   "execution_count": 33,
   "metadata": {},
   "outputs": [
    {
     "name": "stdout",
     "output_type": "stream",
     "text": [
      "eps=1.2, min_samples=2\n",
      "number of predicted clusters: 88\n",
      "\n",
      "Silhouette_score: 0.32685332732099387\n",
      "Homogeneity: 0.6678378702084953\n",
      "Completeness: 0.928496860012098\n",
      "V-measure: 0.7768863932441875\n",
      "Adjusted Rand Index: 0.07970992218657202\n",
      "Adjusted Mutual Information: 0.6398327071962177\n"
     ]
    }
   ],
   "source": [
    "predict_1_2__2 = clst_dbscan(X_8, labels_true, eps=1.2, min_samples=2)"
   ]
  },
  {
   "cell_type": "code",
   "execution_count": 34,
   "metadata": {},
   "outputs": [
    {
     "name": "stdout",
     "output_type": "stream",
     "text": [
      "eps=1.2, min_samples=3\n",
      "number of predicted clusters: 76\n",
      "\n",
      "Silhouette_score: 0.31575927996420283\n",
      "Homogeneity: 0.6538502851551194\n",
      "Completeness: 0.9342759843465399\n",
      "V-measure: 0.7693048474920737\n",
      "Adjusted Rand Index: 0.0796213668807321\n",
      "Adjusted Mutual Information: 0.6368977634307105\n"
     ]
    }
   ],
   "source": [
    "predict_1_2__3 = clst_dbscan(X_8, labels_true, eps=1.2, min_samples=3)"
   ]
  },
  {
   "cell_type": "code",
   "execution_count": 35,
   "metadata": {},
   "outputs": [
    {
     "name": "stdout",
     "output_type": "stream",
     "text": [
      "eps=1.3, min_samples=2\n",
      "number of predicted clusters: 79\n",
      "\n",
      "Silhouette_score: 0.300702185661932\n",
      "Homogeneity: 0.6260460649881088\n",
      "Completeness: 0.9349314252439658\n",
      "V-measure: 0.7499277132057675\n",
      "Adjusted Rand Index: 0.06534923868759006\n",
      "Adjusted Mutual Information: 0.6094045847393058\n"
     ]
    }
   ],
   "source": [
    "predict_1_3__2 = clst_dbscan(X_8, labels_true, eps=1.3, min_samples=2)"
   ]
  },
  {
   "cell_type": "code",
   "execution_count": 36,
   "metadata": {},
   "outputs": [],
   "source": [
    "meta_8 = meta.copy()\n",
    "\n",
    "meta_8['predict_1__3'] = predict_1__3\n",
    "meta_8['predict_1_2__2'] = predict_1_2__2\n",
    "meta_8['predict_1_2__3'] = predict_1_2__3\n",
    "meta_8['predict_1_3__2'] = predict_1_3__2"
   ]
  },
  {
   "cell_type": "code",
   "execution_count": 38,
   "metadata": {},
   "outputs": [
    {
     "data": {
      "text/html": [
       "<div>\n",
       "<style scoped>\n",
       "    .dataframe tbody tr th:only-of-type {\n",
       "        vertical-align: middle;\n",
       "    }\n",
       "\n",
       "    .dataframe tbody tr th {\n",
       "        vertical-align: top;\n",
       "    }\n",
       "\n",
       "    .dataframe thead th {\n",
       "        text-align: right;\n",
       "    }\n",
       "</style>\n",
       "<table border=\"1\" class=\"dataframe\">\n",
       "  <thead>\n",
       "    <tr style=\"text-align: right;\">\n",
       "      <th></th>\n",
       "      <th>org_id_name</th>\n",
       "      <th>gene_name</th>\n",
       "      <th>predict_1__3</th>\n",
       "      <th>predict_1_2__2</th>\n",
       "      <th>predict_1_2__3</th>\n",
       "      <th>predict_1_3__2</th>\n",
       "    </tr>\n",
       "  </thead>\n",
       "  <tbody>\n",
       "    <tr>\n",
       "      <th>0</th>\n",
       "      <td>0_Bacillus_amyloliquefaciens</td>\n",
       "      <td>pgk</td>\n",
       "      <td>0</td>\n",
       "      <td>0</td>\n",
       "      <td>0</td>\n",
       "      <td>0</td>\n",
       "    </tr>\n",
       "    <tr>\n",
       "      <th>1</th>\n",
       "      <td>0_Bacillus_amyloliquefaciens</td>\n",
       "      <td>rplW</td>\n",
       "      <td>1</td>\n",
       "      <td>1</td>\n",
       "      <td>1</td>\n",
       "      <td>1</td>\n",
       "    </tr>\n",
       "    <tr>\n",
       "      <th>2</th>\n",
       "      <td>0_Bacillus_amyloliquefaciens</td>\n",
       "      <td>rplE</td>\n",
       "      <td>2</td>\n",
       "      <td>2</td>\n",
       "      <td>2</td>\n",
       "      <td>2</td>\n",
       "    </tr>\n",
       "    <tr>\n",
       "      <th>3</th>\n",
       "      <td>0_Bacillus_amyloliquefaciens</td>\n",
       "      <td>rplC</td>\n",
       "      <td>3</td>\n",
       "      <td>3</td>\n",
       "      <td>3</td>\n",
       "      <td>3</td>\n",
       "    </tr>\n",
       "    <tr>\n",
       "      <th>4</th>\n",
       "      <td>0_Bacillus_amyloliquefaciens</td>\n",
       "      <td>rplF</td>\n",
       "      <td>4</td>\n",
       "      <td>4</td>\n",
       "      <td>4</td>\n",
       "      <td>4</td>\n",
       "    </tr>\n",
       "  </tbody>\n",
       "</table>\n",
       "</div>"
      ],
      "text/plain": [
       "                    org_id_name gene_name  predict_1__3  predict_1_2__2  \\\n",
       "0  0_Bacillus_amyloliquefaciens       pgk             0               0   \n",
       "1  0_Bacillus_amyloliquefaciens      rplW             1               1   \n",
       "2  0_Bacillus_amyloliquefaciens      rplE             2               2   \n",
       "3  0_Bacillus_amyloliquefaciens      rplC             3               3   \n",
       "4  0_Bacillus_amyloliquefaciens      rplF             4               4   \n",
       "\n",
       "   predict_1_2__3  predict_1_3__2  \n",
       "0               0               0  \n",
       "1               1               1  \n",
       "2               2               2  \n",
       "3               3               3  \n",
       "4               4               4  "
      ]
     },
     "execution_count": 38,
     "metadata": {},
     "output_type": "execute_result"
    }
   ],
   "source": [
    "meta_8.head()"
   ]
  },
  {
   "cell_type": "code",
   "execution_count": 39,
   "metadata": {},
   "outputs": [],
   "source": [
    "meta_8.to_csv('dna2vec_data/meta_1066genes_8grams_4preds.tsv', sep = '\\t', index=None)"
   ]
  },
  {
   "cell_type": "markdown",
   "metadata": {},
   "source": [
    "### DBSCAN Clustering (with plotting)"
   ]
  },
  {
   "cell_type": "markdown",
   "metadata": {},
   "source": [
    "Коэффициент силуэта: это отношение расстояний к центрам кластеров, нормированное так, что \"1\" идеально соответствует его кластеру и \"-1\" идеальное несоответствие."
   ]
  },
  {
   "cell_type": "code",
   "execution_count": 28,
   "metadata": {},
   "outputs": [],
   "source": [
    "plt.rcParams[\"figure.figsize\"] = (13,10)"
   ]
  },
  {
   "cell_type": "code",
   "execution_count": 29,
   "metadata": {},
   "outputs": [],
   "source": [
    "def clst_dbscan_plot(X, labels_true, eps=0.3, min_samples=2, plot=True):\n",
    "    print(f'\\n\\n\\neps={eps}, min_samples={min_samples}')\n",
    "    clst = DBSCAN(eps=eps, min_samples=min_samples).fit(X)\n",
    "    core_samples_mask = np.zeros_like(clst.labels_, dtype=bool)\n",
    "    core_samples_mask[clst.core_sample_indices_] = True\n",
    "\n",
    "    labels = clst.labels_\n",
    "    unique_labels = set(labels)\n",
    "    \n",
    "    # Number of clusters in labels, ignoring noise if present.\n",
    "    n_clusters_ = len(set(labels)) - (1 if -1 in labels else 0)\n",
    "    \n",
    "    print(f'Silhouette_score: {silhouette_score(X, labels)}')\n",
    "    print(f'Homogeneity: {homogeneity_score(labels_true, labels)}')\n",
    "    print(f'Completeness: {completeness_score(labels_true, labels)}')\n",
    "    print(f'V-measure: {v_measure_score(labels_true, labels)}')\n",
    "    print(f'Adjusted Rand Index: {adjusted_rand_score(labels_true, labels)}')\n",
    "    print(f'Adjusted Mutual Information: {adjusted_mutual_info_score(labels_true,labels,average_method=\"arithmetic\")}')\n",
    "    print('\\n\\n')\n",
    "    \n",
    "    if plot == False:\n",
    "        return\n",
    "    \n",
    "    colors = [plt.cm.Spectral(each)\n",
    "              for each in np.linspace(0, 1, len(unique_labels))]\n",
    "    \n",
    "    for k, col in zip(unique_labels, colors):\n",
    "        if k == -1:\n",
    "            # Black used for noise.\n",
    "            col = [0, 0, 0, 0.2]\n",
    "            \n",
    "        class_member_mask = (labels == k)\n",
    "        \n",
    "        xy = X[class_member_mask & core_samples_mask]\n",
    "        plt.plot(xy[:, 0], xy[:, 1], 'o', markerfacecolor=tuple(col),\n",
    "                 markeredgecolor='k', markersize=10)\n",
    "        \n",
    "        xy = X[class_member_mask & ~core_samples_mask]\n",
    "        plt.plot(xy[:, 0], xy[:, 1], 'o', markerfacecolor=tuple(col),\n",
    "                 markeredgecolor='k', markersize=6)\n",
    "        \n",
    "    plt.title('Estimated number of clusters: %d' % n_clusters_)\n",
    "    plt.show()"
   ]
  },
  {
   "cell_type": "code",
   "execution_count": 177,
   "metadata": {},
   "outputs": [
    {
     "name": "stdout",
     "output_type": "stream",
     "text": [
      "\n",
      "\n",
      "\n",
      "eps=1.5, min_samples=7\n",
      "Silhouette_score: 0.14956807350154028\n",
      "Homogeneity: 0.33339764309465664\n",
      "Completeness: 0.9764269742114591\n",
      "V-measure: 0.497071817944107\n",
      "Adjusted Rand Index: 0.018257548902428224\n",
      "Adjusted Mutual Information: 0.36567596265807173\n",
      "\n",
      "\n",
      "\n"
     ]
    },
    {
     "data": {
      "image/png": "[encoded data removed]",
      "text/plain": [
       "<Figure size 936x720 with 1 Axes>"
      ]
     },
     "metadata": {
      "needs_background": "light"
     },
     "output_type": "display_data"
    }
   ],
   "source": [
    "clst_dbscan_plot(X_5, labels_true, eps=1.5, min_samples=7)"
   ]
  },
  {
   "cell_type": "code",
   "execution_count": null,
   "metadata": {},
   "outputs": [],
   "source": [
    "for eps in range(2,22):\n",
    "    for min_samples in range(2, 5):\n",
    "        clst_dbscan_plot(X_5, labels_true, eps=eps/10, min_samples=min_samples, plot=True)"
   ]
  },
  {
   "cell_type": "code",
   "execution_count": null,
   "metadata": {},
   "outputs": [],
   "source": [
    "for eps in range(2,22):\n",
    "    for min_samples in range(2, 5):\n",
    "        clst_dbscan_plot(X_8, labels_true, eps=eps/10, min_samples=min_samples, plot=True)"
   ]
  },
  {
   "cell_type": "code",
   "execution_count": null,
   "metadata": {},
   "outputs": [],
   "source": []
  },
  {
   "cell_type": "code",
   "execution_count": null,
   "metadata": {},
   "outputs": [],
   "source": []
  }
 ],
 "metadata": {
  "kernelspec": {
   "display_name": "Python 3",
   "language": "python",
   "name": "python3"
  },
  "language_info": {
   "codemirror_mode": {
    "name": "ipython",
    "version": 3
   },
   "file_extension": ".py",
   "mimetype": "text/x-python",
   "name": "python",
   "nbconvert_exporter": "python",
   "pygments_lexer": "ipython3",
   "version": "3.7.3"
  }
 },
 "nbformat": 4,
 "nbformat_minor": 2
}
